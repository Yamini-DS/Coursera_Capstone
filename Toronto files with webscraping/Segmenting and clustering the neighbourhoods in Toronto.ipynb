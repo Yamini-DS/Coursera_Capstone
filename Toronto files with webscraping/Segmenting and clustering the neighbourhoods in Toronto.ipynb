{
 "cells": [
  {
   "cell_type": "code",
   "execution_count": 1,
   "metadata": {},
   "outputs": [],
   "source": [
    "from IPython.core.interactiveshell import InteractiveShell\n",
    "InteractiveShell.ast_node_interactivity = \"all\""
   ]
  },
  {
   "cell_type": "code",
   "execution_count": 7,
   "metadata": {},
   "outputs": [
    {
     "name": "stdout",
     "output_type": "stream",
     "text": [
      "Requirement already satisfied: geopy in c:\\users\\peddi\\anaconda3\\lib\\site-packages (2.0.0)\n",
      "Requirement already satisfied: geographiclib<2,>=1.49 in c:\\users\\peddi\\anaconda3\\lib\\site-packages (from geopy) (1.50)\n"
     ]
    }
   ],
   "source": [
    "import numpy as np # library to handle data in a vectorized manner\n",
    "import os\n",
    "import pandas as pd # library for data analsysis\n",
    "pd.set_option('display.max_columns', None)\n",
    "pd.set_option('display.max_rows', None)\n",
    "\n",
    "import json # library to handle JSON files\n",
    "\n",
    "#!conda install -c conda-forge geopy --yes # uncomment this line if you haven't completed the Foursquare API lab\n",
    "!pip install geopy\n",
    "from geopy.geocoders import Nominatim # convert an address into latitude and longitude values\n",
    "\n",
    "import requests # library to handle requests\n",
    "from pandas.io.json import json_normalize # tranform JSON file into a pandas dataframe\n",
    "\n",
    "# Matplotlib and associated plotting modules\n",
    "import matplotlib.cm as cm\n",
    "import matplotlib.colors as colors\n",
    "\n",
    "# import k-means from clustering stage\n",
    "from sklearn.cluster import KMeans\n",
    "\n",
    "#!conda install -c conda-forge folium=0.5.0 --yes # uncomment this line if you haven't completed the Foursquare API lab\n",
    "#!pip install foilum\n",
    "#import folium # map rendering library"
   ]
  },
  {
   "cell_type": "code",
   "execution_count": 10,
   "metadata": {},
   "outputs": [],
   "source": [
    "import folium"
   ]
  },
  {
   "cell_type": "code",
   "execution_count": 11,
   "metadata": {},
   "outputs": [
    {
     "data": {
      "text/plain": [
       "'C:\\\\Users\\\\peddi'"
      ]
     },
     "execution_count": 11,
     "metadata": {},
     "output_type": "execute_result"
    }
   ],
   "source": [
    "os.getcwd()"
   ]
  },
  {
   "cell_type": "code",
   "execution_count": 12,
   "metadata": {},
   "outputs": [],
   "source": [
    "os.chdir('D:\\Data science\\DS Coursera IBM\\Capstone project\\Toronto project')"
   ]
  },
  {
   "cell_type": "code",
   "execution_count": 70,
   "metadata": {},
   "outputs": [
    {
     "data": {
      "text/html": [
       "<div>\n",
       "<style scoped>\n",
       "    .dataframe tbody tr th:only-of-type {\n",
       "        vertical-align: middle;\n",
       "    }\n",
       "\n",
       "    .dataframe tbody tr th {\n",
       "        vertical-align: top;\n",
       "    }\n",
       "\n",
       "    .dataframe thead th {\n",
       "        text-align: right;\n",
       "    }\n",
       "</style>\n",
       "<table border=\"1\" class=\"dataframe\">\n",
       "  <thead>\n",
       "    <tr style=\"text-align: right;\">\n",
       "      <th></th>\n",
       "      <th>Postal Code</th>\n",
       "      <th>Borough</th>\n",
       "      <th>Neighbourhood</th>\n",
       "      <th>Latitude</th>\n",
       "      <th>Longitude</th>\n",
       "    </tr>\n",
       "  </thead>\n",
       "  <tbody>\n",
       "    <tr>\n",
       "      <th>0</th>\n",
       "      <td>M3A</td>\n",
       "      <td>North York</td>\n",
       "      <td>Parkwoods</td>\n",
       "      <td>43.753259</td>\n",
       "      <td>-79.329656</td>\n",
       "    </tr>\n",
       "    <tr>\n",
       "      <th>1</th>\n",
       "      <td>M4A</td>\n",
       "      <td>North York</td>\n",
       "      <td>Victoria Village</td>\n",
       "      <td>43.725882</td>\n",
       "      <td>-79.315572</td>\n",
       "    </tr>\n",
       "    <tr>\n",
       "      <th>2</th>\n",
       "      <td>M5A</td>\n",
       "      <td>Downtown Toronto</td>\n",
       "      <td>Regent Park, Harbourfront</td>\n",
       "      <td>43.654260</td>\n",
       "      <td>-79.360636</td>\n",
       "    </tr>\n",
       "    <tr>\n",
       "      <th>3</th>\n",
       "      <td>M6A</td>\n",
       "      <td>North York</td>\n",
       "      <td>Lawrence Manor, Lawrence Heights</td>\n",
       "      <td>43.718518</td>\n",
       "      <td>-79.464763</td>\n",
       "    </tr>\n",
       "    <tr>\n",
       "      <th>4</th>\n",
       "      <td>M7A</td>\n",
       "      <td>Downtown Toronto</td>\n",
       "      <td>Queen's Park, Ontario Provincial Government</td>\n",
       "      <td>43.662301</td>\n",
       "      <td>-79.389494</td>\n",
       "    </tr>\n",
       "  </tbody>\n",
       "</table>\n",
       "</div>"
      ],
      "text/plain": [
       "  Postal Code           Borough                                Neighbourhood  \\\n",
       "0         M3A        North York                                    Parkwoods   \n",
       "1         M4A        North York                             Victoria Village   \n",
       "2         M5A  Downtown Toronto                    Regent Park, Harbourfront   \n",
       "3         M6A        North York             Lawrence Manor, Lawrence Heights   \n",
       "4         M7A  Downtown Toronto  Queen's Park, Ontario Provincial Government   \n",
       "\n",
       "    Latitude  Longitude  \n",
       "0  43.753259 -79.329656  \n",
       "1  43.725882 -79.315572  \n",
       "2  43.654260 -79.360636  \n",
       "3  43.718518 -79.464763  \n",
       "4  43.662301 -79.389494  "
      ]
     },
     "execution_count": 70,
     "metadata": {},
     "output_type": "execute_result"
    }
   ],
   "source": [
    "df=pd.read_csv('toronto_with_latnlong.csv')\n",
    "df.head()"
   ]
  },
  {
   "cell_type": "code",
   "execution_count": 71,
   "metadata": {},
   "outputs": [
    {
     "data": {
      "text/plain": [
       "(103, 5)"
      ]
     },
     "execution_count": 71,
     "metadata": {},
     "output_type": "execute_result"
    }
   ],
   "source": [
    "df.shape"
   ]
  },
  {
   "cell_type": "code",
   "execution_count": 72,
   "metadata": {},
   "outputs": [
    {
     "data": {
      "text/plain": [
       "99"
      ]
     },
     "execution_count": 72,
     "metadata": {},
     "output_type": "execute_result"
    }
   ],
   "source": [
    "len(df['Neighbourhood'].unique())"
   ]
  },
  {
   "cell_type": "code",
   "execution_count": 73,
   "metadata": {},
   "outputs": [
    {
     "name": "stdout",
     "output_type": "stream",
     "text": [
      "The dataframe has 10 different boroughs and 99 different neighborhoods.\n"
     ]
    }
   ],
   "source": [
    "print('The dataframe has {} different boroughs and {} different neighborhoods.'.format(\n",
    "        len(df['Borough'].unique()),len(df['Neighbourhood'].unique())))"
   ]
  },
  {
   "cell_type": "code",
   "execution_count": 74,
   "metadata": {},
   "outputs": [
    {
     "name": "stdout",
     "output_type": "stream",
     "text": [
      "The geograpical coordinate of Toronto city are 43.6534817, -79.3839347.\n"
     ]
    }
   ],
   "source": [
    "address = 'Toronto, Ontario'\n",
    "\n",
    "geolocator = Nominatim(user_agent=\"toronto_explorer\")\n",
    "location = geolocator.geocode(address)\n",
    "latitude = location.latitude\n",
    "longitude = location.longitude\n",
    "print('The geograpical coordinate of Toronto city are {}, {}.'.format(latitude, longitude))"
   ]
  },
  {
   "cell_type": "markdown",
   "metadata": {},
   "source": [
    "#### Create a map of New York with neighborhoods or the points of df or the toronto data superimposed on top."
   ]
  },
  {
   "cell_type": "code",
   "execution_count": 75,
   "metadata": {},
   "outputs": [
    {
     "data": {
      "text/plain": [
       "<folium.vector_layers.CircleMarker at 0x2569b47df10>"
      ]
     },
     "execution_count": 75,
     "metadata": {},
     "output_type": "execute_result"
    },
    {
     "data": {
      "text/plain": [
       "<folium.vector_layers.CircleMarker at 0x2569b47d160>"
      ]
     },
     "execution_count": 75,
     "metadata": {},
     "output_type": "execute_result"
    },
    {
     "data": {
      "text/plain": [
       "<folium.vector_layers.CircleMarker at 0x2569b47d820>"
      ]
     },
     "execution_count": 75,
     "metadata": {},
     "output_type": "execute_result"
    },
    {
     "data": {
      "text/plain": [
       "<folium.vector_layers.CircleMarker at 0x2569b47d430>"
      ]
     },
     "execution_count": 75,
     "metadata": {},
     "output_type": "execute_result"
    },
    {
     "data": {
      "text/plain": [
       "<folium.vector_layers.CircleMarker at 0x2569b47d610>"
      ]
     },
     "execution_count": 75,
     "metadata": {},
     "output_type": "execute_result"
    },
    {
     "data": {
      "text/plain": [
       "<folium.vector_layers.CircleMarker at 0x2569b47d580>"
      ]
     },
     "execution_count": 75,
     "metadata": {},
     "output_type": "execute_result"
    },
    {
     "data": {
      "text/plain": [
       "<folium.vector_layers.CircleMarker at 0x2569b035760>"
      ]
     },
     "execution_count": 75,
     "metadata": {},
     "output_type": "execute_result"
    },
    {
     "data": {
      "text/plain": [
       "<folium.vector_layers.CircleMarker at 0x2569b035580>"
      ]
     },
     "execution_count": 75,
     "metadata": {},
     "output_type": "execute_result"
    },
    {
     "data": {
      "text/plain": [
       "<folium.vector_layers.CircleMarker at 0x2569b035460>"
      ]
     },
     "execution_count": 75,
     "metadata": {},
     "output_type": "execute_result"
    },
    {
     "data": {
      "text/plain": [
       "<folium.vector_layers.CircleMarker at 0x2569b035820>"
      ]
     },
     "execution_count": 75,
     "metadata": {},
     "output_type": "execute_result"
    },
    {
     "data": {
      "text/plain": [
       "<folium.vector_layers.CircleMarker at 0x2569b480880>"
      ]
     },
     "execution_count": 75,
     "metadata": {},
     "output_type": "execute_result"
    },
    {
     "data": {
      "text/plain": [
       "<folium.vector_layers.CircleMarker at 0x2569b480cd0>"
      ]
     },
     "execution_count": 75,
     "metadata": {},
     "output_type": "execute_result"
    },
    {
     "data": {
      "text/plain": [
       "<folium.vector_layers.CircleMarker at 0x2569b480d60>"
      ]
     },
     "execution_count": 75,
     "metadata": {},
     "output_type": "execute_result"
    },
    {
     "data": {
      "text/plain": [
       "<folium.vector_layers.CircleMarker at 0x2569b480850>"
      ]
     },
     "execution_count": 75,
     "metadata": {},
     "output_type": "execute_result"
    },
    {
     "data": {
      "text/plain": [
       "<folium.vector_layers.CircleMarker at 0x2569b480250>"
      ]
     },
     "execution_count": 75,
     "metadata": {},
     "output_type": "execute_result"
    },
    {
     "data": {
      "text/plain": [
       "<folium.vector_layers.CircleMarker at 0x2569b4801f0>"
      ]
     },
     "execution_count": 75,
     "metadata": {},
     "output_type": "execute_result"
    },
    {
     "data": {
      "text/plain": [
       "<folium.vector_layers.CircleMarker at 0x2569b480fd0>"
      ]
     },
     "execution_count": 75,
     "metadata": {},
     "output_type": "execute_result"
    },
    {
     "data": {
      "text/plain": [
       "<folium.vector_layers.CircleMarker at 0x2569b480a60>"
      ]
     },
     "execution_count": 75,
     "metadata": {},
     "output_type": "execute_result"
    },
    {
     "data": {
      "text/plain": [
       "<folium.vector_layers.CircleMarker at 0x2569b480550>"
      ]
     },
     "execution_count": 75,
     "metadata": {},
     "output_type": "execute_result"
    },
    {
     "data": {
      "text/plain": [
       "<folium.vector_layers.CircleMarker at 0x2569b3a2b20>"
      ]
     },
     "execution_count": 75,
     "metadata": {},
     "output_type": "execute_result"
    },
    {
     "data": {
      "text/plain": [
       "<folium.vector_layers.CircleMarker at 0x2569b465ee0>"
      ]
     },
     "execution_count": 75,
     "metadata": {},
     "output_type": "execute_result"
    },
    {
     "data": {
      "text/plain": [
       "<folium.vector_layers.CircleMarker at 0x2569b465df0>"
      ]
     },
     "execution_count": 75,
     "metadata": {},
     "output_type": "execute_result"
    },
    {
     "data": {
      "text/plain": [
       "<folium.vector_layers.CircleMarker at 0x2569b465b80>"
      ]
     },
     "execution_count": 75,
     "metadata": {},
     "output_type": "execute_result"
    },
    {
     "data": {
      "text/plain": [
       "<folium.vector_layers.CircleMarker at 0x2569b465d30>"
      ]
     },
     "execution_count": 75,
     "metadata": {},
     "output_type": "execute_result"
    },
    {
     "data": {
      "text/plain": [
       "<folium.vector_layers.CircleMarker at 0x2569b465250>"
      ]
     },
     "execution_count": 75,
     "metadata": {},
     "output_type": "execute_result"
    },
    {
     "data": {
      "text/plain": [
       "<folium.vector_layers.CircleMarker at 0x2569b465370>"
      ]
     },
     "execution_count": 75,
     "metadata": {},
     "output_type": "execute_result"
    },
    {
     "data": {
      "text/plain": [
       "<folium.vector_layers.CircleMarker at 0x2569b4522b0>"
      ]
     },
     "execution_count": 75,
     "metadata": {},
     "output_type": "execute_result"
    },
    {
     "data": {
      "text/plain": [
       "<folium.vector_layers.CircleMarker at 0x2569b452310>"
      ]
     },
     "execution_count": 75,
     "metadata": {},
     "output_type": "execute_result"
    },
    {
     "data": {
      "text/plain": [
       "<folium.vector_layers.CircleMarker at 0x2569b452be0>"
      ]
     },
     "execution_count": 75,
     "metadata": {},
     "output_type": "execute_result"
    },
    {
     "data": {
      "text/plain": [
       "<folium.vector_layers.CircleMarker at 0x2569b452ee0>"
      ]
     },
     "execution_count": 75,
     "metadata": {},
     "output_type": "execute_result"
    },
    {
     "data": {
      "text/plain": [
       "<folium.vector_layers.CircleMarker at 0x2569b4524f0>"
      ]
     },
     "execution_count": 75,
     "metadata": {},
     "output_type": "execute_result"
    },
    {
     "data": {
      "text/plain": [
       "<folium.vector_layers.CircleMarker at 0x2569aee1d00>"
      ]
     },
     "execution_count": 75,
     "metadata": {},
     "output_type": "execute_result"
    },
    {
     "data": {
      "text/plain": [
       "<folium.vector_layers.CircleMarker at 0x2569aee1730>"
      ]
     },
     "execution_count": 75,
     "metadata": {},
     "output_type": "execute_result"
    },
    {
     "data": {
      "text/plain": [
       "<folium.vector_layers.CircleMarker at 0x2569b460e20>"
      ]
     },
     "execution_count": 75,
     "metadata": {},
     "output_type": "execute_result"
    },
    {
     "data": {
      "text/plain": [
       "<folium.vector_layers.CircleMarker at 0x2569b4607f0>"
      ]
     },
     "execution_count": 75,
     "metadata": {},
     "output_type": "execute_result"
    },
    {
     "data": {
      "text/plain": [
       "<folium.vector_layers.CircleMarker at 0x2569b460730>"
      ]
     },
     "execution_count": 75,
     "metadata": {},
     "output_type": "execute_result"
    },
    {
     "data": {
      "text/plain": [
       "<folium.vector_layers.CircleMarker at 0x2569b4603a0>"
      ]
     },
     "execution_count": 75,
     "metadata": {},
     "output_type": "execute_result"
    },
    {
     "data": {
      "text/plain": [
       "<folium.vector_layers.CircleMarker at 0x2569b460070>"
      ]
     },
     "execution_count": 75,
     "metadata": {},
     "output_type": "execute_result"
    },
    {
     "data": {
      "text/plain": [
       "<folium.vector_layers.CircleMarker at 0x2569b460220>"
      ]
     },
     "execution_count": 75,
     "metadata": {},
     "output_type": "execute_result"
    },
    {
     "data": {
      "text/plain": [
       "<folium.vector_layers.CircleMarker at 0x2569b460a00>"
      ]
     },
     "execution_count": 75,
     "metadata": {},
     "output_type": "execute_result"
    },
    {
     "data": {
      "text/plain": [
       "<folium.vector_layers.CircleMarker at 0x2569af05790>"
      ]
     },
     "execution_count": 75,
     "metadata": {},
     "output_type": "execute_result"
    },
    {
     "data": {
      "text/plain": [
       "<folium.vector_layers.CircleMarker at 0x2569af05dc0>"
      ]
     },
     "execution_count": 75,
     "metadata": {},
     "output_type": "execute_result"
    },
    {
     "data": {
      "text/plain": [
       "<folium.vector_layers.CircleMarker at 0x2569af05a30>"
      ]
     },
     "execution_count": 75,
     "metadata": {},
     "output_type": "execute_result"
    },
    {
     "data": {
      "text/plain": [
       "<folium.vector_layers.CircleMarker at 0x2569af05e80>"
      ]
     },
     "execution_count": 75,
     "metadata": {},
     "output_type": "execute_result"
    },
    {
     "data": {
      "text/plain": [
       "<folium.vector_layers.CircleMarker at 0x2569af05d30>"
      ]
     },
     "execution_count": 75,
     "metadata": {},
     "output_type": "execute_result"
    },
    {
     "data": {
      "text/plain": [
       "<folium.vector_layers.CircleMarker at 0x2569af059a0>"
      ]
     },
     "execution_count": 75,
     "metadata": {},
     "output_type": "execute_result"
    },
    {
     "data": {
      "text/plain": [
       "<folium.vector_layers.CircleMarker at 0x2569b463700>"
      ]
     },
     "execution_count": 75,
     "metadata": {},
     "output_type": "execute_result"
    },
    {
     "data": {
      "text/plain": [
       "<folium.vector_layers.CircleMarker at 0x2569b4636a0>"
      ]
     },
     "execution_count": 75,
     "metadata": {},
     "output_type": "execute_result"
    },
    {
     "data": {
      "text/plain": [
       "<folium.vector_layers.CircleMarker at 0x2569b4630a0>"
      ]
     },
     "execution_count": 75,
     "metadata": {},
     "output_type": "execute_result"
    },
    {
     "data": {
      "text/plain": [
       "<folium.vector_layers.CircleMarker at 0x2569b463130>"
      ]
     },
     "execution_count": 75,
     "metadata": {},
     "output_type": "execute_result"
    },
    {
     "data": {
      "text/plain": [
       "<folium.vector_layers.CircleMarker at 0x2569b463580>"
      ]
     },
     "execution_count": 75,
     "metadata": {},
     "output_type": "execute_result"
    },
    {
     "data": {
      "text/plain": [
       "<folium.vector_layers.CircleMarker at 0x2569b463af0>"
      ]
     },
     "execution_count": 75,
     "metadata": {},
     "output_type": "execute_result"
    },
    {
     "data": {
      "text/plain": [
       "<folium.vector_layers.CircleMarker at 0x2569b463c10>"
      ]
     },
     "execution_count": 75,
     "metadata": {},
     "output_type": "execute_result"
    },
    {
     "data": {
      "text/plain": [
       "<folium.vector_layers.CircleMarker at 0x2569b463f70>"
      ]
     },
     "execution_count": 75,
     "metadata": {},
     "output_type": "execute_result"
    },
    {
     "data": {
      "text/plain": [
       "<folium.vector_layers.CircleMarker at 0x2569b463a00>"
      ]
     },
     "execution_count": 75,
     "metadata": {},
     "output_type": "execute_result"
    },
    {
     "data": {
      "text/plain": [
       "<folium.vector_layers.CircleMarker at 0x2569b48dc70>"
      ]
     },
     "execution_count": 75,
     "metadata": {},
     "output_type": "execute_result"
    },
    {
     "data": {
      "text/plain": [
       "<folium.vector_layers.CircleMarker at 0x2569b48dfd0>"
      ]
     },
     "execution_count": 75,
     "metadata": {},
     "output_type": "execute_result"
    },
    {
     "data": {
      "text/plain": [
       "<folium.vector_layers.CircleMarker at 0x2569b48df10>"
      ]
     },
     "execution_count": 75,
     "metadata": {},
     "output_type": "execute_result"
    },
    {
     "data": {
      "text/plain": [
       "<folium.vector_layers.CircleMarker at 0x2569b48da90>"
      ]
     },
     "execution_count": 75,
     "metadata": {},
     "output_type": "execute_result"
    },
    {
     "data": {
      "text/plain": [
       "<folium.vector_layers.CircleMarker at 0x2569b48d370>"
      ]
     },
     "execution_count": 75,
     "metadata": {},
     "output_type": "execute_result"
    },
    {
     "data": {
      "text/plain": [
       "<folium.vector_layers.CircleMarker at 0x2569b48d550>"
      ]
     },
     "execution_count": 75,
     "metadata": {},
     "output_type": "execute_result"
    },
    {
     "data": {
      "text/plain": [
       "<folium.vector_layers.CircleMarker at 0x2569b48d100>"
      ]
     },
     "execution_count": 75,
     "metadata": {},
     "output_type": "execute_result"
    },
    {
     "data": {
      "text/plain": [
       "<folium.vector_layers.CircleMarker at 0x2569b48d220>"
      ]
     },
     "execution_count": 75,
     "metadata": {},
     "output_type": "execute_result"
    },
    {
     "data": {
      "text/plain": [
       "<folium.vector_layers.CircleMarker at 0x2569b48dac0>"
      ]
     },
     "execution_count": 75,
     "metadata": {},
     "output_type": "execute_result"
    },
    {
     "data": {
      "text/plain": [
       "<folium.vector_layers.CircleMarker at 0x2569af5eca0>"
      ]
     },
     "execution_count": 75,
     "metadata": {},
     "output_type": "execute_result"
    },
    {
     "data": {
      "text/plain": [
       "<folium.vector_layers.CircleMarker at 0x2569af5e040>"
      ]
     },
     "execution_count": 75,
     "metadata": {},
     "output_type": "execute_result"
    },
    {
     "data": {
      "text/plain": [
       "<folium.vector_layers.CircleMarker at 0x2569af5e3d0>"
      ]
     },
     "execution_count": 75,
     "metadata": {},
     "output_type": "execute_result"
    },
    {
     "data": {
      "text/plain": [
       "<folium.vector_layers.CircleMarker at 0x2569b48d490>"
      ]
     },
     "execution_count": 75,
     "metadata": {},
     "output_type": "execute_result"
    },
    {
     "data": {
      "text/plain": [
       "<folium.vector_layers.CircleMarker at 0x2569b48db20>"
      ]
     },
     "execution_count": 75,
     "metadata": {},
     "output_type": "execute_result"
    },
    {
     "data": {
      "text/plain": [
       "<folium.vector_layers.CircleMarker at 0x2569b3a22b0>"
      ]
     },
     "execution_count": 75,
     "metadata": {},
     "output_type": "execute_result"
    },
    {
     "data": {
      "text/plain": [
       "<folium.vector_layers.CircleMarker at 0x2569b2e70a0>"
      ]
     },
     "execution_count": 75,
     "metadata": {},
     "output_type": "execute_result"
    },
    {
     "data": {
      "text/plain": [
       "<folium.vector_layers.CircleMarker at 0x2569b482c10>"
      ]
     },
     "execution_count": 75,
     "metadata": {},
     "output_type": "execute_result"
    },
    {
     "data": {
      "text/plain": [
       "<folium.vector_layers.CircleMarker at 0x2569b4828b0>"
      ]
     },
     "execution_count": 75,
     "metadata": {},
     "output_type": "execute_result"
    },
    {
     "data": {
      "text/plain": [
       "<folium.vector_layers.CircleMarker at 0x2569b482c70>"
      ]
     },
     "execution_count": 75,
     "metadata": {},
     "output_type": "execute_result"
    },
    {
     "data": {
      "text/plain": [
       "<folium.vector_layers.CircleMarker at 0x2569b482550>"
      ]
     },
     "execution_count": 75,
     "metadata": {},
     "output_type": "execute_result"
    },
    {
     "data": {
      "text/plain": [
       "<folium.vector_layers.CircleMarker at 0x2569bb913a0>"
      ]
     },
     "execution_count": 75,
     "metadata": {},
     "output_type": "execute_result"
    },
    {
     "data": {
      "text/plain": [
       "<folium.vector_layers.CircleMarker at 0x2569af5efd0>"
      ]
     },
     "execution_count": 75,
     "metadata": {},
     "output_type": "execute_result"
    },
    {
     "data": {
      "text/plain": [
       "<folium.vector_layers.CircleMarker at 0x2569af5ec70>"
      ]
     },
     "execution_count": 75,
     "metadata": {},
     "output_type": "execute_result"
    },
    {
     "data": {
      "text/plain": [
       "<folium.vector_layers.CircleMarker at 0x2569af5e8b0>"
      ]
     },
     "execution_count": 75,
     "metadata": {},
     "output_type": "execute_result"
    },
    {
     "data": {
      "text/plain": [
       "<folium.vector_layers.CircleMarker at 0x2569af5e970>"
      ]
     },
     "execution_count": 75,
     "metadata": {},
     "output_type": "execute_result"
    },
    {
     "data": {
      "text/plain": [
       "<folium.vector_layers.CircleMarker at 0x2569af5eac0>"
      ]
     },
     "execution_count": 75,
     "metadata": {},
     "output_type": "execute_result"
    },
    {
     "data": {
      "text/plain": [
       "<folium.vector_layers.CircleMarker at 0x2569af5e310>"
      ]
     },
     "execution_count": 75,
     "metadata": {},
     "output_type": "execute_result"
    },
    {
     "data": {
      "text/plain": [
       "<folium.vector_layers.CircleMarker at 0x2569af5ef40>"
      ]
     },
     "execution_count": 75,
     "metadata": {},
     "output_type": "execute_result"
    },
    {
     "data": {
      "text/plain": [
       "<folium.vector_layers.CircleMarker at 0x2569af5e400>"
      ]
     },
     "execution_count": 75,
     "metadata": {},
     "output_type": "execute_result"
    },
    {
     "data": {
      "text/plain": [
       "<folium.vector_layers.CircleMarker at 0x2569b04c400>"
      ]
     },
     "execution_count": 75,
     "metadata": {},
     "output_type": "execute_result"
    },
    {
     "data": {
      "text/plain": [
       "<folium.vector_layers.CircleMarker at 0x2569b04c220>"
      ]
     },
     "execution_count": 75,
     "metadata": {},
     "output_type": "execute_result"
    },
    {
     "data": {
      "text/plain": [
       "<folium.vector_layers.CircleMarker at 0x2569b04c700>"
      ]
     },
     "execution_count": 75,
     "metadata": {},
     "output_type": "execute_result"
    },
    {
     "data": {
      "text/plain": [
       "<folium.vector_layers.CircleMarker at 0x2569b04c280>"
      ]
     },
     "execution_count": 75,
     "metadata": {},
     "output_type": "execute_result"
    },
    {
     "data": {
      "text/plain": [
       "<folium.vector_layers.CircleMarker at 0x2569b488730>"
      ]
     },
     "execution_count": 75,
     "metadata": {},
     "output_type": "execute_result"
    },
    {
     "data": {
      "text/plain": [
       "<folium.vector_layers.CircleMarker at 0x2569b488f70>"
      ]
     },
     "execution_count": 75,
     "metadata": {},
     "output_type": "execute_result"
    },
    {
     "data": {
      "text/plain": [
       "<folium.vector_layers.CircleMarker at 0x2569b488a90>"
      ]
     },
     "execution_count": 75,
     "metadata": {},
     "output_type": "execute_result"
    },
    {
     "data": {
      "text/plain": [
       "<folium.vector_layers.CircleMarker at 0x2569b488a00>"
      ]
     },
     "execution_count": 75,
     "metadata": {},
     "output_type": "execute_result"
    },
    {
     "data": {
      "text/plain": [
       "<folium.vector_layers.CircleMarker at 0x2569b488f40>"
      ]
     },
     "execution_count": 75,
     "metadata": {},
     "output_type": "execute_result"
    },
    {
     "data": {
      "text/plain": [
       "<folium.vector_layers.CircleMarker at 0x2569b488d30>"
      ]
     },
     "execution_count": 75,
     "metadata": {},
     "output_type": "execute_result"
    },
    {
     "data": {
      "text/plain": [
       "<folium.vector_layers.CircleMarker at 0x2569b488310>"
      ]
     },
     "execution_count": 75,
     "metadata": {},
     "output_type": "execute_result"
    },
    {
     "data": {
      "text/plain": [
       "<folium.vector_layers.CircleMarker at 0x2569b488be0>"
      ]
     },
     "execution_count": 75,
     "metadata": {},
     "output_type": "execute_result"
    },
    {
     "data": {
      "text/plain": [
       "<folium.vector_layers.CircleMarker at 0x2569b488820>"
      ]
     },
     "execution_count": 75,
     "metadata": {},
     "output_type": "execute_result"
    },
    {
     "data": {
      "text/plain": [
       "<folium.vector_layers.CircleMarker at 0x2569b488550>"
      ]
     },
     "execution_count": 75,
     "metadata": {},
     "output_type": "execute_result"
    },
    {
     "data": {
      "text/plain": [
       "<folium.vector_layers.CircleMarker at 0x2569b4887c0>"
      ]
     },
     "execution_count": 75,
     "metadata": {},
     "output_type": "execute_result"
    },
    {
     "data": {
      "text/plain": [
       "<folium.vector_layers.CircleMarker at 0x2569b4884c0>"
      ]
     },
     "execution_count": 75,
     "metadata": {},
     "output_type": "execute_result"
    },
    {
     "data": {
      "text/plain": [
       "<folium.vector_layers.CircleMarker at 0x2569af62280>"
      ]
     },
     "execution_count": 75,
     "metadata": {},
     "output_type": "execute_result"
    },
    {
     "data": {
      "text/plain": [
       "<folium.vector_layers.CircleMarker at 0x2569bb71fa0>"
      ]
     },
     "execution_count": 75,
     "metadata": {},
     "output_type": "execute_result"
    },
    {
     "data": {
      "text/plain": [
       "<folium.vector_layers.CircleMarker at 0x2569bb71dc0>"
      ]
     },
     "execution_count": 75,
     "metadata": {},
     "output_type": "execute_result"
    },
    {
     "data": {
      "text/html": [
       "<div style=\"width:100%;\"><div style=\"position:relative;width:100%;height:0;padding-bottom:60%;\"><span style=\"color:#565656\">Make this Notebook Trusted to load map: File -> Trust Notebook</span><iframe src=\"about:blank\" style=\"position:absolute;width:100%;height:100%;left:0;top:0;border:none !important;\" data-html=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 onload=\"this.contentDocument.open();this.contentDocument.write(atob(this.getAttribute('data-html')));this.contentDocument.close();\" allowfullscreen webkitallowfullscreen mozallowfullscreen></iframe></div></div>"
      ],
      "text/plain": [
       "<folium.folium.Map at 0x2569bb61ca0>"
      ]
     },
     "execution_count": 75,
     "metadata": {},
     "output_type": "execute_result"
    }
   ],
   "source": [
    "# create map of New York using latitude and longitude values\n",
    "map_toronto = folium.Map(location=[latitude, longitude], zoom_start=10);\n",
    "\n",
    "# add markers to map\n",
    "for lat, lng, borough, neighbourhood in zip(df['Latitude'],df['Longitude'],df['Borough'],df['Neighbourhood']):\n",
    "    label = '{}, {}'.format(neighbourhood, borough);\n",
    "    label = folium.Popup(label, parse_html=True);\n",
    "    folium.CircleMarker([lat, lng],radius=5,popup=label,color='blue',fill=True,fill_color='#3186cc',fill_opacity=0.7,\n",
    "        parse_html=False).add_to(map_toronto); \n",
    "map_toronto"
   ]
  },
  {
   "cell_type": "code",
   "execution_count": 76,
   "metadata": {},
   "outputs": [
    {
     "data": {
      "text/plain": [
       "array(['North York', 'Downtown Toronto', 'Etobicoke', 'Scarborough',\n",
       "       'East York', 'York', 'East Toronto', 'West Toronto',\n",
       "       'Central Toronto', 'Mississauga'], dtype=object)"
      ]
     },
     "execution_count": 76,
     "metadata": {},
     "output_type": "execute_result"
    }
   ],
   "source": [
    "df['Borough'].unique()"
   ]
  },
  {
   "cell_type": "code",
   "execution_count": 77,
   "metadata": {},
   "outputs": [
    {
     "data": {
      "text/html": [
       "<div>\n",
       "<style scoped>\n",
       "    .dataframe tbody tr th:only-of-type {\n",
       "        vertical-align: middle;\n",
       "    }\n",
       "\n",
       "    .dataframe tbody tr th {\n",
       "        vertical-align: top;\n",
       "    }\n",
       "\n",
       "    .dataframe thead th {\n",
       "        text-align: right;\n",
       "    }\n",
       "</style>\n",
       "<table border=\"1\" class=\"dataframe\">\n",
       "  <thead>\n",
       "    <tr style=\"text-align: right;\">\n",
       "      <th></th>\n",
       "      <th>Postal Code</th>\n",
       "      <th>Borough</th>\n",
       "      <th>Neighbourhood</th>\n",
       "      <th>Latitude</th>\n",
       "      <th>Longitude</th>\n",
       "    </tr>\n",
       "  </thead>\n",
       "  <tbody>\n",
       "    <tr>\n",
       "      <th>0</th>\n",
       "      <td>M4N</td>\n",
       "      <td>Central Toronto</td>\n",
       "      <td>Lawrence Park</td>\n",
       "      <td>43.728020</td>\n",
       "      <td>-79.388790</td>\n",
       "    </tr>\n",
       "    <tr>\n",
       "      <th>1</th>\n",
       "      <td>M5N</td>\n",
       "      <td>Central Toronto</td>\n",
       "      <td>Roselawn</td>\n",
       "      <td>43.711695</td>\n",
       "      <td>-79.416936</td>\n",
       "    </tr>\n",
       "    <tr>\n",
       "      <th>2</th>\n",
       "      <td>M4P</td>\n",
       "      <td>Central Toronto</td>\n",
       "      <td>Davisville North</td>\n",
       "      <td>43.712751</td>\n",
       "      <td>-79.390197</td>\n",
       "    </tr>\n",
       "    <tr>\n",
       "      <th>3</th>\n",
       "      <td>M5P</td>\n",
       "      <td>Central Toronto</td>\n",
       "      <td>Forest Hill North &amp; West, Forest Hill Road Park</td>\n",
       "      <td>43.696948</td>\n",
       "      <td>-79.411307</td>\n",
       "    </tr>\n",
       "    <tr>\n",
       "      <th>4</th>\n",
       "      <td>M4R</td>\n",
       "      <td>Central Toronto</td>\n",
       "      <td>North Toronto West,  Lawrence Park</td>\n",
       "      <td>43.715383</td>\n",
       "      <td>-79.405678</td>\n",
       "    </tr>\n",
       "  </tbody>\n",
       "</table>\n",
       "</div>"
      ],
      "text/plain": [
       "  Postal Code          Borough  \\\n",
       "0         M4N  Central Toronto   \n",
       "1         M5N  Central Toronto   \n",
       "2         M4P  Central Toronto   \n",
       "3         M5P  Central Toronto   \n",
       "4         M4R  Central Toronto   \n",
       "\n",
       "                                     Neighbourhood   Latitude  Longitude  \n",
       "0                                    Lawrence Park  43.728020 -79.388790  \n",
       "1                                         Roselawn  43.711695 -79.416936  \n",
       "2                                 Davisville North  43.712751 -79.390197  \n",
       "3  Forest Hill North & West, Forest Hill Road Park  43.696948 -79.411307  \n",
       "4               North Toronto West,  Lawrence Park  43.715383 -79.405678  "
      ]
     },
     "execution_count": 77,
     "metadata": {},
     "output_type": "execute_result"
    }
   ],
   "source": [
    "ctrltor_data = df[df['Borough'] == 'Central Toronto'].reset_index(drop=True)\n",
    "ctrltor_data.head()"
   ]
  },
  {
   "cell_type": "code",
   "execution_count": 83,
   "metadata": {},
   "outputs": [],
   "source": [
    "ctrltor_data.rename(columns={'Neighbourhood':'Neighborhood'},inplace=True)"
   ]
  },
  {
   "cell_type": "code",
   "execution_count": 84,
   "metadata": {},
   "outputs": [
    {
     "data": {
      "text/plain": [
       "(9, 5)"
      ]
     },
     "execution_count": 84,
     "metadata": {},
     "output_type": "execute_result"
    }
   ],
   "source": [
    "ctrltor_data.shape"
   ]
  },
  {
   "cell_type": "code",
   "execution_count": 85,
   "metadata": {},
   "outputs": [
    {
     "ename": "GeocoderUnavailable",
     "evalue": "HTTPSConnectionPool(host='nominatim.openstreetmap.org', port=443): Max retries exceeded with url: /search?q=Central+Toronto%2C+Ontario&format=json&limit=1 (Caused by ConnectTimeoutError(<urllib3.connection.HTTPSConnection object at 0x000002569B8487C0>, 'Connection to nominatim.openstreetmap.org timed out. (connect timeout=1)'))",
     "output_type": "error",
     "traceback": [
      "\u001b[1;31m---------------------------------------------------------------------------\u001b[0m",
      "\u001b[1;31mtimeout\u001b[0m                                   Traceback (most recent call last)",
      "\u001b[1;32m~\\anaconda3\\lib\\site-packages\\urllib3\\connection.py\u001b[0m in \u001b[0;36m_new_conn\u001b[1;34m(self)\u001b[0m\n\u001b[0;32m    158\u001b[0m         \u001b[1;32mtry\u001b[0m\u001b[1;33m:\u001b[0m\u001b[1;33m\u001b[0m\u001b[1;33m\u001b[0m\u001b[0m\n\u001b[1;32m--> 159\u001b[1;33m             conn = connection.create_connection(\n\u001b[0m\u001b[0;32m    160\u001b[0m                 \u001b[1;33m(\u001b[0m\u001b[0mself\u001b[0m\u001b[1;33m.\u001b[0m\u001b[0m_dns_host\u001b[0m\u001b[1;33m,\u001b[0m \u001b[0mself\u001b[0m\u001b[1;33m.\u001b[0m\u001b[0mport\u001b[0m\u001b[1;33m)\u001b[0m\u001b[1;33m,\u001b[0m \u001b[0mself\u001b[0m\u001b[1;33m.\u001b[0m\u001b[0mtimeout\u001b[0m\u001b[1;33m,\u001b[0m \u001b[1;33m**\u001b[0m\u001b[0mextra_kw\u001b[0m\u001b[1;33m\u001b[0m\u001b[1;33m\u001b[0m\u001b[0m\n",
      "\u001b[1;32m~\\anaconda3\\lib\\site-packages\\urllib3\\util\\connection.py\u001b[0m in \u001b[0;36mcreate_connection\u001b[1;34m(address, timeout, source_address, socket_options)\u001b[0m\n\u001b[0;32m     83\u001b[0m     \u001b[1;32mif\u001b[0m \u001b[0merr\u001b[0m \u001b[1;32mis\u001b[0m \u001b[1;32mnot\u001b[0m \u001b[1;32mNone\u001b[0m\u001b[1;33m:\u001b[0m\u001b[1;33m\u001b[0m\u001b[1;33m\u001b[0m\u001b[0m\n\u001b[1;32m---> 84\u001b[1;33m         \u001b[1;32mraise\u001b[0m \u001b[0merr\u001b[0m\u001b[1;33m\u001b[0m\u001b[1;33m\u001b[0m\u001b[0m\n\u001b[0m\u001b[0;32m     85\u001b[0m \u001b[1;33m\u001b[0m\u001b[0m\n",
      "\u001b[1;32m~\\anaconda3\\lib\\site-packages\\urllib3\\util\\connection.py\u001b[0m in \u001b[0;36mcreate_connection\u001b[1;34m(address, timeout, source_address, socket_options)\u001b[0m\n\u001b[0;32m     73\u001b[0m                 \u001b[0msock\u001b[0m\u001b[1;33m.\u001b[0m\u001b[0mbind\u001b[0m\u001b[1;33m(\u001b[0m\u001b[0msource_address\u001b[0m\u001b[1;33m)\u001b[0m\u001b[1;33m\u001b[0m\u001b[1;33m\u001b[0m\u001b[0m\n\u001b[1;32m---> 74\u001b[1;33m             \u001b[0msock\u001b[0m\u001b[1;33m.\u001b[0m\u001b[0mconnect\u001b[0m\u001b[1;33m(\u001b[0m\u001b[0msa\u001b[0m\u001b[1;33m)\u001b[0m\u001b[1;33m\u001b[0m\u001b[1;33m\u001b[0m\u001b[0m\n\u001b[0m\u001b[0;32m     75\u001b[0m             \u001b[1;32mreturn\u001b[0m \u001b[0msock\u001b[0m\u001b[1;33m\u001b[0m\u001b[1;33m\u001b[0m\u001b[0m\n",
      "\u001b[1;31mtimeout\u001b[0m: timed out",
      "\nDuring handling of the above exception, another exception occurred:\n",
      "\u001b[1;31mConnectTimeoutError\u001b[0m                       Traceback (most recent call last)",
      "\u001b[1;32m~\\anaconda3\\lib\\site-packages\\urllib3\\connectionpool.py\u001b[0m in \u001b[0;36murlopen\u001b[1;34m(self, method, url, body, headers, retries, redirect, assert_same_host, timeout, pool_timeout, release_conn, chunked, body_pos, **response_kw)\u001b[0m\n\u001b[0;32m    669\u001b[0m             \u001b[1;31m# Make the request on the httplib connection object.\u001b[0m\u001b[1;33m\u001b[0m\u001b[1;33m\u001b[0m\u001b[1;33m\u001b[0m\u001b[0m\n\u001b[1;32m--> 670\u001b[1;33m             httplib_response = self._make_request(\n\u001b[0m\u001b[0;32m    671\u001b[0m                 \u001b[0mconn\u001b[0m\u001b[1;33m,\u001b[0m\u001b[1;33m\u001b[0m\u001b[1;33m\u001b[0m\u001b[0m\n",
      "\u001b[1;32m~\\anaconda3\\lib\\site-packages\\urllib3\\connectionpool.py\u001b[0m in \u001b[0;36m_make_request\u001b[1;34m(self, conn, method, url, timeout, chunked, **httplib_request_kw)\u001b[0m\n\u001b[0;32m    380\u001b[0m         \u001b[1;32mtry\u001b[0m\u001b[1;33m:\u001b[0m\u001b[1;33m\u001b[0m\u001b[1;33m\u001b[0m\u001b[0m\n\u001b[1;32m--> 381\u001b[1;33m             \u001b[0mself\u001b[0m\u001b[1;33m.\u001b[0m\u001b[0m_validate_conn\u001b[0m\u001b[1;33m(\u001b[0m\u001b[0mconn\u001b[0m\u001b[1;33m)\u001b[0m\u001b[1;33m\u001b[0m\u001b[1;33m\u001b[0m\u001b[0m\n\u001b[0m\u001b[0;32m    382\u001b[0m         \u001b[1;32mexcept\u001b[0m \u001b[1;33m(\u001b[0m\u001b[0mSocketTimeout\u001b[0m\u001b[1;33m,\u001b[0m \u001b[0mBaseSSLError\u001b[0m\u001b[1;33m)\u001b[0m \u001b[1;32mas\u001b[0m \u001b[0me\u001b[0m\u001b[1;33m:\u001b[0m\u001b[1;33m\u001b[0m\u001b[1;33m\u001b[0m\u001b[0m\n",
      "\u001b[1;32m~\\anaconda3\\lib\\site-packages\\urllib3\\connectionpool.py\u001b[0m in \u001b[0;36m_validate_conn\u001b[1;34m(self, conn)\u001b[0m\n\u001b[0;32m    975\u001b[0m         \u001b[1;32mif\u001b[0m \u001b[1;32mnot\u001b[0m \u001b[0mgetattr\u001b[0m\u001b[1;33m(\u001b[0m\u001b[0mconn\u001b[0m\u001b[1;33m,\u001b[0m \u001b[1;34m\"sock\"\u001b[0m\u001b[1;33m,\u001b[0m \u001b[1;32mNone\u001b[0m\u001b[1;33m)\u001b[0m\u001b[1;33m:\u001b[0m  \u001b[1;31m# AppEngine might not have  `.sock`\u001b[0m\u001b[1;33m\u001b[0m\u001b[1;33m\u001b[0m\u001b[0m\n\u001b[1;32m--> 976\u001b[1;33m             \u001b[0mconn\u001b[0m\u001b[1;33m.\u001b[0m\u001b[0mconnect\u001b[0m\u001b[1;33m(\u001b[0m\u001b[1;33m)\u001b[0m\u001b[1;33m\u001b[0m\u001b[1;33m\u001b[0m\u001b[0m\n\u001b[0m\u001b[0;32m    977\u001b[0m \u001b[1;33m\u001b[0m\u001b[0m\n",
      "\u001b[1;32m~\\anaconda3\\lib\\site-packages\\urllib3\\connection.py\u001b[0m in \u001b[0;36mconnect\u001b[1;34m(self)\u001b[0m\n\u001b[0;32m    307\u001b[0m         \u001b[1;31m# Add certificate verification\u001b[0m\u001b[1;33m\u001b[0m\u001b[1;33m\u001b[0m\u001b[1;33m\u001b[0m\u001b[0m\n\u001b[1;32m--> 308\u001b[1;33m         \u001b[0mconn\u001b[0m \u001b[1;33m=\u001b[0m \u001b[0mself\u001b[0m\u001b[1;33m.\u001b[0m\u001b[0m_new_conn\u001b[0m\u001b[1;33m(\u001b[0m\u001b[1;33m)\u001b[0m\u001b[1;33m\u001b[0m\u001b[1;33m\u001b[0m\u001b[0m\n\u001b[0m\u001b[0;32m    309\u001b[0m         \u001b[0mhostname\u001b[0m \u001b[1;33m=\u001b[0m \u001b[0mself\u001b[0m\u001b[1;33m.\u001b[0m\u001b[0mhost\u001b[0m\u001b[1;33m\u001b[0m\u001b[1;33m\u001b[0m\u001b[0m\n",
      "\u001b[1;32m~\\anaconda3\\lib\\site-packages\\urllib3\\connection.py\u001b[0m in \u001b[0;36m_new_conn\u001b[1;34m(self)\u001b[0m\n\u001b[0;32m    163\u001b[0m         \u001b[1;32mexcept\u001b[0m \u001b[0mSocketTimeout\u001b[0m\u001b[1;33m:\u001b[0m\u001b[1;33m\u001b[0m\u001b[1;33m\u001b[0m\u001b[0m\n\u001b[1;32m--> 164\u001b[1;33m             raise ConnectTimeoutError(\n\u001b[0m\u001b[0;32m    165\u001b[0m                 \u001b[0mself\u001b[0m\u001b[1;33m,\u001b[0m\u001b[1;33m\u001b[0m\u001b[1;33m\u001b[0m\u001b[0m\n",
      "\u001b[1;31mConnectTimeoutError\u001b[0m: (<urllib3.connection.HTTPSConnection object at 0x000002569B8487C0>, 'Connection to nominatim.openstreetmap.org timed out. (connect timeout=1)')",
      "\nDuring handling of the above exception, another exception occurred:\n",
      "\u001b[1;31mMaxRetryError\u001b[0m                             Traceback (most recent call last)",
      "\u001b[1;32m~\\anaconda3\\lib\\site-packages\\requests\\adapters.py\u001b[0m in \u001b[0;36msend\u001b[1;34m(self, request, stream, timeout, verify, cert, proxies)\u001b[0m\n\u001b[0;32m    438\u001b[0m             \u001b[1;32mif\u001b[0m \u001b[1;32mnot\u001b[0m \u001b[0mchunked\u001b[0m\u001b[1;33m:\u001b[0m\u001b[1;33m\u001b[0m\u001b[1;33m\u001b[0m\u001b[0m\n\u001b[1;32m--> 439\u001b[1;33m                 resp = conn.urlopen(\n\u001b[0m\u001b[0;32m    440\u001b[0m                     \u001b[0mmethod\u001b[0m\u001b[1;33m=\u001b[0m\u001b[0mrequest\u001b[0m\u001b[1;33m.\u001b[0m\u001b[0mmethod\u001b[0m\u001b[1;33m,\u001b[0m\u001b[1;33m\u001b[0m\u001b[1;33m\u001b[0m\u001b[0m\n",
      "\u001b[1;32m~\\anaconda3\\lib\\site-packages\\urllib3\\connectionpool.py\u001b[0m in \u001b[0;36murlopen\u001b[1;34m(self, method, url, body, headers, retries, redirect, assert_same_host, timeout, pool_timeout, release_conn, chunked, body_pos, **response_kw)\u001b[0m\n\u001b[0;32m    751\u001b[0m             )\n\u001b[1;32m--> 752\u001b[1;33m             return self.urlopen(\n\u001b[0m\u001b[0;32m    753\u001b[0m                 \u001b[0mmethod\u001b[0m\u001b[1;33m,\u001b[0m\u001b[1;33m\u001b[0m\u001b[1;33m\u001b[0m\u001b[0m\n",
      "\u001b[1;32m~\\anaconda3\\lib\\site-packages\\urllib3\\connectionpool.py\u001b[0m in \u001b[0;36murlopen\u001b[1;34m(self, method, url, body, headers, retries, redirect, assert_same_host, timeout, pool_timeout, release_conn, chunked, body_pos, **response_kw)\u001b[0m\n\u001b[0;32m    751\u001b[0m             )\n\u001b[1;32m--> 752\u001b[1;33m             return self.urlopen(\n\u001b[0m\u001b[0;32m    753\u001b[0m                 \u001b[0mmethod\u001b[0m\u001b[1;33m,\u001b[0m\u001b[1;33m\u001b[0m\u001b[1;33m\u001b[0m\u001b[0m\n",
      "\u001b[1;32m~\\anaconda3\\lib\\site-packages\\urllib3\\connectionpool.py\u001b[0m in \u001b[0;36murlopen\u001b[1;34m(self, method, url, body, headers, retries, redirect, assert_same_host, timeout, pool_timeout, release_conn, chunked, body_pos, **response_kw)\u001b[0m\n\u001b[0;32m    723\u001b[0m \u001b[1;33m\u001b[0m\u001b[0m\n\u001b[1;32m--> 724\u001b[1;33m             retries = retries.increment(\n\u001b[0m\u001b[0;32m    725\u001b[0m                 \u001b[0mmethod\u001b[0m\u001b[1;33m,\u001b[0m \u001b[0murl\u001b[0m\u001b[1;33m,\u001b[0m \u001b[0merror\u001b[0m\u001b[1;33m=\u001b[0m\u001b[0me\u001b[0m\u001b[1;33m,\u001b[0m \u001b[0m_pool\u001b[0m\u001b[1;33m=\u001b[0m\u001b[0mself\u001b[0m\u001b[1;33m,\u001b[0m \u001b[0m_stacktrace\u001b[0m\u001b[1;33m=\u001b[0m\u001b[0msys\u001b[0m\u001b[1;33m.\u001b[0m\u001b[0mexc_info\u001b[0m\u001b[1;33m(\u001b[0m\u001b[1;33m)\u001b[0m\u001b[1;33m[\u001b[0m\u001b[1;36m2\u001b[0m\u001b[1;33m]\u001b[0m\u001b[1;33m\u001b[0m\u001b[1;33m\u001b[0m\u001b[0m\n",
      "\u001b[1;32m~\\anaconda3\\lib\\site-packages\\urllib3\\util\\retry.py\u001b[0m in \u001b[0;36mincrement\u001b[1;34m(self, method, url, response, error, _pool, _stacktrace)\u001b[0m\n\u001b[0;32m    438\u001b[0m         \u001b[1;32mif\u001b[0m \u001b[0mnew_retry\u001b[0m\u001b[1;33m.\u001b[0m\u001b[0mis_exhausted\u001b[0m\u001b[1;33m(\u001b[0m\u001b[1;33m)\u001b[0m\u001b[1;33m:\u001b[0m\u001b[1;33m\u001b[0m\u001b[1;33m\u001b[0m\u001b[0m\n\u001b[1;32m--> 439\u001b[1;33m             \u001b[1;32mraise\u001b[0m \u001b[0mMaxRetryError\u001b[0m\u001b[1;33m(\u001b[0m\u001b[0m_pool\u001b[0m\u001b[1;33m,\u001b[0m \u001b[0murl\u001b[0m\u001b[1;33m,\u001b[0m \u001b[0merror\u001b[0m \u001b[1;32mor\u001b[0m \u001b[0mResponseError\u001b[0m\u001b[1;33m(\u001b[0m\u001b[0mcause\u001b[0m\u001b[1;33m)\u001b[0m\u001b[1;33m)\u001b[0m\u001b[1;33m\u001b[0m\u001b[1;33m\u001b[0m\u001b[0m\n\u001b[0m\u001b[0;32m    440\u001b[0m \u001b[1;33m\u001b[0m\u001b[0m\n",
      "\u001b[1;31mMaxRetryError\u001b[0m: HTTPSConnectionPool(host='nominatim.openstreetmap.org', port=443): Max retries exceeded with url: /search?q=Central+Toronto%2C+Ontario&format=json&limit=1 (Caused by ConnectTimeoutError(<urllib3.connection.HTTPSConnection object at 0x000002569B8487C0>, 'Connection to nominatim.openstreetmap.org timed out. (connect timeout=1)'))",
      "\nDuring handling of the above exception, another exception occurred:\n",
      "\u001b[1;31mConnectTimeout\u001b[0m                            Traceback (most recent call last)",
      "\u001b[1;32m~\\anaconda3\\lib\\site-packages\\geopy\\adapters.py\u001b[0m in \u001b[0;36m_request\u001b[1;34m(self, url, timeout, headers)\u001b[0m\n\u001b[0;32m    382\u001b[0m         \u001b[1;32mtry\u001b[0m\u001b[1;33m:\u001b[0m\u001b[1;33m\u001b[0m\u001b[1;33m\u001b[0m\u001b[0m\n\u001b[1;32m--> 383\u001b[1;33m             \u001b[0mresp\u001b[0m \u001b[1;33m=\u001b[0m \u001b[0mself\u001b[0m\u001b[1;33m.\u001b[0m\u001b[0msession\u001b[0m\u001b[1;33m.\u001b[0m\u001b[0mget\u001b[0m\u001b[1;33m(\u001b[0m\u001b[0murl\u001b[0m\u001b[1;33m,\u001b[0m \u001b[0mtimeout\u001b[0m\u001b[1;33m=\u001b[0m\u001b[0mtimeout\u001b[0m\u001b[1;33m,\u001b[0m \u001b[0mheaders\u001b[0m\u001b[1;33m=\u001b[0m\u001b[0mheaders\u001b[0m\u001b[1;33m)\u001b[0m\u001b[1;33m\u001b[0m\u001b[1;33m\u001b[0m\u001b[0m\n\u001b[0m\u001b[0;32m    384\u001b[0m         \u001b[1;32mexcept\u001b[0m \u001b[0mException\u001b[0m \u001b[1;32mas\u001b[0m \u001b[0merror\u001b[0m\u001b[1;33m:\u001b[0m\u001b[1;33m\u001b[0m\u001b[1;33m\u001b[0m\u001b[0m\n",
      "\u001b[1;32m~\\anaconda3\\lib\\site-packages\\requests\\sessions.py\u001b[0m in \u001b[0;36mget\u001b[1;34m(self, url, **kwargs)\u001b[0m\n\u001b[0;32m    542\u001b[0m         \u001b[0mkwargs\u001b[0m\u001b[1;33m.\u001b[0m\u001b[0msetdefault\u001b[0m\u001b[1;33m(\u001b[0m\u001b[1;34m'allow_redirects'\u001b[0m\u001b[1;33m,\u001b[0m \u001b[1;32mTrue\u001b[0m\u001b[1;33m)\u001b[0m\u001b[1;33m\u001b[0m\u001b[1;33m\u001b[0m\u001b[0m\n\u001b[1;32m--> 543\u001b[1;33m         \u001b[1;32mreturn\u001b[0m \u001b[0mself\u001b[0m\u001b[1;33m.\u001b[0m\u001b[0mrequest\u001b[0m\u001b[1;33m(\u001b[0m\u001b[1;34m'GET'\u001b[0m\u001b[1;33m,\u001b[0m \u001b[0murl\u001b[0m\u001b[1;33m,\u001b[0m \u001b[1;33m**\u001b[0m\u001b[0mkwargs\u001b[0m\u001b[1;33m)\u001b[0m\u001b[1;33m\u001b[0m\u001b[1;33m\u001b[0m\u001b[0m\n\u001b[0m\u001b[0;32m    544\u001b[0m \u001b[1;33m\u001b[0m\u001b[0m\n",
      "\u001b[1;32m~\\anaconda3\\lib\\site-packages\\requests\\sessions.py\u001b[0m in \u001b[0;36mrequest\u001b[1;34m(self, method, url, params, data, headers, cookies, files, auth, timeout, allow_redirects, proxies, hooks, stream, verify, cert, json)\u001b[0m\n\u001b[0;32m    529\u001b[0m         \u001b[0msend_kwargs\u001b[0m\u001b[1;33m.\u001b[0m\u001b[0mupdate\u001b[0m\u001b[1;33m(\u001b[0m\u001b[0msettings\u001b[0m\u001b[1;33m)\u001b[0m\u001b[1;33m\u001b[0m\u001b[1;33m\u001b[0m\u001b[0m\n\u001b[1;32m--> 530\u001b[1;33m         \u001b[0mresp\u001b[0m \u001b[1;33m=\u001b[0m \u001b[0mself\u001b[0m\u001b[1;33m.\u001b[0m\u001b[0msend\u001b[0m\u001b[1;33m(\u001b[0m\u001b[0mprep\u001b[0m\u001b[1;33m,\u001b[0m \u001b[1;33m**\u001b[0m\u001b[0msend_kwargs\u001b[0m\u001b[1;33m)\u001b[0m\u001b[1;33m\u001b[0m\u001b[1;33m\u001b[0m\u001b[0m\n\u001b[0m\u001b[0;32m    531\u001b[0m \u001b[1;33m\u001b[0m\u001b[0m\n",
      "\u001b[1;32m~\\anaconda3\\lib\\site-packages\\requests\\sessions.py\u001b[0m in \u001b[0;36msend\u001b[1;34m(self, request, **kwargs)\u001b[0m\n\u001b[0;32m    642\u001b[0m         \u001b[1;31m# Send the request\u001b[0m\u001b[1;33m\u001b[0m\u001b[1;33m\u001b[0m\u001b[1;33m\u001b[0m\u001b[0m\n\u001b[1;32m--> 643\u001b[1;33m         \u001b[0mr\u001b[0m \u001b[1;33m=\u001b[0m \u001b[0madapter\u001b[0m\u001b[1;33m.\u001b[0m\u001b[0msend\u001b[0m\u001b[1;33m(\u001b[0m\u001b[0mrequest\u001b[0m\u001b[1;33m,\u001b[0m \u001b[1;33m**\u001b[0m\u001b[0mkwargs\u001b[0m\u001b[1;33m)\u001b[0m\u001b[1;33m\u001b[0m\u001b[1;33m\u001b[0m\u001b[0m\n\u001b[0m\u001b[0;32m    644\u001b[0m \u001b[1;33m\u001b[0m\u001b[0m\n",
      "\u001b[1;32m~\\anaconda3\\lib\\site-packages\\requests\\adapters.py\u001b[0m in \u001b[0;36msend\u001b[1;34m(self, request, stream, timeout, verify, cert, proxies)\u001b[0m\n\u001b[0;32m    503\u001b[0m                 \u001b[1;32mif\u001b[0m \u001b[1;32mnot\u001b[0m \u001b[0misinstance\u001b[0m\u001b[1;33m(\u001b[0m\u001b[0me\u001b[0m\u001b[1;33m.\u001b[0m\u001b[0mreason\u001b[0m\u001b[1;33m,\u001b[0m \u001b[0mNewConnectionError\u001b[0m\u001b[1;33m)\u001b[0m\u001b[1;33m:\u001b[0m\u001b[1;33m\u001b[0m\u001b[1;33m\u001b[0m\u001b[0m\n\u001b[1;32m--> 504\u001b[1;33m                     \u001b[1;32mraise\u001b[0m \u001b[0mConnectTimeout\u001b[0m\u001b[1;33m(\u001b[0m\u001b[0me\u001b[0m\u001b[1;33m,\u001b[0m \u001b[0mrequest\u001b[0m\u001b[1;33m=\u001b[0m\u001b[0mrequest\u001b[0m\u001b[1;33m)\u001b[0m\u001b[1;33m\u001b[0m\u001b[1;33m\u001b[0m\u001b[0m\n\u001b[0m\u001b[0;32m    505\u001b[0m \u001b[1;33m\u001b[0m\u001b[0m\n",
      "\u001b[1;31mConnectTimeout\u001b[0m: HTTPSConnectionPool(host='nominatim.openstreetmap.org', port=443): Max retries exceeded with url: /search?q=Central+Toronto%2C+Ontario&format=json&limit=1 (Caused by ConnectTimeoutError(<urllib3.connection.HTTPSConnection object at 0x000002569B8487C0>, 'Connection to nominatim.openstreetmap.org timed out. (connect timeout=1)'))",
      "\nDuring handling of the above exception, another exception occurred:\n",
      "\u001b[1;31mGeocoderUnavailable\u001b[0m                       Traceback (most recent call last)",
      "\u001b[1;32m<ipython-input-85-78b450540017>\u001b[0m in \u001b[0;36m<module>\u001b[1;34m\u001b[0m\n\u001b[0;32m      1\u001b[0m \u001b[0maddress\u001b[0m \u001b[1;33m=\u001b[0m \u001b[1;34m'Central Toronto, Ontario'\u001b[0m\u001b[1;33m\u001b[0m\u001b[1;33m\u001b[0m\u001b[0m\n\u001b[0;32m      2\u001b[0m \u001b[0mgeolocator\u001b[0m \u001b[1;33m=\u001b[0m \u001b[0mNominatim\u001b[0m\u001b[1;33m(\u001b[0m\u001b[0muser_agent\u001b[0m\u001b[1;33m=\u001b[0m\u001b[1;34m\"tor_explorer\"\u001b[0m\u001b[1;33m)\u001b[0m\u001b[1;33m\u001b[0m\u001b[1;33m\u001b[0m\u001b[0m\n\u001b[1;32m----> 3\u001b[1;33m \u001b[0mlocation\u001b[0m \u001b[1;33m=\u001b[0m \u001b[0mgeolocator\u001b[0m\u001b[1;33m.\u001b[0m\u001b[0mgeocode\u001b[0m\u001b[1;33m(\u001b[0m\u001b[0maddress\u001b[0m\u001b[1;33m)\u001b[0m\u001b[1;33m\u001b[0m\u001b[1;33m\u001b[0m\u001b[0m\n\u001b[0m\u001b[0;32m      4\u001b[0m \u001b[0mlatitude\u001b[0m \u001b[1;33m=\u001b[0m \u001b[0mlocation\u001b[0m\u001b[1;33m.\u001b[0m\u001b[0mlatitude\u001b[0m\u001b[1;33m\u001b[0m\u001b[1;33m\u001b[0m\u001b[0m\n\u001b[0;32m      5\u001b[0m \u001b[0mlongitude\u001b[0m \u001b[1;33m=\u001b[0m \u001b[0mlocation\u001b[0m\u001b[1;33m.\u001b[0m\u001b[0mlongitude\u001b[0m\u001b[1;33m\u001b[0m\u001b[1;33m\u001b[0m\u001b[0m\n",
      "\u001b[1;32m~\\anaconda3\\lib\\site-packages\\geopy\\geocoders\\nominatim.py\u001b[0m in \u001b[0;36mgeocode\u001b[1;34m(self, query, exactly_one, timeout, limit, addressdetails, language, geometry, extratags, country_codes, viewbox, bounded, featuretype, namedetails)\u001b[0m\n\u001b[0;32m    292\u001b[0m         \u001b[0mlogger\u001b[0m\u001b[1;33m.\u001b[0m\u001b[0mdebug\u001b[0m\u001b[1;33m(\u001b[0m\u001b[1;34m\"%s.geocode: %s\"\u001b[0m\u001b[1;33m,\u001b[0m \u001b[0mself\u001b[0m\u001b[1;33m.\u001b[0m\u001b[0m__class__\u001b[0m\u001b[1;33m.\u001b[0m\u001b[0m__name__\u001b[0m\u001b[1;33m,\u001b[0m \u001b[0murl\u001b[0m\u001b[1;33m)\u001b[0m\u001b[1;33m\u001b[0m\u001b[1;33m\u001b[0m\u001b[0m\n\u001b[0;32m    293\u001b[0m         \u001b[0mcallback\u001b[0m \u001b[1;33m=\u001b[0m \u001b[0mpartial\u001b[0m\u001b[1;33m(\u001b[0m\u001b[0mself\u001b[0m\u001b[1;33m.\u001b[0m\u001b[0m_parse_json\u001b[0m\u001b[1;33m,\u001b[0m \u001b[0mexactly_one\u001b[0m\u001b[1;33m=\u001b[0m\u001b[0mexactly_one\u001b[0m\u001b[1;33m)\u001b[0m\u001b[1;33m\u001b[0m\u001b[1;33m\u001b[0m\u001b[0m\n\u001b[1;32m--> 294\u001b[1;33m         \u001b[1;32mreturn\u001b[0m \u001b[0mself\u001b[0m\u001b[1;33m.\u001b[0m\u001b[0m_call_geocoder\u001b[0m\u001b[1;33m(\u001b[0m\u001b[0murl\u001b[0m\u001b[1;33m,\u001b[0m \u001b[0mcallback\u001b[0m\u001b[1;33m,\u001b[0m \u001b[0mtimeout\u001b[0m\u001b[1;33m=\u001b[0m\u001b[0mtimeout\u001b[0m\u001b[1;33m)\u001b[0m\u001b[1;33m\u001b[0m\u001b[1;33m\u001b[0m\u001b[0m\n\u001b[0m\u001b[0;32m    295\u001b[0m \u001b[1;33m\u001b[0m\u001b[0m\n\u001b[0;32m    296\u001b[0m     def reverse(\n",
      "\u001b[1;32m~\\anaconda3\\lib\\site-packages\\geopy\\geocoders\\base.py\u001b[0m in \u001b[0;36m_call_geocoder\u001b[1;34m(self, url, callback, timeout, is_json, headers)\u001b[0m\n\u001b[0;32m    358\u001b[0m         \u001b[1;32mtry\u001b[0m\u001b[1;33m:\u001b[0m\u001b[1;33m\u001b[0m\u001b[1;33m\u001b[0m\u001b[0m\n\u001b[0;32m    359\u001b[0m             \u001b[1;32mif\u001b[0m \u001b[0mis_json\u001b[0m\u001b[1;33m:\u001b[0m\u001b[1;33m\u001b[0m\u001b[1;33m\u001b[0m\u001b[0m\n\u001b[1;32m--> 360\u001b[1;33m                 \u001b[0mresult\u001b[0m \u001b[1;33m=\u001b[0m \u001b[0mself\u001b[0m\u001b[1;33m.\u001b[0m\u001b[0madapter\u001b[0m\u001b[1;33m.\u001b[0m\u001b[0mget_json\u001b[0m\u001b[1;33m(\u001b[0m\u001b[0murl\u001b[0m\u001b[1;33m,\u001b[0m \u001b[0mtimeout\u001b[0m\u001b[1;33m=\u001b[0m\u001b[0mtimeout\u001b[0m\u001b[1;33m,\u001b[0m \u001b[0mheaders\u001b[0m\u001b[1;33m=\u001b[0m\u001b[0mreq_headers\u001b[0m\u001b[1;33m)\u001b[0m\u001b[1;33m\u001b[0m\u001b[1;33m\u001b[0m\u001b[0m\n\u001b[0m\u001b[0;32m    361\u001b[0m             \u001b[1;32melse\u001b[0m\u001b[1;33m:\u001b[0m\u001b[1;33m\u001b[0m\u001b[1;33m\u001b[0m\u001b[0m\n\u001b[0;32m    362\u001b[0m                 \u001b[0mresult\u001b[0m \u001b[1;33m=\u001b[0m \u001b[0mself\u001b[0m\u001b[1;33m.\u001b[0m\u001b[0madapter\u001b[0m\u001b[1;33m.\u001b[0m\u001b[0mget_text\u001b[0m\u001b[1;33m(\u001b[0m\u001b[0murl\u001b[0m\u001b[1;33m,\u001b[0m \u001b[0mtimeout\u001b[0m\u001b[1;33m=\u001b[0m\u001b[0mtimeout\u001b[0m\u001b[1;33m,\u001b[0m \u001b[0mheaders\u001b[0m\u001b[1;33m=\u001b[0m\u001b[0mreq_headers\u001b[0m\u001b[1;33m)\u001b[0m\u001b[1;33m\u001b[0m\u001b[1;33m\u001b[0m\u001b[0m\n",
      "\u001b[1;32m~\\anaconda3\\lib\\site-packages\\geopy\\adapters.py\u001b[0m in \u001b[0;36mget_json\u001b[1;34m(self, url, timeout, headers)\u001b[0m\n\u001b[0;32m    371\u001b[0m \u001b[1;33m\u001b[0m\u001b[0m\n\u001b[0;32m    372\u001b[0m     \u001b[1;32mdef\u001b[0m \u001b[0mget_json\u001b[0m\u001b[1;33m(\u001b[0m\u001b[0mself\u001b[0m\u001b[1;33m,\u001b[0m \u001b[0murl\u001b[0m\u001b[1;33m,\u001b[0m \u001b[1;33m*\u001b[0m\u001b[1;33m,\u001b[0m \u001b[0mtimeout\u001b[0m\u001b[1;33m,\u001b[0m \u001b[0mheaders\u001b[0m\u001b[1;33m)\u001b[0m\u001b[1;33m:\u001b[0m\u001b[1;33m\u001b[0m\u001b[1;33m\u001b[0m\u001b[0m\n\u001b[1;32m--> 373\u001b[1;33m         \u001b[0mresp\u001b[0m \u001b[1;33m=\u001b[0m \u001b[0mself\u001b[0m\u001b[1;33m.\u001b[0m\u001b[0m_request\u001b[0m\u001b[1;33m(\u001b[0m\u001b[0murl\u001b[0m\u001b[1;33m,\u001b[0m \u001b[0mtimeout\u001b[0m\u001b[1;33m=\u001b[0m\u001b[0mtimeout\u001b[0m\u001b[1;33m,\u001b[0m \u001b[0mheaders\u001b[0m\u001b[1;33m=\u001b[0m\u001b[0mheaders\u001b[0m\u001b[1;33m)\u001b[0m\u001b[1;33m\u001b[0m\u001b[1;33m\u001b[0m\u001b[0m\n\u001b[0m\u001b[0;32m    374\u001b[0m         \u001b[1;32mtry\u001b[0m\u001b[1;33m:\u001b[0m\u001b[1;33m\u001b[0m\u001b[1;33m\u001b[0m\u001b[0m\n\u001b[0;32m    375\u001b[0m             \u001b[1;32mreturn\u001b[0m \u001b[0mresp\u001b[0m\u001b[1;33m.\u001b[0m\u001b[0mjson\u001b[0m\u001b[1;33m(\u001b[0m\u001b[1;33m)\u001b[0m\u001b[1;33m\u001b[0m\u001b[1;33m\u001b[0m\u001b[0m\n",
      "\u001b[1;32m~\\anaconda3\\lib\\site-packages\\geopy\\adapters.py\u001b[0m in \u001b[0;36m_request\u001b[1;34m(self, url, timeout, headers)\u001b[0m\n\u001b[0;32m    393\u001b[0m                     \u001b[1;32mraise\u001b[0m \u001b[0mGeocoderServiceError\u001b[0m\u001b[1;33m(\u001b[0m\u001b[0mmessage\u001b[0m\u001b[1;33m)\u001b[0m\u001b[1;33m\u001b[0m\u001b[1;33m\u001b[0m\u001b[0m\n\u001b[0;32m    394\u001b[0m                 \u001b[1;32melse\u001b[0m\u001b[1;33m:\u001b[0m\u001b[1;33m\u001b[0m\u001b[1;33m\u001b[0m\u001b[0m\n\u001b[1;32m--> 395\u001b[1;33m                     \u001b[1;32mraise\u001b[0m \u001b[0mGeocoderUnavailable\u001b[0m\u001b[1;33m(\u001b[0m\u001b[0mmessage\u001b[0m\u001b[1;33m)\u001b[0m\u001b[1;33m\u001b[0m\u001b[1;33m\u001b[0m\u001b[0m\n\u001b[0m\u001b[0;32m    396\u001b[0m             \u001b[1;32melif\u001b[0m \u001b[0misinstance\u001b[0m\u001b[1;33m(\u001b[0m\u001b[0merror\u001b[0m\u001b[1;33m,\u001b[0m \u001b[0mrequests\u001b[0m\u001b[1;33m.\u001b[0m\u001b[0mTimeout\u001b[0m\u001b[1;33m)\u001b[0m\u001b[1;33m:\u001b[0m\u001b[1;33m\u001b[0m\u001b[1;33m\u001b[0m\u001b[0m\n\u001b[0;32m    397\u001b[0m                 \u001b[1;32mraise\u001b[0m \u001b[0mGeocoderTimedOut\u001b[0m\u001b[1;33m(\u001b[0m\u001b[1;34m\"Service timed out\"\u001b[0m\u001b[1;33m)\u001b[0m\u001b[1;33m\u001b[0m\u001b[1;33m\u001b[0m\u001b[0m\n",
      "\u001b[1;31mGeocoderUnavailable\u001b[0m: HTTPSConnectionPool(host='nominatim.openstreetmap.org', port=443): Max retries exceeded with url: /search?q=Central+Toronto%2C+Ontario&format=json&limit=1 (Caused by ConnectTimeoutError(<urllib3.connection.HTTPSConnection object at 0x000002569B8487C0>, 'Connection to nominatim.openstreetmap.org timed out. (connect timeout=1)'))"
     ]
    }
   ],
   "source": [
    "address = 'Central Toronto, Ontario'\n",
    "geolocator = Nominatim(user_agent=\"tor_explorer\")\n",
    "location = geolocator.geocode(address)\n",
    "latitude = location.latitude\n",
    "longitude = location.longitude\n",
    "print('The geograpical coordinate of Central Toronto are {}, {}.'.format(latitude, longitude))"
   ]
  },
  {
   "cell_type": "code",
   "execution_count": null,
   "metadata": {},
   "outputs": [],
   "source": [
    "# create map of Manhattan using latitude and longitude values\n",
    "map_ctrltor = folium.Map(location=[latitude, longitude], zoom_start=11);\n",
    "\n",
    "# add markers to map\n",
    "for lat, lng, label in zip(ctrltor_data['Latitude'], ctrltor_data['Longitude'],ctrltor_data['Neighborhood']):\n",
    "    label = folium.Popup(label, parse_html=True)\n",
    "    folium.CircleMarker(\n",
    "        [lat, lng],\n",
    "        radius=5,\n",
    "        popup=label,\n",
    "        color='blue',\n",
    "        fill=True,\n",
    "        fill_color='#3186cc',\n",
    "        fill_opacity=0.7,\n",
    "        parse_html=False).add_to(map_ctrltor)  \n",
    "    \n",
    "map_ctrltor"
   ]
  },
  {
   "cell_type": "code",
   "execution_count": null,
   "metadata": {},
   "outputs": [],
   "source": [
    "CLIENT_ID = '' # your Foursquare ID\n",
    "CLIENT_SECRET = '' # your Foursquare Secret\n",
    "VERSION = '20201019' # Foursquare API version #yyyymmdd\n",
    "LIMIT = 100 # A default Foursquare API limit value\n",
    "\n",
    "print('Your credentails:')\n",
    "print('CLIENT_ID: ' + CLIENT_ID)\n",
    "print('CLIENT_SECRET:' + CLIENT_SECRET)"
   ]
  },
  {
   "cell_type": "code",
   "execution_count": 86,
   "metadata": {},
   "outputs": [
    {
     "data": {
      "text/plain": [
       "'Lawrence Park'"
      ]
     },
     "execution_count": 86,
     "metadata": {},
     "output_type": "execute_result"
    }
   ],
   "source": [
    "ctrltor_data.loc[0, 'Neighborhood']"
   ]
  },
  {
   "cell_type": "markdown",
   "metadata": {},
   "source": [
    "- Get the neighborhood's latitude and longitude values of Central Toronto in Toronta."
   ]
  },
  {
   "cell_type": "code",
   "execution_count": 87,
   "metadata": {},
   "outputs": [
    {
     "name": "stdout",
     "output_type": "stream",
     "text": [
      "Latitude and longitude values of Lawrence Park are 43.7280205, -79.3887901.\n"
     ]
    }
   ],
   "source": [
    "neigh_lat = ctrltor_data.loc[0, 'Latitude'] # neighborhood latitude value\n",
    "neigh_long = ctrltor_data.loc[0, 'Longitude'] # neighborhood longitude value\n",
    "\n",
    "neigh_name = ctrltor_data.loc[0, 'Neighborhood'] # neighborhood name\n",
    "\n",
    "print('Latitude and longitude values of {} are {}, {}.'.format(neigh_name,neigh_lat,neigh_long))"
   ]
  },
  {
   "cell_type": "markdown",
   "metadata": {},
   "source": [
    "- Now, let's get the top 100 venues that are in Lawrence Park within a radius of 500 meters."
   ]
  },
  {
   "cell_type": "code",
   "execution_count": 88,
   "metadata": {},
   "outputs": [
    {
     "data": {
      "text/plain": [
       "'https://api.foursquare.com/v2/venues/explore?&client_id=PL0VH1QJYGQJLTXMZ51DBMDUQRPJQ3HSJRXJYVDMO5DTXENS&client_secret=VYOLXAIYEVC4PCF0MNTC3MFKRMTAJQYPL1AD3MZAHSOA5BLM&v=20201019&ll=43.7280205,-79.3887901&radius=500&limit=100'"
      ]
     },
     "execution_count": 88,
     "metadata": {},
     "output_type": "execute_result"
    }
   ],
   "source": [
    "# type your answer here\n",
    "LIMIT = 100 # limit of number of venues returned by Foursquare API\n",
    "radius = 500 # define radius\n",
    "\n",
    "# create URL\n",
    "url = 'https://api.foursquare.com/v2/venues/explore?&client_id={}&client_secret={}&v={}&ll={},{}&radius={}&limit={}'.format(\n",
    "    CLIENT_ID, CLIENT_SECRET, VERSION, neigh_lat, neigh_long, radius, LIMIT)\n",
    "url # display URL"
   ]
  },
  {
   "cell_type": "code",
   "execution_count": 89,
   "metadata": {},
   "outputs": [
    {
     "ename": "ConnectionError",
     "evalue": "HTTPSConnectionPool(host='api.foursquare.com', port=443): Max retries exceeded with url: /v2/venues/explore?&client_id=PL0VH1QJYGQJLTXMZ51DBMDUQRPJQ3HSJRXJYVDMO5DTXENS&client_secret=VYOLXAIYEVC4PCF0MNTC3MFKRMTAJQYPL1AD3MZAHSOA5BLM&v=20201019&ll=43.7280205,-79.3887901&radius=500&limit=100 (Caused by NewConnectionError('<urllib3.connection.HTTPSConnection object at 0x000002569AF592B0>: Failed to establish a new connection: [Errno 11001] getaddrinfo failed'))",
     "output_type": "error",
     "traceback": [
      "\u001b[1;31m---------------------------------------------------------------------------\u001b[0m",
      "\u001b[1;31mgaierror\u001b[0m                                  Traceback (most recent call last)",
      "\u001b[1;32m~\\anaconda3\\lib\\site-packages\\urllib3\\connection.py\u001b[0m in \u001b[0;36m_new_conn\u001b[1;34m(self)\u001b[0m\n\u001b[0;32m    158\u001b[0m         \u001b[1;32mtry\u001b[0m\u001b[1;33m:\u001b[0m\u001b[1;33m\u001b[0m\u001b[1;33m\u001b[0m\u001b[0m\n\u001b[1;32m--> 159\u001b[1;33m             conn = connection.create_connection(\n\u001b[0m\u001b[0;32m    160\u001b[0m                 \u001b[1;33m(\u001b[0m\u001b[0mself\u001b[0m\u001b[1;33m.\u001b[0m\u001b[0m_dns_host\u001b[0m\u001b[1;33m,\u001b[0m \u001b[0mself\u001b[0m\u001b[1;33m.\u001b[0m\u001b[0mport\u001b[0m\u001b[1;33m)\u001b[0m\u001b[1;33m,\u001b[0m \u001b[0mself\u001b[0m\u001b[1;33m.\u001b[0m\u001b[0mtimeout\u001b[0m\u001b[1;33m,\u001b[0m \u001b[1;33m**\u001b[0m\u001b[0mextra_kw\u001b[0m\u001b[1;33m\u001b[0m\u001b[1;33m\u001b[0m\u001b[0m\n",
      "\u001b[1;32m~\\anaconda3\\lib\\site-packages\\urllib3\\util\\connection.py\u001b[0m in \u001b[0;36mcreate_connection\u001b[1;34m(address, timeout, source_address, socket_options)\u001b[0m\n\u001b[0;32m     60\u001b[0m \u001b[1;33m\u001b[0m\u001b[0m\n\u001b[1;32m---> 61\u001b[1;33m     \u001b[1;32mfor\u001b[0m \u001b[0mres\u001b[0m \u001b[1;32min\u001b[0m \u001b[0msocket\u001b[0m\u001b[1;33m.\u001b[0m\u001b[0mgetaddrinfo\u001b[0m\u001b[1;33m(\u001b[0m\u001b[0mhost\u001b[0m\u001b[1;33m,\u001b[0m \u001b[0mport\u001b[0m\u001b[1;33m,\u001b[0m \u001b[0mfamily\u001b[0m\u001b[1;33m,\u001b[0m \u001b[0msocket\u001b[0m\u001b[1;33m.\u001b[0m\u001b[0mSOCK_STREAM\u001b[0m\u001b[1;33m)\u001b[0m\u001b[1;33m:\u001b[0m\u001b[1;33m\u001b[0m\u001b[1;33m\u001b[0m\u001b[0m\n\u001b[0m\u001b[0;32m     62\u001b[0m         \u001b[0maf\u001b[0m\u001b[1;33m,\u001b[0m \u001b[0msocktype\u001b[0m\u001b[1;33m,\u001b[0m \u001b[0mproto\u001b[0m\u001b[1;33m,\u001b[0m \u001b[0mcanonname\u001b[0m\u001b[1;33m,\u001b[0m \u001b[0msa\u001b[0m \u001b[1;33m=\u001b[0m \u001b[0mres\u001b[0m\u001b[1;33m\u001b[0m\u001b[1;33m\u001b[0m\u001b[0m\n",
      "\u001b[1;32m~\\anaconda3\\lib\\socket.py\u001b[0m in \u001b[0;36mgetaddrinfo\u001b[1;34m(host, port, family, type, proto, flags)\u001b[0m\n\u001b[0;32m    917\u001b[0m     \u001b[0maddrlist\u001b[0m \u001b[1;33m=\u001b[0m \u001b[1;33m[\u001b[0m\u001b[1;33m]\u001b[0m\u001b[1;33m\u001b[0m\u001b[1;33m\u001b[0m\u001b[0m\n\u001b[1;32m--> 918\u001b[1;33m     \u001b[1;32mfor\u001b[0m \u001b[0mres\u001b[0m \u001b[1;32min\u001b[0m \u001b[0m_socket\u001b[0m\u001b[1;33m.\u001b[0m\u001b[0mgetaddrinfo\u001b[0m\u001b[1;33m(\u001b[0m\u001b[0mhost\u001b[0m\u001b[1;33m,\u001b[0m \u001b[0mport\u001b[0m\u001b[1;33m,\u001b[0m \u001b[0mfamily\u001b[0m\u001b[1;33m,\u001b[0m \u001b[0mtype\u001b[0m\u001b[1;33m,\u001b[0m \u001b[0mproto\u001b[0m\u001b[1;33m,\u001b[0m \u001b[0mflags\u001b[0m\u001b[1;33m)\u001b[0m\u001b[1;33m:\u001b[0m\u001b[1;33m\u001b[0m\u001b[1;33m\u001b[0m\u001b[0m\n\u001b[0m\u001b[0;32m    919\u001b[0m         \u001b[0maf\u001b[0m\u001b[1;33m,\u001b[0m \u001b[0msocktype\u001b[0m\u001b[1;33m,\u001b[0m \u001b[0mproto\u001b[0m\u001b[1;33m,\u001b[0m \u001b[0mcanonname\u001b[0m\u001b[1;33m,\u001b[0m \u001b[0msa\u001b[0m \u001b[1;33m=\u001b[0m \u001b[0mres\u001b[0m\u001b[1;33m\u001b[0m\u001b[1;33m\u001b[0m\u001b[0m\n",
      "\u001b[1;31mgaierror\u001b[0m: [Errno 11001] getaddrinfo failed",
      "\nDuring handling of the above exception, another exception occurred:\n",
      "\u001b[1;31mNewConnectionError\u001b[0m                        Traceback (most recent call last)",
      "\u001b[1;32m~\\anaconda3\\lib\\site-packages\\urllib3\\connectionpool.py\u001b[0m in \u001b[0;36murlopen\u001b[1;34m(self, method, url, body, headers, retries, redirect, assert_same_host, timeout, pool_timeout, release_conn, chunked, body_pos, **response_kw)\u001b[0m\n\u001b[0;32m    669\u001b[0m             \u001b[1;31m# Make the request on the httplib connection object.\u001b[0m\u001b[1;33m\u001b[0m\u001b[1;33m\u001b[0m\u001b[1;33m\u001b[0m\u001b[0m\n\u001b[1;32m--> 670\u001b[1;33m             httplib_response = self._make_request(\n\u001b[0m\u001b[0;32m    671\u001b[0m                 \u001b[0mconn\u001b[0m\u001b[1;33m,\u001b[0m\u001b[1;33m\u001b[0m\u001b[1;33m\u001b[0m\u001b[0m\n",
      "\u001b[1;32m~\\anaconda3\\lib\\site-packages\\urllib3\\connectionpool.py\u001b[0m in \u001b[0;36m_make_request\u001b[1;34m(self, conn, method, url, timeout, chunked, **httplib_request_kw)\u001b[0m\n\u001b[0;32m    380\u001b[0m         \u001b[1;32mtry\u001b[0m\u001b[1;33m:\u001b[0m\u001b[1;33m\u001b[0m\u001b[1;33m\u001b[0m\u001b[0m\n\u001b[1;32m--> 381\u001b[1;33m             \u001b[0mself\u001b[0m\u001b[1;33m.\u001b[0m\u001b[0m_validate_conn\u001b[0m\u001b[1;33m(\u001b[0m\u001b[0mconn\u001b[0m\u001b[1;33m)\u001b[0m\u001b[1;33m\u001b[0m\u001b[1;33m\u001b[0m\u001b[0m\n\u001b[0m\u001b[0;32m    382\u001b[0m         \u001b[1;32mexcept\u001b[0m \u001b[1;33m(\u001b[0m\u001b[0mSocketTimeout\u001b[0m\u001b[1;33m,\u001b[0m \u001b[0mBaseSSLError\u001b[0m\u001b[1;33m)\u001b[0m \u001b[1;32mas\u001b[0m \u001b[0me\u001b[0m\u001b[1;33m:\u001b[0m\u001b[1;33m\u001b[0m\u001b[1;33m\u001b[0m\u001b[0m\n",
      "\u001b[1;32m~\\anaconda3\\lib\\site-packages\\urllib3\\connectionpool.py\u001b[0m in \u001b[0;36m_validate_conn\u001b[1;34m(self, conn)\u001b[0m\n\u001b[0;32m    975\u001b[0m         \u001b[1;32mif\u001b[0m \u001b[1;32mnot\u001b[0m \u001b[0mgetattr\u001b[0m\u001b[1;33m(\u001b[0m\u001b[0mconn\u001b[0m\u001b[1;33m,\u001b[0m \u001b[1;34m\"sock\"\u001b[0m\u001b[1;33m,\u001b[0m \u001b[1;32mNone\u001b[0m\u001b[1;33m)\u001b[0m\u001b[1;33m:\u001b[0m  \u001b[1;31m# AppEngine might not have  `.sock`\u001b[0m\u001b[1;33m\u001b[0m\u001b[1;33m\u001b[0m\u001b[0m\n\u001b[1;32m--> 976\u001b[1;33m             \u001b[0mconn\u001b[0m\u001b[1;33m.\u001b[0m\u001b[0mconnect\u001b[0m\u001b[1;33m(\u001b[0m\u001b[1;33m)\u001b[0m\u001b[1;33m\u001b[0m\u001b[1;33m\u001b[0m\u001b[0m\n\u001b[0m\u001b[0;32m    977\u001b[0m \u001b[1;33m\u001b[0m\u001b[0m\n",
      "\u001b[1;32m~\\anaconda3\\lib\\site-packages\\urllib3\\connection.py\u001b[0m in \u001b[0;36mconnect\u001b[1;34m(self)\u001b[0m\n\u001b[0;32m    307\u001b[0m         \u001b[1;31m# Add certificate verification\u001b[0m\u001b[1;33m\u001b[0m\u001b[1;33m\u001b[0m\u001b[1;33m\u001b[0m\u001b[0m\n\u001b[1;32m--> 308\u001b[1;33m         \u001b[0mconn\u001b[0m \u001b[1;33m=\u001b[0m \u001b[0mself\u001b[0m\u001b[1;33m.\u001b[0m\u001b[0m_new_conn\u001b[0m\u001b[1;33m(\u001b[0m\u001b[1;33m)\u001b[0m\u001b[1;33m\u001b[0m\u001b[1;33m\u001b[0m\u001b[0m\n\u001b[0m\u001b[0;32m    309\u001b[0m         \u001b[0mhostname\u001b[0m \u001b[1;33m=\u001b[0m \u001b[0mself\u001b[0m\u001b[1;33m.\u001b[0m\u001b[0mhost\u001b[0m\u001b[1;33m\u001b[0m\u001b[1;33m\u001b[0m\u001b[0m\n",
      "\u001b[1;32m~\\anaconda3\\lib\\site-packages\\urllib3\\connection.py\u001b[0m in \u001b[0;36m_new_conn\u001b[1;34m(self)\u001b[0m\n\u001b[0;32m    170\u001b[0m         \u001b[1;32mexcept\u001b[0m \u001b[0mSocketError\u001b[0m \u001b[1;32mas\u001b[0m \u001b[0me\u001b[0m\u001b[1;33m:\u001b[0m\u001b[1;33m\u001b[0m\u001b[1;33m\u001b[0m\u001b[0m\n\u001b[1;32m--> 171\u001b[1;33m             raise NewConnectionError(\n\u001b[0m\u001b[0;32m    172\u001b[0m                 \u001b[0mself\u001b[0m\u001b[1;33m,\u001b[0m \u001b[1;34m\"Failed to establish a new connection: %s\"\u001b[0m \u001b[1;33m%\u001b[0m \u001b[0me\u001b[0m\u001b[1;33m\u001b[0m\u001b[1;33m\u001b[0m\u001b[0m\n",
      "\u001b[1;31mNewConnectionError\u001b[0m: <urllib3.connection.HTTPSConnection object at 0x000002569AF592B0>: Failed to establish a new connection: [Errno 11001] getaddrinfo failed",
      "\nDuring handling of the above exception, another exception occurred:\n",
      "\u001b[1;31mMaxRetryError\u001b[0m                             Traceback (most recent call last)",
      "\u001b[1;32m~\\anaconda3\\lib\\site-packages\\requests\\adapters.py\u001b[0m in \u001b[0;36msend\u001b[1;34m(self, request, stream, timeout, verify, cert, proxies)\u001b[0m\n\u001b[0;32m    438\u001b[0m             \u001b[1;32mif\u001b[0m \u001b[1;32mnot\u001b[0m \u001b[0mchunked\u001b[0m\u001b[1;33m:\u001b[0m\u001b[1;33m\u001b[0m\u001b[1;33m\u001b[0m\u001b[0m\n\u001b[1;32m--> 439\u001b[1;33m                 resp = conn.urlopen(\n\u001b[0m\u001b[0;32m    440\u001b[0m                     \u001b[0mmethod\u001b[0m\u001b[1;33m=\u001b[0m\u001b[0mrequest\u001b[0m\u001b[1;33m.\u001b[0m\u001b[0mmethod\u001b[0m\u001b[1;33m,\u001b[0m\u001b[1;33m\u001b[0m\u001b[1;33m\u001b[0m\u001b[0m\n",
      "\u001b[1;32m~\\anaconda3\\lib\\site-packages\\urllib3\\connectionpool.py\u001b[0m in \u001b[0;36murlopen\u001b[1;34m(self, method, url, body, headers, retries, redirect, assert_same_host, timeout, pool_timeout, release_conn, chunked, body_pos, **response_kw)\u001b[0m\n\u001b[0;32m    723\u001b[0m \u001b[1;33m\u001b[0m\u001b[0m\n\u001b[1;32m--> 724\u001b[1;33m             retries = retries.increment(\n\u001b[0m\u001b[0;32m    725\u001b[0m                 \u001b[0mmethod\u001b[0m\u001b[1;33m,\u001b[0m \u001b[0murl\u001b[0m\u001b[1;33m,\u001b[0m \u001b[0merror\u001b[0m\u001b[1;33m=\u001b[0m\u001b[0me\u001b[0m\u001b[1;33m,\u001b[0m \u001b[0m_pool\u001b[0m\u001b[1;33m=\u001b[0m\u001b[0mself\u001b[0m\u001b[1;33m,\u001b[0m \u001b[0m_stacktrace\u001b[0m\u001b[1;33m=\u001b[0m\u001b[0msys\u001b[0m\u001b[1;33m.\u001b[0m\u001b[0mexc_info\u001b[0m\u001b[1;33m(\u001b[0m\u001b[1;33m)\u001b[0m\u001b[1;33m[\u001b[0m\u001b[1;36m2\u001b[0m\u001b[1;33m]\u001b[0m\u001b[1;33m\u001b[0m\u001b[1;33m\u001b[0m\u001b[0m\n",
      "\u001b[1;32m~\\anaconda3\\lib\\site-packages\\urllib3\\util\\retry.py\u001b[0m in \u001b[0;36mincrement\u001b[1;34m(self, method, url, response, error, _pool, _stacktrace)\u001b[0m\n\u001b[0;32m    438\u001b[0m         \u001b[1;32mif\u001b[0m \u001b[0mnew_retry\u001b[0m\u001b[1;33m.\u001b[0m\u001b[0mis_exhausted\u001b[0m\u001b[1;33m(\u001b[0m\u001b[1;33m)\u001b[0m\u001b[1;33m:\u001b[0m\u001b[1;33m\u001b[0m\u001b[1;33m\u001b[0m\u001b[0m\n\u001b[1;32m--> 439\u001b[1;33m             \u001b[1;32mraise\u001b[0m \u001b[0mMaxRetryError\u001b[0m\u001b[1;33m(\u001b[0m\u001b[0m_pool\u001b[0m\u001b[1;33m,\u001b[0m \u001b[0murl\u001b[0m\u001b[1;33m,\u001b[0m \u001b[0merror\u001b[0m \u001b[1;32mor\u001b[0m \u001b[0mResponseError\u001b[0m\u001b[1;33m(\u001b[0m\u001b[0mcause\u001b[0m\u001b[1;33m)\u001b[0m\u001b[1;33m)\u001b[0m\u001b[1;33m\u001b[0m\u001b[1;33m\u001b[0m\u001b[0m\n\u001b[0m\u001b[0;32m    440\u001b[0m \u001b[1;33m\u001b[0m\u001b[0m\n",
      "\u001b[1;31mMaxRetryError\u001b[0m: HTTPSConnectionPool(host='api.foursquare.com', port=443): Max retries exceeded with url: /v2/venues/explore?&client_id=PL0VH1QJYGQJLTXMZ51DBMDUQRPJQ3HSJRXJYVDMO5DTXENS&client_secret=VYOLXAIYEVC4PCF0MNTC3MFKRMTAJQYPL1AD3MZAHSOA5BLM&v=20201019&ll=43.7280205,-79.3887901&radius=500&limit=100 (Caused by NewConnectionError('<urllib3.connection.HTTPSConnection object at 0x000002569AF592B0>: Failed to establish a new connection: [Errno 11001] getaddrinfo failed'))",
      "\nDuring handling of the above exception, another exception occurred:\n",
      "\u001b[1;31mConnectionError\u001b[0m                           Traceback (most recent call last)",
      "\u001b[1;32m<ipython-input-89-f048ffce0a17>\u001b[0m in \u001b[0;36m<module>\u001b[1;34m\u001b[0m\n\u001b[1;32m----> 1\u001b[1;33m \u001b[0mresults\u001b[0m \u001b[1;33m=\u001b[0m \u001b[0mrequests\u001b[0m\u001b[1;33m.\u001b[0m\u001b[0mget\u001b[0m\u001b[1;33m(\u001b[0m\u001b[0murl\u001b[0m\u001b[1;33m)\u001b[0m\u001b[1;33m.\u001b[0m\u001b[0mjson\u001b[0m\u001b[1;33m(\u001b[0m\u001b[1;33m)\u001b[0m\u001b[1;33m\u001b[0m\u001b[1;33m\u001b[0m\u001b[0m\n\u001b[0m\u001b[0;32m      2\u001b[0m \u001b[0mresults\u001b[0m\u001b[1;33m\u001b[0m\u001b[1;33m\u001b[0m\u001b[0m\n",
      "\u001b[1;32m~\\anaconda3\\lib\\site-packages\\requests\\api.py\u001b[0m in \u001b[0;36mget\u001b[1;34m(url, params, **kwargs)\u001b[0m\n\u001b[0;32m     74\u001b[0m \u001b[1;33m\u001b[0m\u001b[0m\n\u001b[0;32m     75\u001b[0m     \u001b[0mkwargs\u001b[0m\u001b[1;33m.\u001b[0m\u001b[0msetdefault\u001b[0m\u001b[1;33m(\u001b[0m\u001b[1;34m'allow_redirects'\u001b[0m\u001b[1;33m,\u001b[0m \u001b[1;32mTrue\u001b[0m\u001b[1;33m)\u001b[0m\u001b[1;33m\u001b[0m\u001b[1;33m\u001b[0m\u001b[0m\n\u001b[1;32m---> 76\u001b[1;33m     \u001b[1;32mreturn\u001b[0m \u001b[0mrequest\u001b[0m\u001b[1;33m(\u001b[0m\u001b[1;34m'get'\u001b[0m\u001b[1;33m,\u001b[0m \u001b[0murl\u001b[0m\u001b[1;33m,\u001b[0m \u001b[0mparams\u001b[0m\u001b[1;33m=\u001b[0m\u001b[0mparams\u001b[0m\u001b[1;33m,\u001b[0m \u001b[1;33m**\u001b[0m\u001b[0mkwargs\u001b[0m\u001b[1;33m)\u001b[0m\u001b[1;33m\u001b[0m\u001b[1;33m\u001b[0m\u001b[0m\n\u001b[0m\u001b[0;32m     77\u001b[0m \u001b[1;33m\u001b[0m\u001b[0m\n\u001b[0;32m     78\u001b[0m \u001b[1;33m\u001b[0m\u001b[0m\n",
      "\u001b[1;32m~\\anaconda3\\lib\\site-packages\\requests\\api.py\u001b[0m in \u001b[0;36mrequest\u001b[1;34m(method, url, **kwargs)\u001b[0m\n\u001b[0;32m     59\u001b[0m     \u001b[1;31m# cases, and look like a memory leak in others.\u001b[0m\u001b[1;33m\u001b[0m\u001b[1;33m\u001b[0m\u001b[1;33m\u001b[0m\u001b[0m\n\u001b[0;32m     60\u001b[0m     \u001b[1;32mwith\u001b[0m \u001b[0msessions\u001b[0m\u001b[1;33m.\u001b[0m\u001b[0mSession\u001b[0m\u001b[1;33m(\u001b[0m\u001b[1;33m)\u001b[0m \u001b[1;32mas\u001b[0m \u001b[0msession\u001b[0m\u001b[1;33m:\u001b[0m\u001b[1;33m\u001b[0m\u001b[1;33m\u001b[0m\u001b[0m\n\u001b[1;32m---> 61\u001b[1;33m         \u001b[1;32mreturn\u001b[0m \u001b[0msession\u001b[0m\u001b[1;33m.\u001b[0m\u001b[0mrequest\u001b[0m\u001b[1;33m(\u001b[0m\u001b[0mmethod\u001b[0m\u001b[1;33m=\u001b[0m\u001b[0mmethod\u001b[0m\u001b[1;33m,\u001b[0m \u001b[0murl\u001b[0m\u001b[1;33m=\u001b[0m\u001b[0murl\u001b[0m\u001b[1;33m,\u001b[0m \u001b[1;33m**\u001b[0m\u001b[0mkwargs\u001b[0m\u001b[1;33m)\u001b[0m\u001b[1;33m\u001b[0m\u001b[1;33m\u001b[0m\u001b[0m\n\u001b[0m\u001b[0;32m     62\u001b[0m \u001b[1;33m\u001b[0m\u001b[0m\n\u001b[0;32m     63\u001b[0m \u001b[1;33m\u001b[0m\u001b[0m\n",
      "\u001b[1;32m~\\anaconda3\\lib\\site-packages\\requests\\sessions.py\u001b[0m in \u001b[0;36mrequest\u001b[1;34m(self, method, url, params, data, headers, cookies, files, auth, timeout, allow_redirects, proxies, hooks, stream, verify, cert, json)\u001b[0m\n\u001b[0;32m    528\u001b[0m         }\n\u001b[0;32m    529\u001b[0m         \u001b[0msend_kwargs\u001b[0m\u001b[1;33m.\u001b[0m\u001b[0mupdate\u001b[0m\u001b[1;33m(\u001b[0m\u001b[0msettings\u001b[0m\u001b[1;33m)\u001b[0m\u001b[1;33m\u001b[0m\u001b[1;33m\u001b[0m\u001b[0m\n\u001b[1;32m--> 530\u001b[1;33m         \u001b[0mresp\u001b[0m \u001b[1;33m=\u001b[0m \u001b[0mself\u001b[0m\u001b[1;33m.\u001b[0m\u001b[0msend\u001b[0m\u001b[1;33m(\u001b[0m\u001b[0mprep\u001b[0m\u001b[1;33m,\u001b[0m \u001b[1;33m**\u001b[0m\u001b[0msend_kwargs\u001b[0m\u001b[1;33m)\u001b[0m\u001b[1;33m\u001b[0m\u001b[1;33m\u001b[0m\u001b[0m\n\u001b[0m\u001b[0;32m    531\u001b[0m \u001b[1;33m\u001b[0m\u001b[0m\n\u001b[0;32m    532\u001b[0m         \u001b[1;32mreturn\u001b[0m \u001b[0mresp\u001b[0m\u001b[1;33m\u001b[0m\u001b[1;33m\u001b[0m\u001b[0m\n",
      "\u001b[1;32m~\\anaconda3\\lib\\site-packages\\requests\\sessions.py\u001b[0m in \u001b[0;36msend\u001b[1;34m(self, request, **kwargs)\u001b[0m\n\u001b[0;32m    641\u001b[0m \u001b[1;33m\u001b[0m\u001b[0m\n\u001b[0;32m    642\u001b[0m         \u001b[1;31m# Send the request\u001b[0m\u001b[1;33m\u001b[0m\u001b[1;33m\u001b[0m\u001b[1;33m\u001b[0m\u001b[0m\n\u001b[1;32m--> 643\u001b[1;33m         \u001b[0mr\u001b[0m \u001b[1;33m=\u001b[0m \u001b[0madapter\u001b[0m\u001b[1;33m.\u001b[0m\u001b[0msend\u001b[0m\u001b[1;33m(\u001b[0m\u001b[0mrequest\u001b[0m\u001b[1;33m,\u001b[0m \u001b[1;33m**\u001b[0m\u001b[0mkwargs\u001b[0m\u001b[1;33m)\u001b[0m\u001b[1;33m\u001b[0m\u001b[1;33m\u001b[0m\u001b[0m\n\u001b[0m\u001b[0;32m    644\u001b[0m \u001b[1;33m\u001b[0m\u001b[0m\n\u001b[0;32m    645\u001b[0m         \u001b[1;31m# Total elapsed time of the request (approximately)\u001b[0m\u001b[1;33m\u001b[0m\u001b[1;33m\u001b[0m\u001b[1;33m\u001b[0m\u001b[0m\n",
      "\u001b[1;32m~\\anaconda3\\lib\\site-packages\\requests\\adapters.py\u001b[0m in \u001b[0;36msend\u001b[1;34m(self, request, stream, timeout, verify, cert, proxies)\u001b[0m\n\u001b[0;32m    514\u001b[0m                 \u001b[1;32mraise\u001b[0m \u001b[0mSSLError\u001b[0m\u001b[1;33m(\u001b[0m\u001b[0me\u001b[0m\u001b[1;33m,\u001b[0m \u001b[0mrequest\u001b[0m\u001b[1;33m=\u001b[0m\u001b[0mrequest\u001b[0m\u001b[1;33m)\u001b[0m\u001b[1;33m\u001b[0m\u001b[1;33m\u001b[0m\u001b[0m\n\u001b[0;32m    515\u001b[0m \u001b[1;33m\u001b[0m\u001b[0m\n\u001b[1;32m--> 516\u001b[1;33m             \u001b[1;32mraise\u001b[0m \u001b[0mConnectionError\u001b[0m\u001b[1;33m(\u001b[0m\u001b[0me\u001b[0m\u001b[1;33m,\u001b[0m \u001b[0mrequest\u001b[0m\u001b[1;33m=\u001b[0m\u001b[0mrequest\u001b[0m\u001b[1;33m)\u001b[0m\u001b[1;33m\u001b[0m\u001b[1;33m\u001b[0m\u001b[0m\n\u001b[0m\u001b[0;32m    517\u001b[0m \u001b[1;33m\u001b[0m\u001b[0m\n\u001b[0;32m    518\u001b[0m         \u001b[1;32mexcept\u001b[0m \u001b[0mClosedPoolError\u001b[0m \u001b[1;32mas\u001b[0m \u001b[0me\u001b[0m\u001b[1;33m:\u001b[0m\u001b[1;33m\u001b[0m\u001b[1;33m\u001b[0m\u001b[0m\n",
      "\u001b[1;31mConnectionError\u001b[0m: HTTPSConnectionPool(host='api.foursquare.com', port=443): Max retries exceeded with url: /v2/venues/explore?&client_id=PL0VH1QJYGQJLTXMZ51DBMDUQRPJQ3HSJRXJYVDMO5DTXENS&client_secret=VYOLXAIYEVC4PCF0MNTC3MFKRMTAJQYPL1AD3MZAHSOA5BLM&v=20201019&ll=43.7280205,-79.3887901&radius=500&limit=100 (Caused by NewConnectionError('<urllib3.connection.HTTPSConnection object at 0x000002569AF592B0>: Failed to establish a new connection: [Errno 11001] getaddrinfo failed'))"
     ]
    }
   ],
   "source": [
    "results = requests.get(url).json()\n",
    "results"
   ]
  },
  {
   "cell_type": "markdown",
   "metadata": {},
   "source": [
    "- We know that all the information is in the items key. Before we proceed, let's borrow the get_category_type function from the Foursquare lab."
   ]
  },
  {
   "cell_type": "code",
   "execution_count": null,
   "metadata": {},
   "outputs": [],
   "source": [
    "# function that extracts the category of the venue\n",
    "def get_category_type(row):\n",
    "    try:\n",
    "        categories_list = row['categories']\n",
    "    except:\n",
    "        categories_list = row['venue.categories']\n",
    "        \n",
    "    if len(categories_list) == 0:\n",
    "        return None\n",
    "    else:\n",
    "        return categories_list[0]['name']"
   ]
  },
  {
   "cell_type": "markdown",
   "metadata": {},
   "source": [
    "- Now we are ready to clean the json and structure it into a pandas dataframe."
   ]
  },
  {
   "cell_type": "code",
   "execution_count": 90,
   "metadata": {},
   "outputs": [
    {
     "name": "stderr",
     "output_type": "stream",
     "text": [
      "<ipython-input-90-561c05f0fdd1>:3: FutureWarning: pandas.io.json.json_normalize is deprecated, use pandas.json_normalize instead\n",
      "  nearby_venues = json_normalize(venues) # flatten JSON\n"
     ]
    },
    {
     "data": {
      "text/html": [
       "<div>\n",
       "<style scoped>\n",
       "    .dataframe tbody tr th:only-of-type {\n",
       "        vertical-align: middle;\n",
       "    }\n",
       "\n",
       "    .dataframe tbody tr th {\n",
       "        vertical-align: top;\n",
       "    }\n",
       "\n",
       "    .dataframe thead th {\n",
       "        text-align: right;\n",
       "    }\n",
       "</style>\n",
       "<table border=\"1\" class=\"dataframe\">\n",
       "  <thead>\n",
       "    <tr style=\"text-align: right;\">\n",
       "      <th></th>\n",
       "      <th>name</th>\n",
       "      <th>categories</th>\n",
       "      <th>lat</th>\n",
       "      <th>lng</th>\n",
       "    </tr>\n",
       "  </thead>\n",
       "  <tbody>\n",
       "    <tr>\n",
       "      <th>0</th>\n",
       "      <td>Lawrence Park Ravine</td>\n",
       "      <td>Park</td>\n",
       "      <td>43.726963</td>\n",
       "      <td>-79.394382</td>\n",
       "    </tr>\n",
       "    <tr>\n",
       "      <th>1</th>\n",
       "      <td>Zodiac Swim School</td>\n",
       "      <td>Swim School</td>\n",
       "      <td>43.728532</td>\n",
       "      <td>-79.382860</td>\n",
       "    </tr>\n",
       "    <tr>\n",
       "      <th>2</th>\n",
       "      <td>TTC Bus #162 - Lawrence-Donway</td>\n",
       "      <td>Bus Line</td>\n",
       "      <td>43.728026</td>\n",
       "      <td>-79.382805</td>\n",
       "    </tr>\n",
       "  </tbody>\n",
       "</table>\n",
       "</div>"
      ],
      "text/plain": [
       "                             name   categories        lat        lng\n",
       "0            Lawrence Park Ravine         Park  43.726963 -79.394382\n",
       "1              Zodiac Swim School  Swim School  43.728532 -79.382860\n",
       "2  TTC Bus #162 - Lawrence-Donway     Bus Line  43.728026 -79.382805"
      ]
     },
     "execution_count": 90,
     "metadata": {},
     "output_type": "execute_result"
    }
   ],
   "source": [
    "venues = results['response']['groups'][0]['items']\n",
    "    \n",
    "nearby_venues = json_normalize(venues) # flatten JSON\n",
    "\n",
    "# filter columns\n",
    "filtered_columns = ['venue.name', 'venue.categories', 'venue.location.lat', 'venue.location.lng']\n",
    "nearby_venues =nearby_venues.loc[:, filtered_columns]\n",
    "\n",
    "# filter the category for each row\n",
    "nearby_venues['venue.categories'] = nearby_venues.apply(get_category_type, axis=1)\n",
    "\n",
    "# clean columns\n",
    "nearby_venues.columns = [col.split(\".\")[-1] for col in nearby_venues.columns]\n",
    "\n",
    "nearby_venues.head()"
   ]
  },
  {
   "cell_type": "code",
   "execution_count": 91,
   "metadata": {},
   "outputs": [
    {
     "name": "stdout",
     "output_type": "stream",
     "text": [
      "3 venues were returned by Foursquare.\n"
     ]
    }
   ],
   "source": [
    "print('{} venues were returned by Foursquare.'.format(nearby_venues.shape[0]))"
   ]
  },
  {
   "cell_type": "markdown",
   "metadata": {},
   "source": [
    "#### Exploring the neighborhoods in Central Toronto"
   ]
  },
  {
   "cell_type": "markdown",
   "metadata": {},
   "source": [
    "- Let's create a function to repeat the same process to all the neighborhoods in Central Toronto"
   ]
  },
  {
   "cell_type": "code",
   "execution_count": 92,
   "metadata": {},
   "outputs": [],
   "source": [
    "def getNearbyVenues(names, latitudes, longitudes, radius=500):\n",
    "    \n",
    "    venues_list=[]\n",
    "    for name, lat, lng in zip(names, latitudes, longitudes):\n",
    "        print(name)\n",
    "            \n",
    "        # create the API request URL\n",
    "        url = 'https://api.foursquare.com/v2/venues/explore?&client_id={}&client_secret={}&v={}&ll={},{}&radius={}&limit={}'.format(\n",
    "            CLIENT_ID, \n",
    "            CLIENT_SECRET, \n",
    "            VERSION, \n",
    "            lat, \n",
    "            lng, \n",
    "            radius, \n",
    "            LIMIT)\n",
    "            \n",
    "        # make the GET request\n",
    "        results = requests.get(url).json()[\"response\"]['groups'][0]['items']\n",
    "        \n",
    "        # return only relevant information for each nearby venue\n",
    "        venues_list.append([(\n",
    "            name, \n",
    "            lat, \n",
    "            lng, \n",
    "            v['venue']['name'], \n",
    "            v['venue']['location']['lat'], \n",
    "            v['venue']['location']['lng'],  \n",
    "            v['venue']['categories'][0]['name']) for v in results])\n",
    "\n",
    "    nearby_venues = pd.DataFrame([item for venue_list in venues_list for item in venue_list])\n",
    "    nearby_venues.columns = ['Neighborhood', \n",
    "                  'Neighborhood Latitude', \n",
    "                  'Neighborhood Longitude', \n",
    "                  'Venue', \n",
    "                  'Venue Latitude', \n",
    "                  'Venue Longitude', \n",
    "                  'Venue Category']\n",
    "    \n",
    "    return(nearby_venues)"
   ]
  },
  {
   "cell_type": "markdown",
   "metadata": {},
   "source": [
    "- Now write the code to run the above function on each neighborhood and create a new dataframe called manhattan_venues."
   ]
  },
  {
   "cell_type": "code",
   "execution_count": 93,
   "metadata": {},
   "outputs": [
    {
     "name": "stdout",
     "output_type": "stream",
     "text": [
      "Lawrence Park\n",
      "Roselawn\n",
      "Davisville North\n",
      "Forest Hill North & West, Forest Hill Road Park\n",
      "North Toronto West,  Lawrence Park\n",
      "The Annex, North Midtown, Yorkville\n",
      "Davisville\n",
      "Moore Park, Summerhill East\n",
      "Summerhill West, Rathnelly, South Hill, Forest Hill SE, Deer Park\n"
     ]
    }
   ],
   "source": [
    "# type your answer here\n",
    "ctrltor_venues = getNearbyVenues(names=ctrltor_data['Neighborhood'],\n",
    "                                   latitudes=ctrltor_data['Latitude'],\n",
    "                                   longitudes=ctrltor_data['Longitude'])"
   ]
  },
  {
   "cell_type": "code",
   "execution_count": 94,
   "metadata": {},
   "outputs": [
    {
     "name": "stdout",
     "output_type": "stream",
     "text": [
      "(104, 7)\n"
     ]
    },
    {
     "data": {
      "text/html": [
       "<div>\n",
       "<style scoped>\n",
       "    .dataframe tbody tr th:only-of-type {\n",
       "        vertical-align: middle;\n",
       "    }\n",
       "\n",
       "    .dataframe tbody tr th {\n",
       "        vertical-align: top;\n",
       "    }\n",
       "\n",
       "    .dataframe thead th {\n",
       "        text-align: right;\n",
       "    }\n",
       "</style>\n",
       "<table border=\"1\" class=\"dataframe\">\n",
       "  <thead>\n",
       "    <tr style=\"text-align: right;\">\n",
       "      <th></th>\n",
       "      <th>Neighborhood</th>\n",
       "      <th>Neighborhood Latitude</th>\n",
       "      <th>Neighborhood Longitude</th>\n",
       "      <th>Venue</th>\n",
       "      <th>Venue Latitude</th>\n",
       "      <th>Venue Longitude</th>\n",
       "      <th>Venue Category</th>\n",
       "    </tr>\n",
       "  </thead>\n",
       "  <tbody>\n",
       "    <tr>\n",
       "      <th>0</th>\n",
       "      <td>Lawrence Park</td>\n",
       "      <td>43.728020</td>\n",
       "      <td>-79.388790</td>\n",
       "      <td>Lawrence Park Ravine</td>\n",
       "      <td>43.726963</td>\n",
       "      <td>-79.394382</td>\n",
       "      <td>Park</td>\n",
       "    </tr>\n",
       "    <tr>\n",
       "      <th>1</th>\n",
       "      <td>Lawrence Park</td>\n",
       "      <td>43.728020</td>\n",
       "      <td>-79.388790</td>\n",
       "      <td>Zodiac Swim School</td>\n",
       "      <td>43.728532</td>\n",
       "      <td>-79.382860</td>\n",
       "      <td>Swim School</td>\n",
       "    </tr>\n",
       "    <tr>\n",
       "      <th>2</th>\n",
       "      <td>Lawrence Park</td>\n",
       "      <td>43.728020</td>\n",
       "      <td>-79.388790</td>\n",
       "      <td>TTC Bus #162 - Lawrence-Donway</td>\n",
       "      <td>43.728026</td>\n",
       "      <td>-79.382805</td>\n",
       "      <td>Bus Line</td>\n",
       "    </tr>\n",
       "    <tr>\n",
       "      <th>3</th>\n",
       "      <td>Roselawn</td>\n",
       "      <td>43.711695</td>\n",
       "      <td>-79.416936</td>\n",
       "      <td>Rosalind's Garden Oasis</td>\n",
       "      <td>43.712189</td>\n",
       "      <td>-79.411978</td>\n",
       "      <td>Garden</td>\n",
       "    </tr>\n",
       "    <tr>\n",
       "      <th>4</th>\n",
       "      <td>Roselawn</td>\n",
       "      <td>43.711695</td>\n",
       "      <td>-79.416936</td>\n",
       "      <td>Havergal College</td>\n",
       "      <td>43.712108</td>\n",
       "      <td>-79.411680</td>\n",
       "      <td>Music Venue</td>\n",
       "    </tr>\n",
       "  </tbody>\n",
       "</table>\n",
       "</div>"
      ],
      "text/plain": [
       "    Neighborhood  Neighborhood Latitude  Neighborhood Longitude  \\\n",
       "0  Lawrence Park              43.728020              -79.388790   \n",
       "1  Lawrence Park              43.728020              -79.388790   \n",
       "2  Lawrence Park              43.728020              -79.388790   \n",
       "3       Roselawn              43.711695              -79.416936   \n",
       "4       Roselawn              43.711695              -79.416936   \n",
       "\n",
       "                            Venue  Venue Latitude  Venue Longitude  \\\n",
       "0            Lawrence Park Ravine       43.726963       -79.394382   \n",
       "1              Zodiac Swim School       43.728532       -79.382860   \n",
       "2  TTC Bus #162 - Lawrence-Donway       43.728026       -79.382805   \n",
       "3         Rosalind's Garden Oasis       43.712189       -79.411978   \n",
       "4                Havergal College       43.712108       -79.411680   \n",
       "\n",
       "  Venue Category  \n",
       "0           Park  \n",
       "1    Swim School  \n",
       "2       Bus Line  \n",
       "3         Garden  \n",
       "4    Music Venue  "
      ]
     },
     "execution_count": 94,
     "metadata": {},
     "output_type": "execute_result"
    }
   ],
   "source": [
    "print(ctrltor_venues.shape)\n",
    "ctrltor_venues.head()"
   ]
  },
  {
   "cell_type": "code",
   "execution_count": 95,
   "metadata": {},
   "outputs": [
    {
     "data": {
      "text/html": [
       "<div>\n",
       "<style scoped>\n",
       "    .dataframe tbody tr th:only-of-type {\n",
       "        vertical-align: middle;\n",
       "    }\n",
       "\n",
       "    .dataframe tbody tr th {\n",
       "        vertical-align: top;\n",
       "    }\n",
       "\n",
       "    .dataframe thead th {\n",
       "        text-align: right;\n",
       "    }\n",
       "</style>\n",
       "<table border=\"1\" class=\"dataframe\">\n",
       "  <thead>\n",
       "    <tr style=\"text-align: right;\">\n",
       "      <th></th>\n",
       "      <th>Neighborhood Latitude</th>\n",
       "      <th>Neighborhood Longitude</th>\n",
       "      <th>Venue</th>\n",
       "      <th>Venue Latitude</th>\n",
       "      <th>Venue Longitude</th>\n",
       "      <th>Venue Category</th>\n",
       "    </tr>\n",
       "    <tr>\n",
       "      <th>Neighborhood</th>\n",
       "      <th></th>\n",
       "      <th></th>\n",
       "      <th></th>\n",
       "      <th></th>\n",
       "      <th></th>\n",
       "      <th></th>\n",
       "    </tr>\n",
       "  </thead>\n",
       "  <tbody>\n",
       "    <tr>\n",
       "      <th>Davisville</th>\n",
       "      <td>33</td>\n",
       "      <td>33</td>\n",
       "      <td>33</td>\n",
       "      <td>33</td>\n",
       "      <td>33</td>\n",
       "      <td>33</td>\n",
       "    </tr>\n",
       "    <tr>\n",
       "      <th>Davisville North</th>\n",
       "      <td>9</td>\n",
       "      <td>9</td>\n",
       "      <td>9</td>\n",
       "      <td>9</td>\n",
       "      <td>9</td>\n",
       "      <td>9</td>\n",
       "    </tr>\n",
       "    <tr>\n",
       "      <th>Forest Hill North &amp; West, Forest Hill Road Park</th>\n",
       "      <td>4</td>\n",
       "      <td>4</td>\n",
       "      <td>4</td>\n",
       "      <td>4</td>\n",
       "      <td>4</td>\n",
       "      <td>4</td>\n",
       "    </tr>\n",
       "    <tr>\n",
       "      <th>Lawrence Park</th>\n",
       "      <td>3</td>\n",
       "      <td>3</td>\n",
       "      <td>3</td>\n",
       "      <td>3</td>\n",
       "      <td>3</td>\n",
       "      <td>3</td>\n",
       "    </tr>\n",
       "    <tr>\n",
       "      <th>Moore Park, Summerhill East</th>\n",
       "      <td>2</td>\n",
       "      <td>2</td>\n",
       "      <td>2</td>\n",
       "      <td>2</td>\n",
       "      <td>2</td>\n",
       "      <td>2</td>\n",
       "    </tr>\n",
       "    <tr>\n",
       "      <th>North Toronto West,  Lawrence Park</th>\n",
       "      <td>18</td>\n",
       "      <td>18</td>\n",
       "      <td>18</td>\n",
       "      <td>18</td>\n",
       "      <td>18</td>\n",
       "      <td>18</td>\n",
       "    </tr>\n",
       "    <tr>\n",
       "      <th>Roselawn</th>\n",
       "      <td>2</td>\n",
       "      <td>2</td>\n",
       "      <td>2</td>\n",
       "      <td>2</td>\n",
       "      <td>2</td>\n",
       "      <td>2</td>\n",
       "    </tr>\n",
       "    <tr>\n",
       "      <th>Summerhill West, Rathnelly, South Hill, Forest Hill SE, Deer Park</th>\n",
       "      <td>14</td>\n",
       "      <td>14</td>\n",
       "      <td>14</td>\n",
       "      <td>14</td>\n",
       "      <td>14</td>\n",
       "      <td>14</td>\n",
       "    </tr>\n",
       "    <tr>\n",
       "      <th>The Annex, North Midtown, Yorkville</th>\n",
       "      <td>19</td>\n",
       "      <td>19</td>\n",
       "      <td>19</td>\n",
       "      <td>19</td>\n",
       "      <td>19</td>\n",
       "      <td>19</td>\n",
       "    </tr>\n",
       "  </tbody>\n",
       "</table>\n",
       "</div>"
      ],
      "text/plain": [
       "                                                    Neighborhood Latitude  \\\n",
       "Neighborhood                                                                \n",
       "Davisville                                                             33   \n",
       "Davisville North                                                        9   \n",
       "Forest Hill North & West, Forest Hill Road Park                         4   \n",
       "Lawrence Park                                                           3   \n",
       "Moore Park, Summerhill East                                             2   \n",
       "North Toronto West,  Lawrence Park                                     18   \n",
       "Roselawn                                                                2   \n",
       "Summerhill West, Rathnelly, South Hill, Forest ...                     14   \n",
       "The Annex, North Midtown, Yorkville                                    19   \n",
       "\n",
       "                                                    Neighborhood Longitude  \\\n",
       "Neighborhood                                                                 \n",
       "Davisville                                                              33   \n",
       "Davisville North                                                         9   \n",
       "Forest Hill North & West, Forest Hill Road Park                          4   \n",
       "Lawrence Park                                                            3   \n",
       "Moore Park, Summerhill East                                              2   \n",
       "North Toronto West,  Lawrence Park                                      18   \n",
       "Roselawn                                                                 2   \n",
       "Summerhill West, Rathnelly, South Hill, Forest ...                      14   \n",
       "The Annex, North Midtown, Yorkville                                     19   \n",
       "\n",
       "                                                    Venue  Venue Latitude  \\\n",
       "Neighborhood                                                                \n",
       "Davisville                                             33              33   \n",
       "Davisville North                                        9               9   \n",
       "Forest Hill North & West, Forest Hill Road Park         4               4   \n",
       "Lawrence Park                                           3               3   \n",
       "Moore Park, Summerhill East                             2               2   \n",
       "North Toronto West,  Lawrence Park                     18              18   \n",
       "Roselawn                                                2               2   \n",
       "Summerhill West, Rathnelly, South Hill, Forest ...     14              14   \n",
       "The Annex, North Midtown, Yorkville                    19              19   \n",
       "\n",
       "                                                    Venue Longitude  \\\n",
       "Neighborhood                                                          \n",
       "Davisville                                                       33   \n",
       "Davisville North                                                  9   \n",
       "Forest Hill North & West, Forest Hill Road Park                   4   \n",
       "Lawrence Park                                                     3   \n",
       "Moore Park, Summerhill East                                       2   \n",
       "North Toronto West,  Lawrence Park                               18   \n",
       "Roselawn                                                          2   \n",
       "Summerhill West, Rathnelly, South Hill, Forest ...               14   \n",
       "The Annex, North Midtown, Yorkville                              19   \n",
       "\n",
       "                                                    Venue Category  \n",
       "Neighborhood                                                        \n",
       "Davisville                                                      33  \n",
       "Davisville North                                                 9  \n",
       "Forest Hill North & West, Forest Hill Road Park                  4  \n",
       "Lawrence Park                                                    3  \n",
       "Moore Park, Summerhill East                                      2  \n",
       "North Toronto West,  Lawrence Park                              18  \n",
       "Roselawn                                                         2  \n",
       "Summerhill West, Rathnelly, South Hill, Forest ...              14  \n",
       "The Annex, North Midtown, Yorkville                             19  "
      ]
     },
     "execution_count": 95,
     "metadata": {},
     "output_type": "execute_result"
    }
   ],
   "source": [
    "ctrltor_venues.groupby('Neighborhood').count()"
   ]
  },
  {
   "cell_type": "code",
   "execution_count": 96,
   "metadata": {},
   "outputs": [
    {
     "name": "stdout",
     "output_type": "stream",
     "text": [
      "There are 60 uniques categories.\n"
     ]
    }
   ],
   "source": [
    "print('There are {} uniques categories.'.format(len(ctrltor_venues['Venue Category'].unique())))"
   ]
  },
  {
   "cell_type": "markdown",
   "metadata": {},
   "source": [
    "### Analyze Each Neighborhood"
   ]
  },
  {
   "cell_type": "code",
   "execution_count": 97,
   "metadata": {},
   "outputs": [
    {
     "data": {
      "text/html": [
       "<div>\n",
       "<style scoped>\n",
       "    .dataframe tbody tr th:only-of-type {\n",
       "        vertical-align: middle;\n",
       "    }\n",
       "\n",
       "    .dataframe tbody tr th {\n",
       "        vertical-align: top;\n",
       "    }\n",
       "\n",
       "    .dataframe thead th {\n",
       "        text-align: right;\n",
       "    }\n",
       "</style>\n",
       "<table border=\"1\" class=\"dataframe\">\n",
       "  <thead>\n",
       "    <tr style=\"text-align: right;\">\n",
       "      <th></th>\n",
       "      <th>Neighborhood</th>\n",
       "      <th>American Restaurant</th>\n",
       "      <th>BBQ Joint</th>\n",
       "      <th>Bagel Shop</th>\n",
       "      <th>Bank</th>\n",
       "      <th>Breakfast Spot</th>\n",
       "      <th>Brewery</th>\n",
       "      <th>Burger Joint</th>\n",
       "      <th>Bus Line</th>\n",
       "      <th>Café</th>\n",
       "      <th>Chinese Restaurant</th>\n",
       "      <th>Clothing Store</th>\n",
       "      <th>Coffee Shop</th>\n",
       "      <th>Dance Studio</th>\n",
       "      <th>Department Store</th>\n",
       "      <th>Dessert Shop</th>\n",
       "      <th>Diner</th>\n",
       "      <th>Dog Run</th>\n",
       "      <th>Donut Shop</th>\n",
       "      <th>Farmers Market</th>\n",
       "      <th>Fast Food Restaurant</th>\n",
       "      <th>Food &amp; Drink Shop</th>\n",
       "      <th>Fried Chicken Joint</th>\n",
       "      <th>Furniture / Home Store</th>\n",
       "      <th>Garden</th>\n",
       "      <th>Gas Station</th>\n",
       "      <th>Gourmet Shop</th>\n",
       "      <th>Greek Restaurant</th>\n",
       "      <th>Gym</th>\n",
       "      <th>Gym / Fitness Center</th>\n",
       "      <th>History Museum</th>\n",
       "      <th>Hotel</th>\n",
       "      <th>Ice Cream Shop</th>\n",
       "      <th>Indian Restaurant</th>\n",
       "      <th>Indoor Play Area</th>\n",
       "      <th>Italian Restaurant</th>\n",
       "      <th>Jewelry Store</th>\n",
       "      <th>Light Rail Station</th>\n",
       "      <th>Liquor Store</th>\n",
       "      <th>Mexican Restaurant</th>\n",
       "      <th>Middle Eastern Restaurant</th>\n",
       "      <th>Music Venue</th>\n",
       "      <th>Park</th>\n",
       "      <th>Pharmacy</th>\n",
       "      <th>Pizza Place</th>\n",
       "      <th>Playground</th>\n",
       "      <th>Pub</th>\n",
       "      <th>Restaurant</th>\n",
       "      <th>Salon / Barbershop</th>\n",
       "      <th>Sandwich Place</th>\n",
       "      <th>Seafood Restaurant</th>\n",
       "      <th>Spa</th>\n",
       "      <th>Sporting Goods Shop</th>\n",
       "      <th>Supermarket</th>\n",
       "      <th>Sushi Restaurant</th>\n",
       "      <th>Swim School</th>\n",
       "      <th>Thai Restaurant</th>\n",
       "      <th>Toy / Game Store</th>\n",
       "      <th>Trail</th>\n",
       "      <th>Vietnamese Restaurant</th>\n",
       "      <th>Yoga Studio</th>\n",
       "    </tr>\n",
       "  </thead>\n",
       "  <tbody>\n",
       "    <tr>\n",
       "      <th>0</th>\n",
       "      <td>Lawrence Park</td>\n",
       "      <td>0</td>\n",
       "      <td>0</td>\n",
       "      <td>0</td>\n",
       "      <td>0</td>\n",
       "      <td>0</td>\n",
       "      <td>0</td>\n",
       "      <td>0</td>\n",
       "      <td>0</td>\n",
       "      <td>0</td>\n",
       "      <td>0</td>\n",
       "      <td>0</td>\n",
       "      <td>0</td>\n",
       "      <td>0</td>\n",
       "      <td>0</td>\n",
       "      <td>0</td>\n",
       "      <td>0</td>\n",
       "      <td>0</td>\n",
       "      <td>0</td>\n",
       "      <td>0</td>\n",
       "      <td>0</td>\n",
       "      <td>0</td>\n",
       "      <td>0</td>\n",
       "      <td>0</td>\n",
       "      <td>0</td>\n",
       "      <td>0</td>\n",
       "      <td>0</td>\n",
       "      <td>0</td>\n",
       "      <td>0</td>\n",
       "      <td>0</td>\n",
       "      <td>0</td>\n",
       "      <td>0</td>\n",
       "      <td>0</td>\n",
       "      <td>0</td>\n",
       "      <td>0</td>\n",
       "      <td>0</td>\n",
       "      <td>0</td>\n",
       "      <td>0</td>\n",
       "      <td>0</td>\n",
       "      <td>0</td>\n",
       "      <td>0</td>\n",
       "      <td>0</td>\n",
       "      <td>1</td>\n",
       "      <td>0</td>\n",
       "      <td>0</td>\n",
       "      <td>0</td>\n",
       "      <td>0</td>\n",
       "      <td>0</td>\n",
       "      <td>0</td>\n",
       "      <td>0</td>\n",
       "      <td>0</td>\n",
       "      <td>0</td>\n",
       "      <td>0</td>\n",
       "      <td>0</td>\n",
       "      <td>0</td>\n",
       "      <td>0</td>\n",
       "      <td>0</td>\n",
       "      <td>0</td>\n",
       "      <td>0</td>\n",
       "      <td>0</td>\n",
       "      <td>0</td>\n",
       "    </tr>\n",
       "    <tr>\n",
       "      <th>1</th>\n",
       "      <td>Lawrence Park</td>\n",
       "      <td>0</td>\n",
       "      <td>0</td>\n",
       "      <td>0</td>\n",
       "      <td>0</td>\n",
       "      <td>0</td>\n",
       "      <td>0</td>\n",
       "      <td>0</td>\n",
       "      <td>0</td>\n",
       "      <td>0</td>\n",
       "      <td>0</td>\n",
       "      <td>0</td>\n",
       "      <td>0</td>\n",
       "      <td>0</td>\n",
       "      <td>0</td>\n",
       "      <td>0</td>\n",
       "      <td>0</td>\n",
       "      <td>0</td>\n",
       "      <td>0</td>\n",
       "      <td>0</td>\n",
       "      <td>0</td>\n",
       "      <td>0</td>\n",
       "      <td>0</td>\n",
       "      <td>0</td>\n",
       "      <td>0</td>\n",
       "      <td>0</td>\n",
       "      <td>0</td>\n",
       "      <td>0</td>\n",
       "      <td>0</td>\n",
       "      <td>0</td>\n",
       "      <td>0</td>\n",
       "      <td>0</td>\n",
       "      <td>0</td>\n",
       "      <td>0</td>\n",
       "      <td>0</td>\n",
       "      <td>0</td>\n",
       "      <td>0</td>\n",
       "      <td>0</td>\n",
       "      <td>0</td>\n",
       "      <td>0</td>\n",
       "      <td>0</td>\n",
       "      <td>0</td>\n",
       "      <td>0</td>\n",
       "      <td>0</td>\n",
       "      <td>0</td>\n",
       "      <td>0</td>\n",
       "      <td>0</td>\n",
       "      <td>0</td>\n",
       "      <td>0</td>\n",
       "      <td>0</td>\n",
       "      <td>0</td>\n",
       "      <td>0</td>\n",
       "      <td>0</td>\n",
       "      <td>0</td>\n",
       "      <td>0</td>\n",
       "      <td>1</td>\n",
       "      <td>0</td>\n",
       "      <td>0</td>\n",
       "      <td>0</td>\n",
       "      <td>0</td>\n",
       "      <td>0</td>\n",
       "    </tr>\n",
       "    <tr>\n",
       "      <th>2</th>\n",
       "      <td>Lawrence Park</td>\n",
       "      <td>0</td>\n",
       "      <td>0</td>\n",
       "      <td>0</td>\n",
       "      <td>0</td>\n",
       "      <td>0</td>\n",
       "      <td>0</td>\n",
       "      <td>0</td>\n",
       "      <td>1</td>\n",
       "      <td>0</td>\n",
       "      <td>0</td>\n",
       "      <td>0</td>\n",
       "      <td>0</td>\n",
       "      <td>0</td>\n",
       "      <td>0</td>\n",
       "      <td>0</td>\n",
       "      <td>0</td>\n",
       "      <td>0</td>\n",
       "      <td>0</td>\n",
       "      <td>0</td>\n",
       "      <td>0</td>\n",
       "      <td>0</td>\n",
       "      <td>0</td>\n",
       "      <td>0</td>\n",
       "      <td>0</td>\n",
       "      <td>0</td>\n",
       "      <td>0</td>\n",
       "      <td>0</td>\n",
       "      <td>0</td>\n",
       "      <td>0</td>\n",
       "      <td>0</td>\n",
       "      <td>0</td>\n",
       "      <td>0</td>\n",
       "      <td>0</td>\n",
       "      <td>0</td>\n",
       "      <td>0</td>\n",
       "      <td>0</td>\n",
       "      <td>0</td>\n",
       "      <td>0</td>\n",
       "      <td>0</td>\n",
       "      <td>0</td>\n",
       "      <td>0</td>\n",
       "      <td>0</td>\n",
       "      <td>0</td>\n",
       "      <td>0</td>\n",
       "      <td>0</td>\n",
       "      <td>0</td>\n",
       "      <td>0</td>\n",
       "      <td>0</td>\n",
       "      <td>0</td>\n",
       "      <td>0</td>\n",
       "      <td>0</td>\n",
       "      <td>0</td>\n",
       "      <td>0</td>\n",
       "      <td>0</td>\n",
       "      <td>0</td>\n",
       "      <td>0</td>\n",
       "      <td>0</td>\n",
       "      <td>0</td>\n",
       "      <td>0</td>\n",
       "      <td>0</td>\n",
       "    </tr>\n",
       "    <tr>\n",
       "      <th>3</th>\n",
       "      <td>Roselawn</td>\n",
       "      <td>0</td>\n",
       "      <td>0</td>\n",
       "      <td>0</td>\n",
       "      <td>0</td>\n",
       "      <td>0</td>\n",
       "      <td>0</td>\n",
       "      <td>0</td>\n",
       "      <td>0</td>\n",
       "      <td>0</td>\n",
       "      <td>0</td>\n",
       "      <td>0</td>\n",
       "      <td>0</td>\n",
       "      <td>0</td>\n",
       "      <td>0</td>\n",
       "      <td>0</td>\n",
       "      <td>0</td>\n",
       "      <td>0</td>\n",
       "      <td>0</td>\n",
       "      <td>0</td>\n",
       "      <td>0</td>\n",
       "      <td>0</td>\n",
       "      <td>0</td>\n",
       "      <td>0</td>\n",
       "      <td>1</td>\n",
       "      <td>0</td>\n",
       "      <td>0</td>\n",
       "      <td>0</td>\n",
       "      <td>0</td>\n",
       "      <td>0</td>\n",
       "      <td>0</td>\n",
       "      <td>0</td>\n",
       "      <td>0</td>\n",
       "      <td>0</td>\n",
       "      <td>0</td>\n",
       "      <td>0</td>\n",
       "      <td>0</td>\n",
       "      <td>0</td>\n",
       "      <td>0</td>\n",
       "      <td>0</td>\n",
       "      <td>0</td>\n",
       "      <td>0</td>\n",
       "      <td>0</td>\n",
       "      <td>0</td>\n",
       "      <td>0</td>\n",
       "      <td>0</td>\n",
       "      <td>0</td>\n",
       "      <td>0</td>\n",
       "      <td>0</td>\n",
       "      <td>0</td>\n",
       "      <td>0</td>\n",
       "      <td>0</td>\n",
       "      <td>0</td>\n",
       "      <td>0</td>\n",
       "      <td>0</td>\n",
       "      <td>0</td>\n",
       "      <td>0</td>\n",
       "      <td>0</td>\n",
       "      <td>0</td>\n",
       "      <td>0</td>\n",
       "      <td>0</td>\n",
       "    </tr>\n",
       "    <tr>\n",
       "      <th>4</th>\n",
       "      <td>Roselawn</td>\n",
       "      <td>0</td>\n",
       "      <td>0</td>\n",
       "      <td>0</td>\n",
       "      <td>0</td>\n",
       "      <td>0</td>\n",
       "      <td>0</td>\n",
       "      <td>0</td>\n",
       "      <td>0</td>\n",
       "      <td>0</td>\n",
       "      <td>0</td>\n",
       "      <td>0</td>\n",
       "      <td>0</td>\n",
       "      <td>0</td>\n",
       "      <td>0</td>\n",
       "      <td>0</td>\n",
       "      <td>0</td>\n",
       "      <td>0</td>\n",
       "      <td>0</td>\n",
       "      <td>0</td>\n",
       "      <td>0</td>\n",
       "      <td>0</td>\n",
       "      <td>0</td>\n",
       "      <td>0</td>\n",
       "      <td>0</td>\n",
       "      <td>0</td>\n",
       "      <td>0</td>\n",
       "      <td>0</td>\n",
       "      <td>0</td>\n",
       "      <td>0</td>\n",
       "      <td>0</td>\n",
       "      <td>0</td>\n",
       "      <td>0</td>\n",
       "      <td>0</td>\n",
       "      <td>0</td>\n",
       "      <td>0</td>\n",
       "      <td>0</td>\n",
       "      <td>0</td>\n",
       "      <td>0</td>\n",
       "      <td>0</td>\n",
       "      <td>0</td>\n",
       "      <td>1</td>\n",
       "      <td>0</td>\n",
       "      <td>0</td>\n",
       "      <td>0</td>\n",
       "      <td>0</td>\n",
       "      <td>0</td>\n",
       "      <td>0</td>\n",
       "      <td>0</td>\n",
       "      <td>0</td>\n",
       "      <td>0</td>\n",
       "      <td>0</td>\n",
       "      <td>0</td>\n",
       "      <td>0</td>\n",
       "      <td>0</td>\n",
       "      <td>0</td>\n",
       "      <td>0</td>\n",
       "      <td>0</td>\n",
       "      <td>0</td>\n",
       "      <td>0</td>\n",
       "      <td>0</td>\n",
       "    </tr>\n",
       "  </tbody>\n",
       "</table>\n",
       "</div>"
      ],
      "text/plain": [
       "    Neighborhood  American Restaurant  BBQ Joint  Bagel Shop  Bank  \\\n",
       "0  Lawrence Park                    0          0           0     0   \n",
       "1  Lawrence Park                    0          0           0     0   \n",
       "2  Lawrence Park                    0          0           0     0   \n",
       "3       Roselawn                    0          0           0     0   \n",
       "4       Roselawn                    0          0           0     0   \n",
       "\n",
       "   Breakfast Spot  Brewery  Burger Joint  Bus Line  Café  Chinese Restaurant  \\\n",
       "0               0        0             0         0     0                   0   \n",
       "1               0        0             0         0     0                   0   \n",
       "2               0        0             0         1     0                   0   \n",
       "3               0        0             0         0     0                   0   \n",
       "4               0        0             0         0     0                   0   \n",
       "\n",
       "   Clothing Store  Coffee Shop  Dance Studio  Department Store  Dessert Shop  \\\n",
       "0               0            0             0                 0             0   \n",
       "1               0            0             0                 0             0   \n",
       "2               0            0             0                 0             0   \n",
       "3               0            0             0                 0             0   \n",
       "4               0            0             0                 0             0   \n",
       "\n",
       "   Diner  Dog Run  Donut Shop  Farmers Market  Fast Food Restaurant  \\\n",
       "0      0        0           0               0                     0   \n",
       "1      0        0           0               0                     0   \n",
       "2      0        0           0               0                     0   \n",
       "3      0        0           0               0                     0   \n",
       "4      0        0           0               0                     0   \n",
       "\n",
       "   Food & Drink Shop  Fried Chicken Joint  Furniture / Home Store  Garden  \\\n",
       "0                  0                    0                       0       0   \n",
       "1                  0                    0                       0       0   \n",
       "2                  0                    0                       0       0   \n",
       "3                  0                    0                       0       1   \n",
       "4                  0                    0                       0       0   \n",
       "\n",
       "   Gas Station  Gourmet Shop  Greek Restaurant  Gym  Gym / Fitness Center  \\\n",
       "0            0             0                 0    0                     0   \n",
       "1            0             0                 0    0                     0   \n",
       "2            0             0                 0    0                     0   \n",
       "3            0             0                 0    0                     0   \n",
       "4            0             0                 0    0                     0   \n",
       "\n",
       "   History Museum  Hotel  Ice Cream Shop  Indian Restaurant  Indoor Play Area  \\\n",
       "0               0      0               0                  0                 0   \n",
       "1               0      0               0                  0                 0   \n",
       "2               0      0               0                  0                 0   \n",
       "3               0      0               0                  0                 0   \n",
       "4               0      0               0                  0                 0   \n",
       "\n",
       "   Italian Restaurant  Jewelry Store  Light Rail Station  Liquor Store  \\\n",
       "0                   0              0                   0             0   \n",
       "1                   0              0                   0             0   \n",
       "2                   0              0                   0             0   \n",
       "3                   0              0                   0             0   \n",
       "4                   0              0                   0             0   \n",
       "\n",
       "   Mexican Restaurant  Middle Eastern Restaurant  Music Venue  Park  Pharmacy  \\\n",
       "0                   0                          0            0     1         0   \n",
       "1                   0                          0            0     0         0   \n",
       "2                   0                          0            0     0         0   \n",
       "3                   0                          0            0     0         0   \n",
       "4                   0                          0            1     0         0   \n",
       "\n",
       "   Pizza Place  Playground  Pub  Restaurant  Salon / Barbershop  \\\n",
       "0            0           0    0           0                   0   \n",
       "1            0           0    0           0                   0   \n",
       "2            0           0    0           0                   0   \n",
       "3            0           0    0           0                   0   \n",
       "4            0           0    0           0                   0   \n",
       "\n",
       "   Sandwich Place  Seafood Restaurant  Spa  Sporting Goods Shop  Supermarket  \\\n",
       "0               0                   0    0                    0            0   \n",
       "1               0                   0    0                    0            0   \n",
       "2               0                   0    0                    0            0   \n",
       "3               0                   0    0                    0            0   \n",
       "4               0                   0    0                    0            0   \n",
       "\n",
       "   Sushi Restaurant  Swim School  Thai Restaurant  Toy / Game Store  Trail  \\\n",
       "0                 0            0                0                 0      0   \n",
       "1                 0            1                0                 0      0   \n",
       "2                 0            0                0                 0      0   \n",
       "3                 0            0                0                 0      0   \n",
       "4                 0            0                0                 0      0   \n",
       "\n",
       "   Vietnamese Restaurant  Yoga Studio  \n",
       "0                      0            0  \n",
       "1                      0            0  \n",
       "2                      0            0  \n",
       "3                      0            0  \n",
       "4                      0            0  "
      ]
     },
     "execution_count": 97,
     "metadata": {},
     "output_type": "execute_result"
    }
   ],
   "source": [
    "# one hot encoding\n",
    "ctrltor_onehot = pd.get_dummies(ctrltor_venues[['Venue Category']], prefix=\"\", prefix_sep=\"\")\n",
    "\n",
    "# add neighborhood column back to dataframe\n",
    "ctrltor_onehot['Neighborhood'] = ctrltor_venues['Neighborhood'] \n",
    "\n",
    "# move neighborhood column to the first column\n",
    "fixed_columns = [ctrltor_onehot.columns[-1]] + list(ctrltor_onehot.columns[:-1])\n",
    "ctrltor_onehot = ctrltor_onehot[fixed_columns]\n",
    "ctrltor_onehot.head()"
   ]
  },
  {
   "cell_type": "code",
   "execution_count": 98,
   "metadata": {},
   "outputs": [
    {
     "data": {
      "text/plain": [
       "(104, 61)"
      ]
     },
     "execution_count": 98,
     "metadata": {},
     "output_type": "execute_result"
    }
   ],
   "source": [
    "ctrltor_onehot.shape"
   ]
  },
  {
   "cell_type": "markdown",
   "metadata": {},
   "source": [
    "- Next, let's group rows by neighborhood and by taking the mean of the frequency of occurrence of each category"
   ]
  },
  {
   "cell_type": "code",
   "execution_count": 99,
   "metadata": {},
   "outputs": [
    {
     "data": {
      "text/html": [
       "<div>\n",
       "<style scoped>\n",
       "    .dataframe tbody tr th:only-of-type {\n",
       "        vertical-align: middle;\n",
       "    }\n",
       "\n",
       "    .dataframe tbody tr th {\n",
       "        vertical-align: top;\n",
       "    }\n",
       "\n",
       "    .dataframe thead th {\n",
       "        text-align: right;\n",
       "    }\n",
       "</style>\n",
       "<table border=\"1\" class=\"dataframe\">\n",
       "  <thead>\n",
       "    <tr style=\"text-align: right;\">\n",
       "      <th></th>\n",
       "      <th>Neighborhood</th>\n",
       "      <th>American Restaurant</th>\n",
       "      <th>BBQ Joint</th>\n",
       "      <th>Bagel Shop</th>\n",
       "      <th>Bank</th>\n",
       "      <th>Breakfast Spot</th>\n",
       "      <th>Brewery</th>\n",
       "      <th>Burger Joint</th>\n",
       "      <th>Bus Line</th>\n",
       "      <th>Café</th>\n",
       "      <th>Chinese Restaurant</th>\n",
       "      <th>Clothing Store</th>\n",
       "      <th>Coffee Shop</th>\n",
       "      <th>Dance Studio</th>\n",
       "      <th>Department Store</th>\n",
       "      <th>Dessert Shop</th>\n",
       "      <th>Diner</th>\n",
       "      <th>Dog Run</th>\n",
       "      <th>Donut Shop</th>\n",
       "      <th>Farmers Market</th>\n",
       "      <th>Fast Food Restaurant</th>\n",
       "      <th>Food &amp; Drink Shop</th>\n",
       "      <th>Fried Chicken Joint</th>\n",
       "      <th>Furniture / Home Store</th>\n",
       "      <th>Garden</th>\n",
       "      <th>Gas Station</th>\n",
       "      <th>Gourmet Shop</th>\n",
       "      <th>Greek Restaurant</th>\n",
       "      <th>Gym</th>\n",
       "      <th>Gym / Fitness Center</th>\n",
       "      <th>History Museum</th>\n",
       "      <th>Hotel</th>\n",
       "      <th>Ice Cream Shop</th>\n",
       "      <th>Indian Restaurant</th>\n",
       "      <th>Indoor Play Area</th>\n",
       "      <th>Italian Restaurant</th>\n",
       "      <th>Jewelry Store</th>\n",
       "      <th>Light Rail Station</th>\n",
       "      <th>Liquor Store</th>\n",
       "      <th>Mexican Restaurant</th>\n",
       "      <th>Middle Eastern Restaurant</th>\n",
       "      <th>Music Venue</th>\n",
       "      <th>Park</th>\n",
       "      <th>Pharmacy</th>\n",
       "      <th>Pizza Place</th>\n",
       "      <th>Playground</th>\n",
       "      <th>Pub</th>\n",
       "      <th>Restaurant</th>\n",
       "      <th>Salon / Barbershop</th>\n",
       "      <th>Sandwich Place</th>\n",
       "      <th>Seafood Restaurant</th>\n",
       "      <th>Spa</th>\n",
       "      <th>Sporting Goods Shop</th>\n",
       "      <th>Supermarket</th>\n",
       "      <th>Sushi Restaurant</th>\n",
       "      <th>Swim School</th>\n",
       "      <th>Thai Restaurant</th>\n",
       "      <th>Toy / Game Store</th>\n",
       "      <th>Trail</th>\n",
       "      <th>Vietnamese Restaurant</th>\n",
       "      <th>Yoga Studio</th>\n",
       "    </tr>\n",
       "  </thead>\n",
       "  <tbody>\n",
       "    <tr>\n",
       "      <th>0</th>\n",
       "      <td>Davisville</td>\n",
       "      <td>0.000000</td>\n",
       "      <td>0.000000</td>\n",
       "      <td>0.000000</td>\n",
       "      <td>0.000000</td>\n",
       "      <td>0.000000</td>\n",
       "      <td>0.030303</td>\n",
       "      <td>0.000000</td>\n",
       "      <td>0.000000</td>\n",
       "      <td>0.060606</td>\n",
       "      <td>0.000000</td>\n",
       "      <td>0.000000</td>\n",
       "      <td>0.060606</td>\n",
       "      <td>0.000000</td>\n",
       "      <td>0.000000</td>\n",
       "      <td>0.090909</td>\n",
       "      <td>0.030303</td>\n",
       "      <td>0.000000</td>\n",
       "      <td>0.000000</td>\n",
       "      <td>0.030303</td>\n",
       "      <td>0.000000</td>\n",
       "      <td>0.000000</td>\n",
       "      <td>0.000000</td>\n",
       "      <td>0.000000</td>\n",
       "      <td>0.0</td>\n",
       "      <td>0.030303</td>\n",
       "      <td>0.030303</td>\n",
       "      <td>0.030303</td>\n",
       "      <td>0.060606</td>\n",
       "      <td>0.000000</td>\n",
       "      <td>0.000000</td>\n",
       "      <td>0.000000</td>\n",
       "      <td>0.000000</td>\n",
       "      <td>0.030303</td>\n",
       "      <td>0.030303</td>\n",
       "      <td>0.060606</td>\n",
       "      <td>0.00</td>\n",
       "      <td>0.000000</td>\n",
       "      <td>0.000000</td>\n",
       "      <td>0.000000</td>\n",
       "      <td>0.000000</td>\n",
       "      <td>0.0</td>\n",
       "      <td>0.030303</td>\n",
       "      <td>0.030303</td>\n",
       "      <td>0.090909</td>\n",
       "      <td>0.0</td>\n",
       "      <td>0.000000</td>\n",
       "      <td>0.030303</td>\n",
       "      <td>0.000000</td>\n",
       "      <td>0.090909</td>\n",
       "      <td>0.030303</td>\n",
       "      <td>0.000000</td>\n",
       "      <td>0.000000</td>\n",
       "      <td>0.000000</td>\n",
       "      <td>0.060606</td>\n",
       "      <td>0.000000</td>\n",
       "      <td>0.030303</td>\n",
       "      <td>0.030303</td>\n",
       "      <td>0.00</td>\n",
       "      <td>0.000000</td>\n",
       "      <td>0.000000</td>\n",
       "    </tr>\n",
       "    <tr>\n",
       "      <th>1</th>\n",
       "      <td>Davisville North</td>\n",
       "      <td>0.000000</td>\n",
       "      <td>0.000000</td>\n",
       "      <td>0.000000</td>\n",
       "      <td>0.000000</td>\n",
       "      <td>0.111111</td>\n",
       "      <td>0.000000</td>\n",
       "      <td>0.000000</td>\n",
       "      <td>0.000000</td>\n",
       "      <td>0.000000</td>\n",
       "      <td>0.000000</td>\n",
       "      <td>0.000000</td>\n",
       "      <td>0.000000</td>\n",
       "      <td>0.111111</td>\n",
       "      <td>0.111111</td>\n",
       "      <td>0.000000</td>\n",
       "      <td>0.000000</td>\n",
       "      <td>0.111111</td>\n",
       "      <td>0.000000</td>\n",
       "      <td>0.000000</td>\n",
       "      <td>0.000000</td>\n",
       "      <td>0.111111</td>\n",
       "      <td>0.000000</td>\n",
       "      <td>0.000000</td>\n",
       "      <td>0.0</td>\n",
       "      <td>0.000000</td>\n",
       "      <td>0.000000</td>\n",
       "      <td>0.000000</td>\n",
       "      <td>0.000000</td>\n",
       "      <td>0.111111</td>\n",
       "      <td>0.000000</td>\n",
       "      <td>0.111111</td>\n",
       "      <td>0.000000</td>\n",
       "      <td>0.000000</td>\n",
       "      <td>0.000000</td>\n",
       "      <td>0.000000</td>\n",
       "      <td>0.00</td>\n",
       "      <td>0.000000</td>\n",
       "      <td>0.000000</td>\n",
       "      <td>0.000000</td>\n",
       "      <td>0.000000</td>\n",
       "      <td>0.0</td>\n",
       "      <td>0.111111</td>\n",
       "      <td>0.000000</td>\n",
       "      <td>0.000000</td>\n",
       "      <td>0.0</td>\n",
       "      <td>0.000000</td>\n",
       "      <td>0.000000</td>\n",
       "      <td>0.000000</td>\n",
       "      <td>0.111111</td>\n",
       "      <td>0.000000</td>\n",
       "      <td>0.000000</td>\n",
       "      <td>0.000000</td>\n",
       "      <td>0.000000</td>\n",
       "      <td>0.000000</td>\n",
       "      <td>0.000000</td>\n",
       "      <td>0.000000</td>\n",
       "      <td>0.000000</td>\n",
       "      <td>0.00</td>\n",
       "      <td>0.000000</td>\n",
       "      <td>0.000000</td>\n",
       "    </tr>\n",
       "    <tr>\n",
       "      <th>2</th>\n",
       "      <td>Forest Hill North &amp; West, Forest Hill Road Park</td>\n",
       "      <td>0.000000</td>\n",
       "      <td>0.000000</td>\n",
       "      <td>0.000000</td>\n",
       "      <td>0.000000</td>\n",
       "      <td>0.000000</td>\n",
       "      <td>0.000000</td>\n",
       "      <td>0.000000</td>\n",
       "      <td>0.000000</td>\n",
       "      <td>0.000000</td>\n",
       "      <td>0.000000</td>\n",
       "      <td>0.000000</td>\n",
       "      <td>0.000000</td>\n",
       "      <td>0.000000</td>\n",
       "      <td>0.000000</td>\n",
       "      <td>0.000000</td>\n",
       "      <td>0.000000</td>\n",
       "      <td>0.000000</td>\n",
       "      <td>0.000000</td>\n",
       "      <td>0.000000</td>\n",
       "      <td>0.000000</td>\n",
       "      <td>0.000000</td>\n",
       "      <td>0.000000</td>\n",
       "      <td>0.000000</td>\n",
       "      <td>0.0</td>\n",
       "      <td>0.000000</td>\n",
       "      <td>0.000000</td>\n",
       "      <td>0.000000</td>\n",
       "      <td>0.000000</td>\n",
       "      <td>0.000000</td>\n",
       "      <td>0.000000</td>\n",
       "      <td>0.000000</td>\n",
       "      <td>0.000000</td>\n",
       "      <td>0.000000</td>\n",
       "      <td>0.000000</td>\n",
       "      <td>0.000000</td>\n",
       "      <td>0.25</td>\n",
       "      <td>0.000000</td>\n",
       "      <td>0.000000</td>\n",
       "      <td>0.000000</td>\n",
       "      <td>0.000000</td>\n",
       "      <td>0.0</td>\n",
       "      <td>0.250000</td>\n",
       "      <td>0.000000</td>\n",
       "      <td>0.000000</td>\n",
       "      <td>0.0</td>\n",
       "      <td>0.000000</td>\n",
       "      <td>0.000000</td>\n",
       "      <td>0.000000</td>\n",
       "      <td>0.000000</td>\n",
       "      <td>0.000000</td>\n",
       "      <td>0.000000</td>\n",
       "      <td>0.000000</td>\n",
       "      <td>0.000000</td>\n",
       "      <td>0.250000</td>\n",
       "      <td>0.000000</td>\n",
       "      <td>0.000000</td>\n",
       "      <td>0.000000</td>\n",
       "      <td>0.25</td>\n",
       "      <td>0.000000</td>\n",
       "      <td>0.000000</td>\n",
       "    </tr>\n",
       "    <tr>\n",
       "      <th>3</th>\n",
       "      <td>Lawrence Park</td>\n",
       "      <td>0.000000</td>\n",
       "      <td>0.000000</td>\n",
       "      <td>0.000000</td>\n",
       "      <td>0.000000</td>\n",
       "      <td>0.000000</td>\n",
       "      <td>0.000000</td>\n",
       "      <td>0.000000</td>\n",
       "      <td>0.333333</td>\n",
       "      <td>0.000000</td>\n",
       "      <td>0.000000</td>\n",
       "      <td>0.000000</td>\n",
       "      <td>0.000000</td>\n",
       "      <td>0.000000</td>\n",
       "      <td>0.000000</td>\n",
       "      <td>0.000000</td>\n",
       "      <td>0.000000</td>\n",
       "      <td>0.000000</td>\n",
       "      <td>0.000000</td>\n",
       "      <td>0.000000</td>\n",
       "      <td>0.000000</td>\n",
       "      <td>0.000000</td>\n",
       "      <td>0.000000</td>\n",
       "      <td>0.000000</td>\n",
       "      <td>0.0</td>\n",
       "      <td>0.000000</td>\n",
       "      <td>0.000000</td>\n",
       "      <td>0.000000</td>\n",
       "      <td>0.000000</td>\n",
       "      <td>0.000000</td>\n",
       "      <td>0.000000</td>\n",
       "      <td>0.000000</td>\n",
       "      <td>0.000000</td>\n",
       "      <td>0.000000</td>\n",
       "      <td>0.000000</td>\n",
       "      <td>0.000000</td>\n",
       "      <td>0.00</td>\n",
       "      <td>0.000000</td>\n",
       "      <td>0.000000</td>\n",
       "      <td>0.000000</td>\n",
       "      <td>0.000000</td>\n",
       "      <td>0.0</td>\n",
       "      <td>0.333333</td>\n",
       "      <td>0.000000</td>\n",
       "      <td>0.000000</td>\n",
       "      <td>0.0</td>\n",
       "      <td>0.000000</td>\n",
       "      <td>0.000000</td>\n",
       "      <td>0.000000</td>\n",
       "      <td>0.000000</td>\n",
       "      <td>0.000000</td>\n",
       "      <td>0.000000</td>\n",
       "      <td>0.000000</td>\n",
       "      <td>0.000000</td>\n",
       "      <td>0.000000</td>\n",
       "      <td>0.333333</td>\n",
       "      <td>0.000000</td>\n",
       "      <td>0.000000</td>\n",
       "      <td>0.00</td>\n",
       "      <td>0.000000</td>\n",
       "      <td>0.000000</td>\n",
       "    </tr>\n",
       "    <tr>\n",
       "      <th>4</th>\n",
       "      <td>Moore Park, Summerhill East</td>\n",
       "      <td>0.000000</td>\n",
       "      <td>0.000000</td>\n",
       "      <td>0.000000</td>\n",
       "      <td>0.000000</td>\n",
       "      <td>0.000000</td>\n",
       "      <td>0.000000</td>\n",
       "      <td>0.000000</td>\n",
       "      <td>0.000000</td>\n",
       "      <td>0.000000</td>\n",
       "      <td>0.000000</td>\n",
       "      <td>0.000000</td>\n",
       "      <td>0.000000</td>\n",
       "      <td>0.000000</td>\n",
       "      <td>0.000000</td>\n",
       "      <td>0.000000</td>\n",
       "      <td>0.000000</td>\n",
       "      <td>0.000000</td>\n",
       "      <td>0.000000</td>\n",
       "      <td>0.000000</td>\n",
       "      <td>0.000000</td>\n",
       "      <td>0.000000</td>\n",
       "      <td>0.000000</td>\n",
       "      <td>0.000000</td>\n",
       "      <td>0.0</td>\n",
       "      <td>0.000000</td>\n",
       "      <td>0.000000</td>\n",
       "      <td>0.000000</td>\n",
       "      <td>0.000000</td>\n",
       "      <td>0.000000</td>\n",
       "      <td>0.000000</td>\n",
       "      <td>0.000000</td>\n",
       "      <td>0.000000</td>\n",
       "      <td>0.000000</td>\n",
       "      <td>0.000000</td>\n",
       "      <td>0.000000</td>\n",
       "      <td>0.00</td>\n",
       "      <td>0.000000</td>\n",
       "      <td>0.000000</td>\n",
       "      <td>0.000000</td>\n",
       "      <td>0.000000</td>\n",
       "      <td>0.0</td>\n",
       "      <td>0.000000</td>\n",
       "      <td>0.000000</td>\n",
       "      <td>0.000000</td>\n",
       "      <td>0.5</td>\n",
       "      <td>0.000000</td>\n",
       "      <td>0.000000</td>\n",
       "      <td>0.000000</td>\n",
       "      <td>0.000000</td>\n",
       "      <td>0.000000</td>\n",
       "      <td>0.000000</td>\n",
       "      <td>0.000000</td>\n",
       "      <td>0.000000</td>\n",
       "      <td>0.000000</td>\n",
       "      <td>0.000000</td>\n",
       "      <td>0.000000</td>\n",
       "      <td>0.000000</td>\n",
       "      <td>0.50</td>\n",
       "      <td>0.000000</td>\n",
       "      <td>0.000000</td>\n",
       "    </tr>\n",
       "    <tr>\n",
       "      <th>5</th>\n",
       "      <td>North Toronto West,  Lawrence Park</td>\n",
       "      <td>0.000000</td>\n",
       "      <td>0.000000</td>\n",
       "      <td>0.055556</td>\n",
       "      <td>0.000000</td>\n",
       "      <td>0.000000</td>\n",
       "      <td>0.000000</td>\n",
       "      <td>0.000000</td>\n",
       "      <td>0.000000</td>\n",
       "      <td>0.055556</td>\n",
       "      <td>0.055556</td>\n",
       "      <td>0.111111</td>\n",
       "      <td>0.111111</td>\n",
       "      <td>0.000000</td>\n",
       "      <td>0.000000</td>\n",
       "      <td>0.000000</td>\n",
       "      <td>0.055556</td>\n",
       "      <td>0.000000</td>\n",
       "      <td>0.000000</td>\n",
       "      <td>0.000000</td>\n",
       "      <td>0.055556</td>\n",
       "      <td>0.000000</td>\n",
       "      <td>0.000000</td>\n",
       "      <td>0.055556</td>\n",
       "      <td>0.0</td>\n",
       "      <td>0.000000</td>\n",
       "      <td>0.000000</td>\n",
       "      <td>0.000000</td>\n",
       "      <td>0.000000</td>\n",
       "      <td>0.000000</td>\n",
       "      <td>0.000000</td>\n",
       "      <td>0.000000</td>\n",
       "      <td>0.055556</td>\n",
       "      <td>0.000000</td>\n",
       "      <td>0.000000</td>\n",
       "      <td>0.000000</td>\n",
       "      <td>0.00</td>\n",
       "      <td>0.000000</td>\n",
       "      <td>0.000000</td>\n",
       "      <td>0.055556</td>\n",
       "      <td>0.000000</td>\n",
       "      <td>0.0</td>\n",
       "      <td>0.055556</td>\n",
       "      <td>0.000000</td>\n",
       "      <td>0.000000</td>\n",
       "      <td>0.0</td>\n",
       "      <td>0.000000</td>\n",
       "      <td>0.055556</td>\n",
       "      <td>0.055556</td>\n",
       "      <td>0.000000</td>\n",
       "      <td>0.000000</td>\n",
       "      <td>0.055556</td>\n",
       "      <td>0.055556</td>\n",
       "      <td>0.000000</td>\n",
       "      <td>0.000000</td>\n",
       "      <td>0.000000</td>\n",
       "      <td>0.000000</td>\n",
       "      <td>0.000000</td>\n",
       "      <td>0.00</td>\n",
       "      <td>0.000000</td>\n",
       "      <td>0.055556</td>\n",
       "    </tr>\n",
       "    <tr>\n",
       "      <th>6</th>\n",
       "      <td>Roselawn</td>\n",
       "      <td>0.000000</td>\n",
       "      <td>0.000000</td>\n",
       "      <td>0.000000</td>\n",
       "      <td>0.000000</td>\n",
       "      <td>0.000000</td>\n",
       "      <td>0.000000</td>\n",
       "      <td>0.000000</td>\n",
       "      <td>0.000000</td>\n",
       "      <td>0.000000</td>\n",
       "      <td>0.000000</td>\n",
       "      <td>0.000000</td>\n",
       "      <td>0.000000</td>\n",
       "      <td>0.000000</td>\n",
       "      <td>0.000000</td>\n",
       "      <td>0.000000</td>\n",
       "      <td>0.000000</td>\n",
       "      <td>0.000000</td>\n",
       "      <td>0.000000</td>\n",
       "      <td>0.000000</td>\n",
       "      <td>0.000000</td>\n",
       "      <td>0.000000</td>\n",
       "      <td>0.000000</td>\n",
       "      <td>0.000000</td>\n",
       "      <td>0.5</td>\n",
       "      <td>0.000000</td>\n",
       "      <td>0.000000</td>\n",
       "      <td>0.000000</td>\n",
       "      <td>0.000000</td>\n",
       "      <td>0.000000</td>\n",
       "      <td>0.000000</td>\n",
       "      <td>0.000000</td>\n",
       "      <td>0.000000</td>\n",
       "      <td>0.000000</td>\n",
       "      <td>0.000000</td>\n",
       "      <td>0.000000</td>\n",
       "      <td>0.00</td>\n",
       "      <td>0.000000</td>\n",
       "      <td>0.000000</td>\n",
       "      <td>0.000000</td>\n",
       "      <td>0.000000</td>\n",
       "      <td>0.5</td>\n",
       "      <td>0.000000</td>\n",
       "      <td>0.000000</td>\n",
       "      <td>0.000000</td>\n",
       "      <td>0.0</td>\n",
       "      <td>0.000000</td>\n",
       "      <td>0.000000</td>\n",
       "      <td>0.000000</td>\n",
       "      <td>0.000000</td>\n",
       "      <td>0.000000</td>\n",
       "      <td>0.000000</td>\n",
       "      <td>0.000000</td>\n",
       "      <td>0.000000</td>\n",
       "      <td>0.000000</td>\n",
       "      <td>0.000000</td>\n",
       "      <td>0.000000</td>\n",
       "      <td>0.000000</td>\n",
       "      <td>0.00</td>\n",
       "      <td>0.000000</td>\n",
       "      <td>0.000000</td>\n",
       "    </tr>\n",
       "    <tr>\n",
       "      <th>7</th>\n",
       "      <td>Summerhill West, Rathnelly, South Hill, Forest...</td>\n",
       "      <td>0.071429</td>\n",
       "      <td>0.000000</td>\n",
       "      <td>0.071429</td>\n",
       "      <td>0.071429</td>\n",
       "      <td>0.000000</td>\n",
       "      <td>0.000000</td>\n",
       "      <td>0.000000</td>\n",
       "      <td>0.000000</td>\n",
       "      <td>0.000000</td>\n",
       "      <td>0.000000</td>\n",
       "      <td>0.000000</td>\n",
       "      <td>0.142857</td>\n",
       "      <td>0.000000</td>\n",
       "      <td>0.000000</td>\n",
       "      <td>0.000000</td>\n",
       "      <td>0.000000</td>\n",
       "      <td>0.000000</td>\n",
       "      <td>0.000000</td>\n",
       "      <td>0.000000</td>\n",
       "      <td>0.000000</td>\n",
       "      <td>0.000000</td>\n",
       "      <td>0.071429</td>\n",
       "      <td>0.000000</td>\n",
       "      <td>0.0</td>\n",
       "      <td>0.000000</td>\n",
       "      <td>0.000000</td>\n",
       "      <td>0.000000</td>\n",
       "      <td>0.000000</td>\n",
       "      <td>0.000000</td>\n",
       "      <td>0.000000</td>\n",
       "      <td>0.000000</td>\n",
       "      <td>0.000000</td>\n",
       "      <td>0.000000</td>\n",
       "      <td>0.000000</td>\n",
       "      <td>0.000000</td>\n",
       "      <td>0.00</td>\n",
       "      <td>0.071429</td>\n",
       "      <td>0.071429</td>\n",
       "      <td>0.000000</td>\n",
       "      <td>0.000000</td>\n",
       "      <td>0.0</td>\n",
       "      <td>0.000000</td>\n",
       "      <td>0.000000</td>\n",
       "      <td>0.071429</td>\n",
       "      <td>0.0</td>\n",
       "      <td>0.071429</td>\n",
       "      <td>0.071429</td>\n",
       "      <td>0.000000</td>\n",
       "      <td>0.000000</td>\n",
       "      <td>0.000000</td>\n",
       "      <td>0.000000</td>\n",
       "      <td>0.000000</td>\n",
       "      <td>0.071429</td>\n",
       "      <td>0.071429</td>\n",
       "      <td>0.000000</td>\n",
       "      <td>0.000000</td>\n",
       "      <td>0.000000</td>\n",
       "      <td>0.00</td>\n",
       "      <td>0.071429</td>\n",
       "      <td>0.000000</td>\n",
       "    </tr>\n",
       "    <tr>\n",
       "      <th>8</th>\n",
       "      <td>The Annex, North Midtown, Yorkville</td>\n",
       "      <td>0.000000</td>\n",
       "      <td>0.052632</td>\n",
       "      <td>0.000000</td>\n",
       "      <td>0.000000</td>\n",
       "      <td>0.000000</td>\n",
       "      <td>0.000000</td>\n",
       "      <td>0.052632</td>\n",
       "      <td>0.000000</td>\n",
       "      <td>0.157895</td>\n",
       "      <td>0.000000</td>\n",
       "      <td>0.000000</td>\n",
       "      <td>0.105263</td>\n",
       "      <td>0.000000</td>\n",
       "      <td>0.000000</td>\n",
       "      <td>0.000000</td>\n",
       "      <td>0.000000</td>\n",
       "      <td>0.000000</td>\n",
       "      <td>0.052632</td>\n",
       "      <td>0.000000</td>\n",
       "      <td>0.000000</td>\n",
       "      <td>0.000000</td>\n",
       "      <td>0.000000</td>\n",
       "      <td>0.000000</td>\n",
       "      <td>0.0</td>\n",
       "      <td>0.000000</td>\n",
       "      <td>0.000000</td>\n",
       "      <td>0.000000</td>\n",
       "      <td>0.000000</td>\n",
       "      <td>0.000000</td>\n",
       "      <td>0.052632</td>\n",
       "      <td>0.000000</td>\n",
       "      <td>0.000000</td>\n",
       "      <td>0.052632</td>\n",
       "      <td>0.000000</td>\n",
       "      <td>0.000000</td>\n",
       "      <td>0.00</td>\n",
       "      <td>0.000000</td>\n",
       "      <td>0.052632</td>\n",
       "      <td>0.000000</td>\n",
       "      <td>0.052632</td>\n",
       "      <td>0.0</td>\n",
       "      <td>0.052632</td>\n",
       "      <td>0.052632</td>\n",
       "      <td>0.052632</td>\n",
       "      <td>0.0</td>\n",
       "      <td>0.052632</td>\n",
       "      <td>0.000000</td>\n",
       "      <td>0.000000</td>\n",
       "      <td>0.157895</td>\n",
       "      <td>0.000000</td>\n",
       "      <td>0.000000</td>\n",
       "      <td>0.000000</td>\n",
       "      <td>0.000000</td>\n",
       "      <td>0.000000</td>\n",
       "      <td>0.000000</td>\n",
       "      <td>0.000000</td>\n",
       "      <td>0.000000</td>\n",
       "      <td>0.00</td>\n",
       "      <td>0.000000</td>\n",
       "      <td>0.000000</td>\n",
       "    </tr>\n",
       "  </tbody>\n",
       "</table>\n",
       "</div>"
      ],
      "text/plain": [
       "                                        Neighborhood  American Restaurant  \\\n",
       "0                                         Davisville             0.000000   \n",
       "1                                   Davisville North             0.000000   \n",
       "2    Forest Hill North & West, Forest Hill Road Park             0.000000   \n",
       "3                                      Lawrence Park             0.000000   \n",
       "4                        Moore Park, Summerhill East             0.000000   \n",
       "5                 North Toronto West,  Lawrence Park             0.000000   \n",
       "6                                           Roselawn             0.000000   \n",
       "7  Summerhill West, Rathnelly, South Hill, Forest...             0.071429   \n",
       "8                The Annex, North Midtown, Yorkville             0.000000   \n",
       "\n",
       "   BBQ Joint  Bagel Shop      Bank  Breakfast Spot   Brewery  Burger Joint  \\\n",
       "0   0.000000    0.000000  0.000000        0.000000  0.030303      0.000000   \n",
       "1   0.000000    0.000000  0.000000        0.111111  0.000000      0.000000   \n",
       "2   0.000000    0.000000  0.000000        0.000000  0.000000      0.000000   \n",
       "3   0.000000    0.000000  0.000000        0.000000  0.000000      0.000000   \n",
       "4   0.000000    0.000000  0.000000        0.000000  0.000000      0.000000   \n",
       "5   0.000000    0.055556  0.000000        0.000000  0.000000      0.000000   \n",
       "6   0.000000    0.000000  0.000000        0.000000  0.000000      0.000000   \n",
       "7   0.000000    0.071429  0.071429        0.000000  0.000000      0.000000   \n",
       "8   0.052632    0.000000  0.000000        0.000000  0.000000      0.052632   \n",
       "\n",
       "   Bus Line      Café  Chinese Restaurant  Clothing Store  Coffee Shop  \\\n",
       "0  0.000000  0.060606            0.000000        0.000000     0.060606   \n",
       "1  0.000000  0.000000            0.000000        0.000000     0.000000   \n",
       "2  0.000000  0.000000            0.000000        0.000000     0.000000   \n",
       "3  0.333333  0.000000            0.000000        0.000000     0.000000   \n",
       "4  0.000000  0.000000            0.000000        0.000000     0.000000   \n",
       "5  0.000000  0.055556            0.055556        0.111111     0.111111   \n",
       "6  0.000000  0.000000            0.000000        0.000000     0.000000   \n",
       "7  0.000000  0.000000            0.000000        0.000000     0.142857   \n",
       "8  0.000000  0.157895            0.000000        0.000000     0.105263   \n",
       "\n",
       "   Dance Studio  Department Store  Dessert Shop     Diner   Dog Run  \\\n",
       "0      0.000000          0.000000      0.090909  0.030303  0.000000   \n",
       "1      0.111111          0.111111      0.000000  0.000000  0.111111   \n",
       "2      0.000000          0.000000      0.000000  0.000000  0.000000   \n",
       "3      0.000000          0.000000      0.000000  0.000000  0.000000   \n",
       "4      0.000000          0.000000      0.000000  0.000000  0.000000   \n",
       "5      0.000000          0.000000      0.000000  0.055556  0.000000   \n",
       "6      0.000000          0.000000      0.000000  0.000000  0.000000   \n",
       "7      0.000000          0.000000      0.000000  0.000000  0.000000   \n",
       "8      0.000000          0.000000      0.000000  0.000000  0.000000   \n",
       "\n",
       "   Donut Shop  Farmers Market  Fast Food Restaurant  Food & Drink Shop  \\\n",
       "0    0.000000        0.030303              0.000000           0.000000   \n",
       "1    0.000000        0.000000              0.000000           0.111111   \n",
       "2    0.000000        0.000000              0.000000           0.000000   \n",
       "3    0.000000        0.000000              0.000000           0.000000   \n",
       "4    0.000000        0.000000              0.000000           0.000000   \n",
       "5    0.000000        0.000000              0.055556           0.000000   \n",
       "6    0.000000        0.000000              0.000000           0.000000   \n",
       "7    0.000000        0.000000              0.000000           0.000000   \n",
       "8    0.052632        0.000000              0.000000           0.000000   \n",
       "\n",
       "   Fried Chicken Joint  Furniture / Home Store  Garden  Gas Station  \\\n",
       "0             0.000000                0.000000     0.0     0.030303   \n",
       "1             0.000000                0.000000     0.0     0.000000   \n",
       "2             0.000000                0.000000     0.0     0.000000   \n",
       "3             0.000000                0.000000     0.0     0.000000   \n",
       "4             0.000000                0.000000     0.0     0.000000   \n",
       "5             0.000000                0.055556     0.0     0.000000   \n",
       "6             0.000000                0.000000     0.5     0.000000   \n",
       "7             0.071429                0.000000     0.0     0.000000   \n",
       "8             0.000000                0.000000     0.0     0.000000   \n",
       "\n",
       "   Gourmet Shop  Greek Restaurant       Gym  Gym / Fitness Center  \\\n",
       "0      0.030303          0.030303  0.060606              0.000000   \n",
       "1      0.000000          0.000000  0.000000              0.111111   \n",
       "2      0.000000          0.000000  0.000000              0.000000   \n",
       "3      0.000000          0.000000  0.000000              0.000000   \n",
       "4      0.000000          0.000000  0.000000              0.000000   \n",
       "5      0.000000          0.000000  0.000000              0.000000   \n",
       "6      0.000000          0.000000  0.000000              0.000000   \n",
       "7      0.000000          0.000000  0.000000              0.000000   \n",
       "8      0.000000          0.000000  0.000000              0.000000   \n",
       "\n",
       "   History Museum     Hotel  Ice Cream Shop  Indian Restaurant  \\\n",
       "0        0.000000  0.000000        0.000000           0.030303   \n",
       "1        0.000000  0.111111        0.000000           0.000000   \n",
       "2        0.000000  0.000000        0.000000           0.000000   \n",
       "3        0.000000  0.000000        0.000000           0.000000   \n",
       "4        0.000000  0.000000        0.000000           0.000000   \n",
       "5        0.000000  0.000000        0.055556           0.000000   \n",
       "6        0.000000  0.000000        0.000000           0.000000   \n",
       "7        0.000000  0.000000        0.000000           0.000000   \n",
       "8        0.052632  0.000000        0.000000           0.052632   \n",
       "\n",
       "   Indoor Play Area  Italian Restaurant  Jewelry Store  Light Rail Station  \\\n",
       "0          0.030303            0.060606           0.00            0.000000   \n",
       "1          0.000000            0.000000           0.00            0.000000   \n",
       "2          0.000000            0.000000           0.25            0.000000   \n",
       "3          0.000000            0.000000           0.00            0.000000   \n",
       "4          0.000000            0.000000           0.00            0.000000   \n",
       "5          0.000000            0.000000           0.00            0.000000   \n",
       "6          0.000000            0.000000           0.00            0.000000   \n",
       "7          0.000000            0.000000           0.00            0.071429   \n",
       "8          0.000000            0.000000           0.00            0.000000   \n",
       "\n",
       "   Liquor Store  Mexican Restaurant  Middle Eastern Restaurant  Music Venue  \\\n",
       "0      0.000000            0.000000                   0.000000          0.0   \n",
       "1      0.000000            0.000000                   0.000000          0.0   \n",
       "2      0.000000            0.000000                   0.000000          0.0   \n",
       "3      0.000000            0.000000                   0.000000          0.0   \n",
       "4      0.000000            0.000000                   0.000000          0.0   \n",
       "5      0.000000            0.055556                   0.000000          0.0   \n",
       "6      0.000000            0.000000                   0.000000          0.5   \n",
       "7      0.071429            0.000000                   0.000000          0.0   \n",
       "8      0.052632            0.000000                   0.052632          0.0   \n",
       "\n",
       "       Park  Pharmacy  Pizza Place  Playground       Pub  Restaurant  \\\n",
       "0  0.030303  0.030303     0.090909         0.0  0.000000    0.030303   \n",
       "1  0.111111  0.000000     0.000000         0.0  0.000000    0.000000   \n",
       "2  0.250000  0.000000     0.000000         0.0  0.000000    0.000000   \n",
       "3  0.333333  0.000000     0.000000         0.0  0.000000    0.000000   \n",
       "4  0.000000  0.000000     0.000000         0.5  0.000000    0.000000   \n",
       "5  0.055556  0.000000     0.000000         0.0  0.000000    0.055556   \n",
       "6  0.000000  0.000000     0.000000         0.0  0.000000    0.000000   \n",
       "7  0.000000  0.000000     0.071429         0.0  0.071429    0.071429   \n",
       "8  0.052632  0.052632     0.052632         0.0  0.052632    0.000000   \n",
       "\n",
       "   Salon / Barbershop  Sandwich Place  Seafood Restaurant       Spa  \\\n",
       "0            0.000000        0.090909            0.030303  0.000000   \n",
       "1            0.000000        0.111111            0.000000  0.000000   \n",
       "2            0.000000        0.000000            0.000000  0.000000   \n",
       "3            0.000000        0.000000            0.000000  0.000000   \n",
       "4            0.000000        0.000000            0.000000  0.000000   \n",
       "5            0.055556        0.000000            0.000000  0.055556   \n",
       "6            0.000000        0.000000            0.000000  0.000000   \n",
       "7            0.000000        0.000000            0.000000  0.000000   \n",
       "8            0.000000        0.157895            0.000000  0.000000   \n",
       "\n",
       "   Sporting Goods Shop  Supermarket  Sushi Restaurant  Swim School  \\\n",
       "0             0.000000     0.000000          0.060606     0.000000   \n",
       "1             0.000000     0.000000          0.000000     0.000000   \n",
       "2             0.000000     0.000000          0.250000     0.000000   \n",
       "3             0.000000     0.000000          0.000000     0.333333   \n",
       "4             0.000000     0.000000          0.000000     0.000000   \n",
       "5             0.055556     0.000000          0.000000     0.000000   \n",
       "6             0.000000     0.000000          0.000000     0.000000   \n",
       "7             0.000000     0.071429          0.071429     0.000000   \n",
       "8             0.000000     0.000000          0.000000     0.000000   \n",
       "\n",
       "   Thai Restaurant  Toy / Game Store  Trail  Vietnamese Restaurant  \\\n",
       "0         0.030303          0.030303   0.00               0.000000   \n",
       "1         0.000000          0.000000   0.00               0.000000   \n",
       "2         0.000000          0.000000   0.25               0.000000   \n",
       "3         0.000000          0.000000   0.00               0.000000   \n",
       "4         0.000000          0.000000   0.50               0.000000   \n",
       "5         0.000000          0.000000   0.00               0.000000   \n",
       "6         0.000000          0.000000   0.00               0.000000   \n",
       "7         0.000000          0.000000   0.00               0.071429   \n",
       "8         0.000000          0.000000   0.00               0.000000   \n",
       "\n",
       "   Yoga Studio  \n",
       "0     0.000000  \n",
       "1     0.000000  \n",
       "2     0.000000  \n",
       "3     0.000000  \n",
       "4     0.000000  \n",
       "5     0.055556  \n",
       "6     0.000000  \n",
       "7     0.000000  \n",
       "8     0.000000  "
      ]
     },
     "execution_count": 99,
     "metadata": {},
     "output_type": "execute_result"
    }
   ],
   "source": [
    "ctrltor_grouped = ctrltor_onehot.groupby('Neighborhood').mean().reset_index()\n",
    "ctrltor_grouped"
   ]
  },
  {
   "cell_type": "code",
   "execution_count": 100,
   "metadata": {},
   "outputs": [
    {
     "data": {
      "text/plain": [
       "(9, 61)"
      ]
     },
     "execution_count": 100,
     "metadata": {},
     "output_type": "execute_result"
    }
   ],
   "source": [
    "ctrltor_grouped.shape"
   ]
  },
  {
   "cell_type": "markdown",
   "metadata": {},
   "source": [
    "- Let's print each neighborhood along with the top 5 most common venues"
   ]
  },
  {
   "cell_type": "code",
   "execution_count": 101,
   "metadata": {},
   "outputs": [
    {
     "name": "stdout",
     "output_type": "stream",
     "text": [
      "----Davisville----\n",
      "                venue  freq\n",
      "0         Pizza Place  0.09\n",
      "1        Dessert Shop  0.09\n",
      "2      Sandwich Place  0.09\n",
      "3  Italian Restaurant  0.06\n",
      "4                 Gym  0.06\n",
      "\n",
      "\n",
      "----Davisville North----\n",
      "                  venue  freq\n",
      "0                 Hotel  0.11\n",
      "1          Dance Studio  0.11\n",
      "2  Gym / Fitness Center  0.11\n",
      "3                  Park  0.11\n",
      "4     Food & Drink Shop  0.11\n",
      "\n",
      "\n",
      "----Forest Hill North & West, Forest Hill Road Park----\n",
      "                 venue  freq\n",
      "0                Trail  0.25\n",
      "1        Jewelry Store  0.25\n",
      "2     Sushi Restaurant  0.25\n",
      "3                 Park  0.25\n",
      "4  American Restaurant  0.00\n",
      "\n",
      "\n",
      "----Lawrence Park----\n",
      "                 venue  freq\n",
      "0          Swim School  0.33\n",
      "1             Bus Line  0.33\n",
      "2                 Park  0.33\n",
      "3  American Restaurant  0.00\n",
      "4                  Pub  0.00\n",
      "\n",
      "\n",
      "----Moore Park, Summerhill East----\n",
      "                 venue  freq\n",
      "0           Playground   0.5\n",
      "1                Trail   0.5\n",
      "2  American Restaurant   0.0\n",
      "3    Indian Restaurant   0.0\n",
      "4     Indoor Play Area   0.0\n",
      "\n",
      "\n",
      "----North Toronto West,  Lawrence Park----\n",
      "                  venue  freq\n",
      "0           Coffee Shop  0.11\n",
      "1        Clothing Store  0.11\n",
      "2            Restaurant  0.06\n",
      "3    Salon / Barbershop  0.06\n",
      "4  Fast Food Restaurant  0.06\n",
      "\n",
      "\n",
      "----Roselawn----\n",
      "                 venue  freq\n",
      "0               Garden   0.5\n",
      "1          Music Venue   0.5\n",
      "2  American Restaurant   0.0\n",
      "3       Ice Cream Shop   0.0\n",
      "4     Indoor Play Area   0.0\n",
      "\n",
      "\n",
      "----Summerhill West, Rathnelly, South Hill, Forest Hill SE, Deer Park----\n",
      "                 venue  freq\n",
      "0          Coffee Shop  0.14\n",
      "1  American Restaurant  0.07\n",
      "2         Liquor Store  0.07\n",
      "3                  Pub  0.07\n",
      "4           Restaurant  0.07\n",
      "\n",
      "\n",
      "----The Annex, North Midtown, Yorkville----\n",
      "               venue  freq\n",
      "0               Café  0.16\n",
      "1     Sandwich Place  0.16\n",
      "2        Coffee Shop  0.11\n",
      "3  Indian Restaurant  0.05\n",
      "4           Pharmacy  0.05\n",
      "\n",
      "\n"
     ]
    }
   ],
   "source": [
    "num_top_venues = 5\n",
    "\n",
    "for hood in ctrltor_grouped['Neighborhood']:\n",
    "    print(\"----\"+hood+\"----\")\n",
    "    temp = ctrltor_grouped[ctrltor_grouped['Neighborhood'] == hood].T.reset_index()\n",
    "    temp.columns = ['venue','freq']\n",
    "    temp = temp.iloc[1:]\n",
    "    temp['freq'] = temp['freq'].astype(float)\n",
    "    temp = temp.round({'freq': 2})\n",
    "    print(temp.sort_values('freq', ascending=False).reset_index(drop=True).head(num_top_venues))\n",
    "    print('\\n')"
   ]
  },
  {
   "cell_type": "markdown",
   "metadata": {},
   "source": [
    "##### Let's put that into a pandas dataframe\n",
    "- First, let's write a function to sort the venues in descending order."
   ]
  },
  {
   "cell_type": "code",
   "execution_count": 102,
   "metadata": {},
   "outputs": [],
   "source": [
    "def return_most_common_venues(row, num_top_venues):\n",
    "    row_categories = row.iloc[1:]\n",
    "    row_categories_sorted = row_categories.sort_values(ascending=False)\n",
    "    \n",
    "    return row_categories_sorted.index.values[0:num_top_venues]"
   ]
  },
  {
   "cell_type": "code",
   "execution_count": 103,
   "metadata": {},
   "outputs": [
    {
     "data": {
      "text/html": [
       "<div>\n",
       "<style scoped>\n",
       "    .dataframe tbody tr th:only-of-type {\n",
       "        vertical-align: middle;\n",
       "    }\n",
       "\n",
       "    .dataframe tbody tr th {\n",
       "        vertical-align: top;\n",
       "    }\n",
       "\n",
       "    .dataframe thead th {\n",
       "        text-align: right;\n",
       "    }\n",
       "</style>\n",
       "<table border=\"1\" class=\"dataframe\">\n",
       "  <thead>\n",
       "    <tr style=\"text-align: right;\">\n",
       "      <th></th>\n",
       "      <th>Neighborhood</th>\n",
       "      <th>1st Most Common Venue</th>\n",
       "      <th>2nd Most Common Venue</th>\n",
       "      <th>3rd Most Common Venue</th>\n",
       "      <th>4th Most Common Venue</th>\n",
       "      <th>5th Most Common Venue</th>\n",
       "      <th>6th Most Common Venue</th>\n",
       "      <th>7th Most Common Venue</th>\n",
       "      <th>8th Most Common Venue</th>\n",
       "      <th>9th Most Common Venue</th>\n",
       "      <th>10th Most Common Venue</th>\n",
       "    </tr>\n",
       "  </thead>\n",
       "  <tbody>\n",
       "    <tr>\n",
       "      <th>0</th>\n",
       "      <td>Davisville</td>\n",
       "      <td>Dessert Shop</td>\n",
       "      <td>Pizza Place</td>\n",
       "      <td>Sandwich Place</td>\n",
       "      <td>Italian Restaurant</td>\n",
       "      <td>Coffee Shop</td>\n",
       "      <td>Sushi Restaurant</td>\n",
       "      <td>Café</td>\n",
       "      <td>Gym</td>\n",
       "      <td>Farmers Market</td>\n",
       "      <td>Indian Restaurant</td>\n",
       "    </tr>\n",
       "    <tr>\n",
       "      <th>1</th>\n",
       "      <td>Davisville North</td>\n",
       "      <td>Gym / Fitness Center</td>\n",
       "      <td>Park</td>\n",
       "      <td>Department Store</td>\n",
       "      <td>Dance Studio</td>\n",
       "      <td>Sandwich Place</td>\n",
       "      <td>Food &amp; Drink Shop</td>\n",
       "      <td>Dog Run</td>\n",
       "      <td>Breakfast Spot</td>\n",
       "      <td>Hotel</td>\n",
       "      <td>Garden</td>\n",
       "    </tr>\n",
       "    <tr>\n",
       "      <th>2</th>\n",
       "      <td>Forest Hill North &amp; West, Forest Hill Road Park</td>\n",
       "      <td>Park</td>\n",
       "      <td>Jewelry Store</td>\n",
       "      <td>Trail</td>\n",
       "      <td>Sushi Restaurant</td>\n",
       "      <td>Diner</td>\n",
       "      <td>Dog Run</td>\n",
       "      <td>Donut Shop</td>\n",
       "      <td>Farmers Market</td>\n",
       "      <td>Fast Food Restaurant</td>\n",
       "      <td>Yoga Studio</td>\n",
       "    </tr>\n",
       "    <tr>\n",
       "      <th>3</th>\n",
       "      <td>Lawrence Park</td>\n",
       "      <td>Swim School</td>\n",
       "      <td>Bus Line</td>\n",
       "      <td>Park</td>\n",
       "      <td>Yoga Studio</td>\n",
       "      <td>Diner</td>\n",
       "      <td>Greek Restaurant</td>\n",
       "      <td>Gourmet Shop</td>\n",
       "      <td>Gas Station</td>\n",
       "      <td>Garden</td>\n",
       "      <td>Furniture / Home Store</td>\n",
       "    </tr>\n",
       "    <tr>\n",
       "      <th>4</th>\n",
       "      <td>Moore Park, Summerhill East</td>\n",
       "      <td>Playground</td>\n",
       "      <td>Trail</td>\n",
       "      <td>Department Store</td>\n",
       "      <td>Greek Restaurant</td>\n",
       "      <td>Gourmet Shop</td>\n",
       "      <td>Gas Station</td>\n",
       "      <td>Garden</td>\n",
       "      <td>Furniture / Home Store</td>\n",
       "      <td>Fried Chicken Joint</td>\n",
       "      <td>Food &amp; Drink Shop</td>\n",
       "    </tr>\n",
       "  </tbody>\n",
       "</table>\n",
       "</div>"
      ],
      "text/plain": [
       "                                      Neighborhood 1st Most Common Venue  \\\n",
       "0                                       Davisville          Dessert Shop   \n",
       "1                                 Davisville North  Gym / Fitness Center   \n",
       "2  Forest Hill North & West, Forest Hill Road Park                  Park   \n",
       "3                                    Lawrence Park           Swim School   \n",
       "4                      Moore Park, Summerhill East            Playground   \n",
       "\n",
       "  2nd Most Common Venue 3rd Most Common Venue 4th Most Common Venue  \\\n",
       "0           Pizza Place        Sandwich Place    Italian Restaurant   \n",
       "1                  Park      Department Store          Dance Studio   \n",
       "2         Jewelry Store                 Trail      Sushi Restaurant   \n",
       "3              Bus Line                  Park           Yoga Studio   \n",
       "4                 Trail      Department Store      Greek Restaurant   \n",
       "\n",
       "  5th Most Common Venue 6th Most Common Venue 7th Most Common Venue  \\\n",
       "0           Coffee Shop      Sushi Restaurant                  Café   \n",
       "1        Sandwich Place     Food & Drink Shop               Dog Run   \n",
       "2                 Diner               Dog Run            Donut Shop   \n",
       "3                 Diner      Greek Restaurant          Gourmet Shop   \n",
       "4          Gourmet Shop           Gas Station                Garden   \n",
       "\n",
       "    8th Most Common Venue 9th Most Common Venue  10th Most Common Venue  \n",
       "0                     Gym        Farmers Market       Indian Restaurant  \n",
       "1          Breakfast Spot                 Hotel                  Garden  \n",
       "2          Farmers Market  Fast Food Restaurant             Yoga Studio  \n",
       "3             Gas Station                Garden  Furniture / Home Store  \n",
       "4  Furniture / Home Store   Fried Chicken Joint       Food & Drink Shop  "
      ]
     },
     "execution_count": 103,
     "metadata": {},
     "output_type": "execute_result"
    }
   ],
   "source": [
    "num_top_venues = 10\n",
    "\n",
    "indicators = ['st', 'nd', 'rd']\n",
    "\n",
    "# create columns according to number of top venues\n",
    "columns = ['Neighborhood']\n",
    "for ind in np.arange(num_top_venues):\n",
    "    try:\n",
    "        columns.append('{}{} Most Common Venue'.format(ind+1, indicators[ind]))\n",
    "    except:\n",
    "        columns.append('{}th Most Common Venue'.format(ind+1))\n",
    "\n",
    "# create a new dataframe\n",
    "neighborhoods_venues_sorted = pd.DataFrame(columns=columns)\n",
    "neighborhoods_venues_sorted['Neighborhood'] = ctrltor_grouped['Neighborhood']\n",
    "\n",
    "for ind in np.arange(ctrltor_grouped.shape[0]):\n",
    "    neighborhoods_venues_sorted.iloc[ind, 1:] = return_most_common_venues(ctrltor_grouped.iloc[ind, :], num_top_venues)\n",
    "\n",
    "neighborhoods_venues_sorted.head()"
   ]
  },
  {
   "cell_type": "markdown",
   "metadata": {},
   "source": [
    "###  Cluster Neighborhoods\n",
    "- Run k-means to cluster the neighborhood into 5 clusters."
   ]
  },
  {
   "cell_type": "code",
   "execution_count": 104,
   "metadata": {},
   "outputs": [
    {
     "data": {
      "text/plain": [
       "array([1, 1, 2, 0, 4, 1, 3, 1, 1])"
      ]
     },
     "execution_count": 104,
     "metadata": {},
     "output_type": "execute_result"
    }
   ],
   "source": [
    "# set number of clusters\n",
    "kclusters = 5\n",
    "\n",
    "ctrltor_grouped_clustering = ctrltor_grouped.drop('Neighborhood', 1)\n",
    "\n",
    "# run k-means clustering\n",
    "kmeans = KMeans(n_clusters=kclusters, random_state=0).fit(ctrltor_grouped_clustering)\n",
    "\n",
    "# check cluster labels generated for each row in the dataframe\n",
    "kmeans.labels_[0:10] "
   ]
  },
  {
   "cell_type": "markdown",
   "metadata": {},
   "source": [
    "- Let's create a new dataframe that includes the cluster as well as the top 10 venues for each neighborhood"
   ]
  },
  {
   "cell_type": "code",
   "execution_count": 105,
   "metadata": {},
   "outputs": [
    {
     "data": {
      "text/html": [
       "<div>\n",
       "<style scoped>\n",
       "    .dataframe tbody tr th:only-of-type {\n",
       "        vertical-align: middle;\n",
       "    }\n",
       "\n",
       "    .dataframe tbody tr th {\n",
       "        vertical-align: top;\n",
       "    }\n",
       "\n",
       "    .dataframe thead th {\n",
       "        text-align: right;\n",
       "    }\n",
       "</style>\n",
       "<table border=\"1\" class=\"dataframe\">\n",
       "  <thead>\n",
       "    <tr style=\"text-align: right;\">\n",
       "      <th></th>\n",
       "      <th>Postal Code</th>\n",
       "      <th>Borough</th>\n",
       "      <th>Neighborhood</th>\n",
       "      <th>Latitude</th>\n",
       "      <th>Longitude</th>\n",
       "      <th>Cluster Labels</th>\n",
       "      <th>1st Most Common Venue</th>\n",
       "      <th>2nd Most Common Venue</th>\n",
       "      <th>3rd Most Common Venue</th>\n",
       "      <th>4th Most Common Venue</th>\n",
       "      <th>5th Most Common Venue</th>\n",
       "      <th>6th Most Common Venue</th>\n",
       "      <th>7th Most Common Venue</th>\n",
       "      <th>8th Most Common Venue</th>\n",
       "      <th>9th Most Common Venue</th>\n",
       "      <th>10th Most Common Venue</th>\n",
       "    </tr>\n",
       "  </thead>\n",
       "  <tbody>\n",
       "    <tr>\n",
       "      <th>0</th>\n",
       "      <td>M4N</td>\n",
       "      <td>Central Toronto</td>\n",
       "      <td>Lawrence Park</td>\n",
       "      <td>43.728020</td>\n",
       "      <td>-79.388790</td>\n",
       "      <td>0</td>\n",
       "      <td>Swim School</td>\n",
       "      <td>Bus Line</td>\n",
       "      <td>Park</td>\n",
       "      <td>Yoga Studio</td>\n",
       "      <td>Diner</td>\n",
       "      <td>Greek Restaurant</td>\n",
       "      <td>Gourmet Shop</td>\n",
       "      <td>Gas Station</td>\n",
       "      <td>Garden</td>\n",
       "      <td>Furniture / Home Store</td>\n",
       "    </tr>\n",
       "    <tr>\n",
       "      <th>1</th>\n",
       "      <td>M5N</td>\n",
       "      <td>Central Toronto</td>\n",
       "      <td>Roselawn</td>\n",
       "      <td>43.711695</td>\n",
       "      <td>-79.416936</td>\n",
       "      <td>3</td>\n",
       "      <td>Garden</td>\n",
       "      <td>Music Venue</td>\n",
       "      <td>Yoga Studio</td>\n",
       "      <td>Gym / Fitness Center</td>\n",
       "      <td>Greek Restaurant</td>\n",
       "      <td>Gourmet Shop</td>\n",
       "      <td>Gas Station</td>\n",
       "      <td>Furniture / Home Store</td>\n",
       "      <td>Fried Chicken Joint</td>\n",
       "      <td>Food &amp; Drink Shop</td>\n",
       "    </tr>\n",
       "    <tr>\n",
       "      <th>2</th>\n",
       "      <td>M4P</td>\n",
       "      <td>Central Toronto</td>\n",
       "      <td>Davisville North</td>\n",
       "      <td>43.712751</td>\n",
       "      <td>-79.390197</td>\n",
       "      <td>1</td>\n",
       "      <td>Gym / Fitness Center</td>\n",
       "      <td>Park</td>\n",
       "      <td>Department Store</td>\n",
       "      <td>Dance Studio</td>\n",
       "      <td>Sandwich Place</td>\n",
       "      <td>Food &amp; Drink Shop</td>\n",
       "      <td>Dog Run</td>\n",
       "      <td>Breakfast Spot</td>\n",
       "      <td>Hotel</td>\n",
       "      <td>Garden</td>\n",
       "    </tr>\n",
       "    <tr>\n",
       "      <th>3</th>\n",
       "      <td>M5P</td>\n",
       "      <td>Central Toronto</td>\n",
       "      <td>Forest Hill North &amp; West, Forest Hill Road Park</td>\n",
       "      <td>43.696948</td>\n",
       "      <td>-79.411307</td>\n",
       "      <td>2</td>\n",
       "      <td>Park</td>\n",
       "      <td>Jewelry Store</td>\n",
       "      <td>Trail</td>\n",
       "      <td>Sushi Restaurant</td>\n",
       "      <td>Diner</td>\n",
       "      <td>Dog Run</td>\n",
       "      <td>Donut Shop</td>\n",
       "      <td>Farmers Market</td>\n",
       "      <td>Fast Food Restaurant</td>\n",
       "      <td>Yoga Studio</td>\n",
       "    </tr>\n",
       "    <tr>\n",
       "      <th>4</th>\n",
       "      <td>M4R</td>\n",
       "      <td>Central Toronto</td>\n",
       "      <td>North Toronto West,  Lawrence Park</td>\n",
       "      <td>43.715383</td>\n",
       "      <td>-79.405678</td>\n",
       "      <td>1</td>\n",
       "      <td>Coffee Shop</td>\n",
       "      <td>Clothing Store</td>\n",
       "      <td>Salon / Barbershop</td>\n",
       "      <td>Furniture / Home Store</td>\n",
       "      <td>Ice Cream Shop</td>\n",
       "      <td>Fast Food Restaurant</td>\n",
       "      <td>Diner</td>\n",
       "      <td>Mexican Restaurant</td>\n",
       "      <td>Park</td>\n",
       "      <td>Chinese Restaurant</td>\n",
       "    </tr>\n",
       "  </tbody>\n",
       "</table>\n",
       "</div>"
      ],
      "text/plain": [
       "  Postal Code          Borough  \\\n",
       "0         M4N  Central Toronto   \n",
       "1         M5N  Central Toronto   \n",
       "2         M4P  Central Toronto   \n",
       "3         M5P  Central Toronto   \n",
       "4         M4R  Central Toronto   \n",
       "\n",
       "                                      Neighborhood   Latitude  Longitude  \\\n",
       "0                                    Lawrence Park  43.728020 -79.388790   \n",
       "1                                         Roselawn  43.711695 -79.416936   \n",
       "2                                 Davisville North  43.712751 -79.390197   \n",
       "3  Forest Hill North & West, Forest Hill Road Park  43.696948 -79.411307   \n",
       "4               North Toronto West,  Lawrence Park  43.715383 -79.405678   \n",
       "\n",
       "   Cluster Labels 1st Most Common Venue 2nd Most Common Venue  \\\n",
       "0               0           Swim School              Bus Line   \n",
       "1               3                Garden           Music Venue   \n",
       "2               1  Gym / Fitness Center                  Park   \n",
       "3               2                  Park         Jewelry Store   \n",
       "4               1           Coffee Shop        Clothing Store   \n",
       "\n",
       "  3rd Most Common Venue   4th Most Common Venue 5th Most Common Venue  \\\n",
       "0                  Park             Yoga Studio                 Diner   \n",
       "1           Yoga Studio    Gym / Fitness Center      Greek Restaurant   \n",
       "2      Department Store            Dance Studio        Sandwich Place   \n",
       "3                 Trail        Sushi Restaurant                 Diner   \n",
       "4    Salon / Barbershop  Furniture / Home Store        Ice Cream Shop   \n",
       "\n",
       "  6th Most Common Venue 7th Most Common Venue   8th Most Common Venue  \\\n",
       "0      Greek Restaurant          Gourmet Shop             Gas Station   \n",
       "1          Gourmet Shop           Gas Station  Furniture / Home Store   \n",
       "2     Food & Drink Shop               Dog Run          Breakfast Spot   \n",
       "3               Dog Run            Donut Shop          Farmers Market   \n",
       "4  Fast Food Restaurant                 Diner      Mexican Restaurant   \n",
       "\n",
       "  9th Most Common Venue  10th Most Common Venue  \n",
       "0                Garden  Furniture / Home Store  \n",
       "1   Fried Chicken Joint       Food & Drink Shop  \n",
       "2                 Hotel                  Garden  \n",
       "3  Fast Food Restaurant             Yoga Studio  \n",
       "4                  Park      Chinese Restaurant  "
      ]
     },
     "execution_count": 105,
     "metadata": {},
     "output_type": "execute_result"
    }
   ],
   "source": [
    "# add clustering labels\n",
    "neighborhoods_venues_sorted.insert(0, 'Cluster Labels', kmeans.labels_)\n",
    "\n",
    "ctrltor_merged = ctrltor_data\n",
    "\n",
    "# merge manhattan_grouped with manhattan_data to add latitude/longitude for each neighborhood\n",
    "ctrltor_merged = ctrltor_merged.join(neighborhoods_venues_sorted.set_index('Neighborhood'), on='Neighborhood')\n",
    "\n",
    "ctrltor_merged.head() # check the last columns!"
   ]
  },
  {
   "cell_type": "code",
   "execution_count": 107,
   "metadata": {},
   "outputs": [
    {
     "data": {
      "text/plain": [
       "<folium.vector_layers.CircleMarker at 0x2569b85c910>"
      ]
     },
     "execution_count": 107,
     "metadata": {},
     "output_type": "execute_result"
    },
    {
     "data": {
      "text/plain": [
       "<folium.vector_layers.CircleMarker at 0x2569b85c370>"
      ]
     },
     "execution_count": 107,
     "metadata": {},
     "output_type": "execute_result"
    },
    {
     "data": {
      "text/plain": [
       "<folium.vector_layers.CircleMarker at 0x2569b840dc0>"
      ]
     },
     "execution_count": 107,
     "metadata": {},
     "output_type": "execute_result"
    },
    {
     "data": {
      "text/plain": [
       "<folium.vector_layers.CircleMarker at 0x2569b840550>"
      ]
     },
     "execution_count": 107,
     "metadata": {},
     "output_type": "execute_result"
    },
    {
     "data": {
      "text/plain": [
       "<folium.vector_layers.CircleMarker at 0x2569b85c340>"
      ]
     },
     "execution_count": 107,
     "metadata": {},
     "output_type": "execute_result"
    },
    {
     "data": {
      "text/plain": [
       "<folium.vector_layers.CircleMarker at 0x2569b85c820>"
      ]
     },
     "execution_count": 107,
     "metadata": {},
     "output_type": "execute_result"
    },
    {
     "data": {
      "text/plain": [
       "<folium.vector_layers.CircleMarker at 0x2569b045eb0>"
      ]
     },
     "execution_count": 107,
     "metadata": {},
     "output_type": "execute_result"
    },
    {
     "data": {
      "text/plain": [
       "<folium.vector_layers.CircleMarker at 0x2569b840910>"
      ]
     },
     "execution_count": 107,
     "metadata": {},
     "output_type": "execute_result"
    },
    {
     "data": {
      "text/plain": [
       "<folium.vector_layers.CircleMarker at 0x2569b840c40>"
      ]
     },
     "execution_count": 107,
     "metadata": {},
     "output_type": "execute_result"
    },
    {
     "data": {
      "text/html": [
       "<div style=\"width:100%;\"><div style=\"position:relative;width:100%;height:0;padding-bottom:60%;\"><span style=\"color:#565656\">Make this Notebook Trusted to load map: File -> Trust Notebook</span><iframe src=\"about:blank\" style=\"position:absolute;width:100%;height:100%;left:0;top:0;border:none !important;\" data-html=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 onload=\"this.contentDocument.open();this.contentDocument.write(atob(this.getAttribute('data-html')));this.contentDocument.close();\" allowfullscreen webkitallowfullscreen mozallowfullscreen></iframe></div></div>"
      ],
      "text/plain": [
       "<folium.folium.Map at 0x2569b85c7f0>"
      ]
     },
     "execution_count": 107,
     "metadata": {},
     "output_type": "execute_result"
    }
   ],
   "source": [
    "# create map\n",
    "map_clusters = folium.Map(location=[latitude, longitude], zoom_start=11)\n",
    "\n",
    "# set color scheme for the clusters\n",
    "x = np.arange(kclusters)\n",
    "ys = [i + x + (i*x)**2 for i in range(kclusters)]\n",
    "colors_array = cm.rainbow(np.linspace(0, 1, len(ys)))\n",
    "rainbow = [colors.rgb2hex(i) for i in colors_array]\n",
    "\n",
    "# add markers to the map\n",
    "markers_colors = []\n",
    "for lat, lon, poi, cluster in zip(ctrltor_merged['Latitude'],ctrltor_merged['Longitude'],ctrltor_merged['Neighborhood'],ctrltor_merged['Cluster Labels']):\n",
    "    label = folium.Popup(str(poi) + ' Cluster ' + str(cluster), parse_html=True)\n",
    "    folium.CircleMarker(\n",
    "        [lat, lon],\n",
    "        radius=5,\n",
    "        popup=label,\n",
    "        color=rainbow[cluster-1],\n",
    "        fill=True,\n",
    "        fill_color=rainbow[cluster-1],\n",
    "        fill_opacity=0.7).add_to(map_clusters)\n",
    "       \n",
    "map_clusters"
   ]
  },
  {
   "cell_type": "markdown",
   "metadata": {},
   "source": [
    "### Examine Clusters"
   ]
  },
  {
   "cell_type": "markdown",
   "metadata": {},
   "source": [
    "- Now, we can examine each cluster and determine the discriminating venue categories that distinguish each cluster. Based on the defining categories, you can then assign a name to each cluster."
   ]
  },
  {
   "cell_type": "markdown",
   "metadata": {},
   "source": [
    "#### Cluster 1"
   ]
  },
  {
   "cell_type": "code",
   "execution_count": 108,
   "metadata": {},
   "outputs": [
    {
     "data": {
      "text/html": [
       "<div>\n",
       "<style scoped>\n",
       "    .dataframe tbody tr th:only-of-type {\n",
       "        vertical-align: middle;\n",
       "    }\n",
       "\n",
       "    .dataframe tbody tr th {\n",
       "        vertical-align: top;\n",
       "    }\n",
       "\n",
       "    .dataframe thead th {\n",
       "        text-align: right;\n",
       "    }\n",
       "</style>\n",
       "<table border=\"1\" class=\"dataframe\">\n",
       "  <thead>\n",
       "    <tr style=\"text-align: right;\">\n",
       "      <th></th>\n",
       "      <th>Borough</th>\n",
       "      <th>Cluster Labels</th>\n",
       "      <th>1st Most Common Venue</th>\n",
       "      <th>2nd Most Common Venue</th>\n",
       "      <th>3rd Most Common Venue</th>\n",
       "      <th>4th Most Common Venue</th>\n",
       "      <th>5th Most Common Venue</th>\n",
       "      <th>6th Most Common Venue</th>\n",
       "      <th>7th Most Common Venue</th>\n",
       "      <th>8th Most Common Venue</th>\n",
       "      <th>9th Most Common Venue</th>\n",
       "      <th>10th Most Common Venue</th>\n",
       "    </tr>\n",
       "  </thead>\n",
       "  <tbody>\n",
       "    <tr>\n",
       "      <th>0</th>\n",
       "      <td>Central Toronto</td>\n",
       "      <td>0</td>\n",
       "      <td>Swim School</td>\n",
       "      <td>Bus Line</td>\n",
       "      <td>Park</td>\n",
       "      <td>Yoga Studio</td>\n",
       "      <td>Diner</td>\n",
       "      <td>Greek Restaurant</td>\n",
       "      <td>Gourmet Shop</td>\n",
       "      <td>Gas Station</td>\n",
       "      <td>Garden</td>\n",
       "      <td>Furniture / Home Store</td>\n",
       "    </tr>\n",
       "  </tbody>\n",
       "</table>\n",
       "</div>"
      ],
      "text/plain": [
       "           Borough  Cluster Labels 1st Most Common Venue  \\\n",
       "0  Central Toronto               0           Swim School   \n",
       "\n",
       "  2nd Most Common Venue 3rd Most Common Venue 4th Most Common Venue  \\\n",
       "0              Bus Line                  Park           Yoga Studio   \n",
       "\n",
       "  5th Most Common Venue 6th Most Common Venue 7th Most Common Venue  \\\n",
       "0                 Diner      Greek Restaurant          Gourmet Shop   \n",
       "\n",
       "  8th Most Common Venue 9th Most Common Venue  10th Most Common Venue  \n",
       "0           Gas Station                Garden  Furniture / Home Store  "
      ]
     },
     "execution_count": 108,
     "metadata": {},
     "output_type": "execute_result"
    }
   ],
   "source": [
    "ctrltor_merged.loc[ctrltor_merged['Cluster Labels'] == 0,ctrltor_merged.columns[[1] + list(range(5,ctrltor_merged.shape[1]))]]"
   ]
  },
  {
   "cell_type": "code",
   "execution_count": 109,
   "metadata": {},
   "outputs": [
    {
     "data": {
      "text/plain": [
       "Index(['Borough', 'Cluster Labels', '1st Most Common Venue',\n",
       "       '2nd Most Common Venue', '3rd Most Common Venue',\n",
       "       '4th Most Common Venue', '5th Most Common Venue',\n",
       "       '6th Most Common Venue', '7th Most Common Venue',\n",
       "       '8th Most Common Venue', '9th Most Common Venue',\n",
       "       '10th Most Common Venue'],\n",
       "      dtype='object')"
      ]
     },
     "execution_count": 109,
     "metadata": {},
     "output_type": "execute_result"
    }
   ],
   "source": [
    "ctrltor_merged.columns[[1] + list(range(5,ctrltor_merged.shape[1]))]"
   ]
  },
  {
   "cell_type": "code",
   "execution_count": 110,
   "metadata": {},
   "outputs": [
    {
     "data": {
      "text/plain": [
       "16"
      ]
     },
     "execution_count": 110,
     "metadata": {},
     "output_type": "execute_result"
    }
   ],
   "source": [
    "ctrltor_merged.shape[1]"
   ]
  },
  {
   "cell_type": "code",
   "execution_count": 117,
   "metadata": {},
   "outputs": [
    {
     "data": {
      "text/plain": [
       "Index(['Postal Code', 'Borough', 'Neighborhood', 'Latitude', 'Longitude',\n",
       "       'Cluster Labels', '1st Most Common Venue', '2nd Most Common Venue',\n",
       "       '3rd Most Common Venue', '4th Most Common Venue',\n",
       "       '5th Most Common Venue', '6th Most Common Venue',\n",
       "       '7th Most Common Venue', '8th Most Common Venue',\n",
       "       '9th Most Common Venue', '10th Most Common Venue'],\n",
       "      dtype='object')"
      ]
     },
     "execution_count": 117,
     "metadata": {},
     "output_type": "execute_result"
    }
   ],
   "source": [
    "ctrltor_merged.keys()"
   ]
  },
  {
   "cell_type": "code",
   "execution_count": 119,
   "metadata": {},
   "outputs": [
    {
     "data": {
      "text/plain": [
       "array([0, 3, 1, 2, 4])"
      ]
     },
     "execution_count": 119,
     "metadata": {},
     "output_type": "execute_result"
    }
   ],
   "source": [
    "ctrltor_merged['Cluster Labels'].unique()"
   ]
  },
  {
   "cell_type": "markdown",
   "metadata": {},
   "source": [
    "#### Cluster 2"
   ]
  },
  {
   "cell_type": "code",
   "execution_count": 111,
   "metadata": {},
   "outputs": [
    {
     "data": {
      "text/html": [
       "<div>\n",
       "<style scoped>\n",
       "    .dataframe tbody tr th:only-of-type {\n",
       "        vertical-align: middle;\n",
       "    }\n",
       "\n",
       "    .dataframe tbody tr th {\n",
       "        vertical-align: top;\n",
       "    }\n",
       "\n",
       "    .dataframe thead th {\n",
       "        text-align: right;\n",
       "    }\n",
       "</style>\n",
       "<table border=\"1\" class=\"dataframe\">\n",
       "  <thead>\n",
       "    <tr style=\"text-align: right;\">\n",
       "      <th></th>\n",
       "      <th>Borough</th>\n",
       "      <th>Cluster Labels</th>\n",
       "      <th>1st Most Common Venue</th>\n",
       "      <th>2nd Most Common Venue</th>\n",
       "      <th>3rd Most Common Venue</th>\n",
       "      <th>4th Most Common Venue</th>\n",
       "      <th>5th Most Common Venue</th>\n",
       "      <th>6th Most Common Venue</th>\n",
       "      <th>7th Most Common Venue</th>\n",
       "      <th>8th Most Common Venue</th>\n",
       "      <th>9th Most Common Venue</th>\n",
       "      <th>10th Most Common Venue</th>\n",
       "    </tr>\n",
       "  </thead>\n",
       "  <tbody>\n",
       "    <tr>\n",
       "      <th>2</th>\n",
       "      <td>Central Toronto</td>\n",
       "      <td>1</td>\n",
       "      <td>Gym / Fitness Center</td>\n",
       "      <td>Park</td>\n",
       "      <td>Department Store</td>\n",
       "      <td>Dance Studio</td>\n",
       "      <td>Sandwich Place</td>\n",
       "      <td>Food &amp; Drink Shop</td>\n",
       "      <td>Dog Run</td>\n",
       "      <td>Breakfast Spot</td>\n",
       "      <td>Hotel</td>\n",
       "      <td>Garden</td>\n",
       "    </tr>\n",
       "    <tr>\n",
       "      <th>4</th>\n",
       "      <td>Central Toronto</td>\n",
       "      <td>1</td>\n",
       "      <td>Coffee Shop</td>\n",
       "      <td>Clothing Store</td>\n",
       "      <td>Salon / Barbershop</td>\n",
       "      <td>Furniture / Home Store</td>\n",
       "      <td>Ice Cream Shop</td>\n",
       "      <td>Fast Food Restaurant</td>\n",
       "      <td>Diner</td>\n",
       "      <td>Mexican Restaurant</td>\n",
       "      <td>Park</td>\n",
       "      <td>Chinese Restaurant</td>\n",
       "    </tr>\n",
       "    <tr>\n",
       "      <th>5</th>\n",
       "      <td>Central Toronto</td>\n",
       "      <td>1</td>\n",
       "      <td>Sandwich Place</td>\n",
       "      <td>Café</td>\n",
       "      <td>Coffee Shop</td>\n",
       "      <td>History Museum</td>\n",
       "      <td>Indian Restaurant</td>\n",
       "      <td>Donut Shop</td>\n",
       "      <td>Liquor Store</td>\n",
       "      <td>Middle Eastern Restaurant</td>\n",
       "      <td>Park</td>\n",
       "      <td>Pizza Place</td>\n",
       "    </tr>\n",
       "    <tr>\n",
       "      <th>6</th>\n",
       "      <td>Central Toronto</td>\n",
       "      <td>1</td>\n",
       "      <td>Dessert Shop</td>\n",
       "      <td>Pizza Place</td>\n",
       "      <td>Sandwich Place</td>\n",
       "      <td>Italian Restaurant</td>\n",
       "      <td>Coffee Shop</td>\n",
       "      <td>Sushi Restaurant</td>\n",
       "      <td>Café</td>\n",
       "      <td>Gym</td>\n",
       "      <td>Farmers Market</td>\n",
       "      <td>Indian Restaurant</td>\n",
       "    </tr>\n",
       "    <tr>\n",
       "      <th>8</th>\n",
       "      <td>Central Toronto</td>\n",
       "      <td>1</td>\n",
       "      <td>Coffee Shop</td>\n",
       "      <td>Restaurant</td>\n",
       "      <td>Vietnamese Restaurant</td>\n",
       "      <td>Fried Chicken Joint</td>\n",
       "      <td>Light Rail Station</td>\n",
       "      <td>Liquor Store</td>\n",
       "      <td>Pizza Place</td>\n",
       "      <td>Pub</td>\n",
       "      <td>American Restaurant</td>\n",
       "      <td>Bank</td>\n",
       "    </tr>\n",
       "  </tbody>\n",
       "</table>\n",
       "</div>"
      ],
      "text/plain": [
       "           Borough  Cluster Labels 1st Most Common Venue  \\\n",
       "2  Central Toronto               1  Gym / Fitness Center   \n",
       "4  Central Toronto               1           Coffee Shop   \n",
       "5  Central Toronto               1        Sandwich Place   \n",
       "6  Central Toronto               1          Dessert Shop   \n",
       "8  Central Toronto               1           Coffee Shop   \n",
       "\n",
       "  2nd Most Common Venue  3rd Most Common Venue   4th Most Common Venue  \\\n",
       "2                  Park       Department Store            Dance Studio   \n",
       "4        Clothing Store     Salon / Barbershop  Furniture / Home Store   \n",
       "5                  Café            Coffee Shop          History Museum   \n",
       "6           Pizza Place         Sandwich Place      Italian Restaurant   \n",
       "8            Restaurant  Vietnamese Restaurant     Fried Chicken Joint   \n",
       "\n",
       "  5th Most Common Venue 6th Most Common Venue 7th Most Common Venue  \\\n",
       "2        Sandwich Place     Food & Drink Shop               Dog Run   \n",
       "4        Ice Cream Shop  Fast Food Restaurant                 Diner   \n",
       "5     Indian Restaurant            Donut Shop          Liquor Store   \n",
       "6           Coffee Shop      Sushi Restaurant                  Café   \n",
       "8    Light Rail Station          Liquor Store           Pizza Place   \n",
       "\n",
       "       8th Most Common Venue 9th Most Common Venue 10th Most Common Venue  \n",
       "2             Breakfast Spot                 Hotel                 Garden  \n",
       "4         Mexican Restaurant                  Park     Chinese Restaurant  \n",
       "5  Middle Eastern Restaurant                  Park            Pizza Place  \n",
       "6                        Gym        Farmers Market      Indian Restaurant  \n",
       "8                        Pub   American Restaurant                   Bank  "
      ]
     },
     "execution_count": 111,
     "metadata": {},
     "output_type": "execute_result"
    }
   ],
   "source": [
    "ctrltor_merged.loc[ctrltor_merged['Cluster Labels'] == 1,ctrltor_merged.columns[[1] + list(range(5,ctrltor_merged.shape[1]))]]"
   ]
  },
  {
   "cell_type": "markdown",
   "metadata": {},
   "source": [
    "#### Cluster 3"
   ]
  },
  {
   "cell_type": "code",
   "execution_count": 112,
   "metadata": {},
   "outputs": [
    {
     "data": {
      "text/html": [
       "<div>\n",
       "<style scoped>\n",
       "    .dataframe tbody tr th:only-of-type {\n",
       "        vertical-align: middle;\n",
       "    }\n",
       "\n",
       "    .dataframe tbody tr th {\n",
       "        vertical-align: top;\n",
       "    }\n",
       "\n",
       "    .dataframe thead th {\n",
       "        text-align: right;\n",
       "    }\n",
       "</style>\n",
       "<table border=\"1\" class=\"dataframe\">\n",
       "  <thead>\n",
       "    <tr style=\"text-align: right;\">\n",
       "      <th></th>\n",
       "      <th>Borough</th>\n",
       "      <th>Cluster Labels</th>\n",
       "      <th>1st Most Common Venue</th>\n",
       "      <th>2nd Most Common Venue</th>\n",
       "      <th>3rd Most Common Venue</th>\n",
       "      <th>4th Most Common Venue</th>\n",
       "      <th>5th Most Common Venue</th>\n",
       "      <th>6th Most Common Venue</th>\n",
       "      <th>7th Most Common Venue</th>\n",
       "      <th>8th Most Common Venue</th>\n",
       "      <th>9th Most Common Venue</th>\n",
       "      <th>10th Most Common Venue</th>\n",
       "    </tr>\n",
       "  </thead>\n",
       "  <tbody>\n",
       "    <tr>\n",
       "      <th>3</th>\n",
       "      <td>Central Toronto</td>\n",
       "      <td>2</td>\n",
       "      <td>Park</td>\n",
       "      <td>Jewelry Store</td>\n",
       "      <td>Trail</td>\n",
       "      <td>Sushi Restaurant</td>\n",
       "      <td>Diner</td>\n",
       "      <td>Dog Run</td>\n",
       "      <td>Donut Shop</td>\n",
       "      <td>Farmers Market</td>\n",
       "      <td>Fast Food Restaurant</td>\n",
       "      <td>Yoga Studio</td>\n",
       "    </tr>\n",
       "  </tbody>\n",
       "</table>\n",
       "</div>"
      ],
      "text/plain": [
       "           Borough  Cluster Labels 1st Most Common Venue  \\\n",
       "3  Central Toronto               2                  Park   \n",
       "\n",
       "  2nd Most Common Venue 3rd Most Common Venue 4th Most Common Venue  \\\n",
       "3         Jewelry Store                 Trail      Sushi Restaurant   \n",
       "\n",
       "  5th Most Common Venue 6th Most Common Venue 7th Most Common Venue  \\\n",
       "3                 Diner               Dog Run            Donut Shop   \n",
       "\n",
       "  8th Most Common Venue 9th Most Common Venue 10th Most Common Venue  \n",
       "3        Farmers Market  Fast Food Restaurant            Yoga Studio  "
      ]
     },
     "execution_count": 112,
     "metadata": {},
     "output_type": "execute_result"
    }
   ],
   "source": [
    "ctrltor_merged.loc[ctrltor_merged['Cluster Labels'] == 2,ctrltor_merged.columns[[1] + list(range(5,ctrltor_merged.shape[1]))]]"
   ]
  },
  {
   "cell_type": "markdown",
   "metadata": {},
   "source": [
    "#### Cluster 4"
   ]
  },
  {
   "cell_type": "code",
   "execution_count": 113,
   "metadata": {},
   "outputs": [
    {
     "data": {
      "text/html": [
       "<div>\n",
       "<style scoped>\n",
       "    .dataframe tbody tr th:only-of-type {\n",
       "        vertical-align: middle;\n",
       "    }\n",
       "\n",
       "    .dataframe tbody tr th {\n",
       "        vertical-align: top;\n",
       "    }\n",
       "\n",
       "    .dataframe thead th {\n",
       "        text-align: right;\n",
       "    }\n",
       "</style>\n",
       "<table border=\"1\" class=\"dataframe\">\n",
       "  <thead>\n",
       "    <tr style=\"text-align: right;\">\n",
       "      <th></th>\n",
       "      <th>Borough</th>\n",
       "      <th>Cluster Labels</th>\n",
       "      <th>1st Most Common Venue</th>\n",
       "      <th>2nd Most Common Venue</th>\n",
       "      <th>3rd Most Common Venue</th>\n",
       "      <th>4th Most Common Venue</th>\n",
       "      <th>5th Most Common Venue</th>\n",
       "      <th>6th Most Common Venue</th>\n",
       "      <th>7th Most Common Venue</th>\n",
       "      <th>8th Most Common Venue</th>\n",
       "      <th>9th Most Common Venue</th>\n",
       "      <th>10th Most Common Venue</th>\n",
       "    </tr>\n",
       "  </thead>\n",
       "  <tbody>\n",
       "    <tr>\n",
       "      <th>1</th>\n",
       "      <td>Central Toronto</td>\n",
       "      <td>3</td>\n",
       "      <td>Garden</td>\n",
       "      <td>Music Venue</td>\n",
       "      <td>Yoga Studio</td>\n",
       "      <td>Gym / Fitness Center</td>\n",
       "      <td>Greek Restaurant</td>\n",
       "      <td>Gourmet Shop</td>\n",
       "      <td>Gas Station</td>\n",
       "      <td>Furniture / Home Store</td>\n",
       "      <td>Fried Chicken Joint</td>\n",
       "      <td>Food &amp; Drink Shop</td>\n",
       "    </tr>\n",
       "  </tbody>\n",
       "</table>\n",
       "</div>"
      ],
      "text/plain": [
       "           Borough  Cluster Labels 1st Most Common Venue  \\\n",
       "1  Central Toronto               3                Garden   \n",
       "\n",
       "  2nd Most Common Venue 3rd Most Common Venue 4th Most Common Venue  \\\n",
       "1           Music Venue           Yoga Studio  Gym / Fitness Center   \n",
       "\n",
       "  5th Most Common Venue 6th Most Common Venue 7th Most Common Venue  \\\n",
       "1      Greek Restaurant          Gourmet Shop           Gas Station   \n",
       "\n",
       "    8th Most Common Venue 9th Most Common Venue 10th Most Common Venue  \n",
       "1  Furniture / Home Store   Fried Chicken Joint      Food & Drink Shop  "
      ]
     },
     "execution_count": 113,
     "metadata": {},
     "output_type": "execute_result"
    }
   ],
   "source": [
    "ctrltor_merged.loc[ctrltor_merged['Cluster Labels'] == 3, ctrltor_merged.columns[[1] + list(range(5, ctrltor_merged.shape[1]))]]"
   ]
  },
  {
   "cell_type": "markdown",
   "metadata": {},
   "source": [
    "#### Cluster 5"
   ]
  },
  {
   "cell_type": "code",
   "execution_count": 114,
   "metadata": {},
   "outputs": [
    {
     "data": {
      "text/html": [
       "<div>\n",
       "<style scoped>\n",
       "    .dataframe tbody tr th:only-of-type {\n",
       "        vertical-align: middle;\n",
       "    }\n",
       "\n",
       "    .dataframe tbody tr th {\n",
       "        vertical-align: top;\n",
       "    }\n",
       "\n",
       "    .dataframe thead th {\n",
       "        text-align: right;\n",
       "    }\n",
       "</style>\n",
       "<table border=\"1\" class=\"dataframe\">\n",
       "  <thead>\n",
       "    <tr style=\"text-align: right;\">\n",
       "      <th></th>\n",
       "      <th>Borough</th>\n",
       "      <th>Cluster Labels</th>\n",
       "      <th>1st Most Common Venue</th>\n",
       "      <th>2nd Most Common Venue</th>\n",
       "      <th>3rd Most Common Venue</th>\n",
       "      <th>4th Most Common Venue</th>\n",
       "      <th>5th Most Common Venue</th>\n",
       "      <th>6th Most Common Venue</th>\n",
       "      <th>7th Most Common Venue</th>\n",
       "      <th>8th Most Common Venue</th>\n",
       "      <th>9th Most Common Venue</th>\n",
       "      <th>10th Most Common Venue</th>\n",
       "    </tr>\n",
       "  </thead>\n",
       "  <tbody>\n",
       "    <tr>\n",
       "      <th>7</th>\n",
       "      <td>Central Toronto</td>\n",
       "      <td>4</td>\n",
       "      <td>Playground</td>\n",
       "      <td>Trail</td>\n",
       "      <td>Department Store</td>\n",
       "      <td>Greek Restaurant</td>\n",
       "      <td>Gourmet Shop</td>\n",
       "      <td>Gas Station</td>\n",
       "      <td>Garden</td>\n",
       "      <td>Furniture / Home Store</td>\n",
       "      <td>Fried Chicken Joint</td>\n",
       "      <td>Food &amp; Drink Shop</td>\n",
       "    </tr>\n",
       "  </tbody>\n",
       "</table>\n",
       "</div>"
      ],
      "text/plain": [
       "           Borough  Cluster Labels 1st Most Common Venue  \\\n",
       "7  Central Toronto               4            Playground   \n",
       "\n",
       "  2nd Most Common Venue 3rd Most Common Venue 4th Most Common Venue  \\\n",
       "7                 Trail      Department Store      Greek Restaurant   \n",
       "\n",
       "  5th Most Common Venue 6th Most Common Venue 7th Most Common Venue  \\\n",
       "7          Gourmet Shop           Gas Station                Garden   \n",
       "\n",
       "    8th Most Common Venue 9th Most Common Venue 10th Most Common Venue  \n",
       "7  Furniture / Home Store   Fried Chicken Joint      Food & Drink Shop  "
      ]
     },
     "execution_count": 114,
     "metadata": {},
     "output_type": "execute_result"
    }
   ],
   "source": [
    "ctrltor_merged.loc[ctrltor_merged['Cluster Labels'] == 4, ctrltor_merged.columns[[1] + list(range(5, ctrltor_merged.shape[1]))]]"
   ]
  },
  {
   "cell_type": "code",
   "execution_count": null,
   "metadata": {},
   "outputs": [],
   "source": []
  }
 ],
 "metadata": {
  "kernelspec": {
   "display_name": "Python 3",
   "language": "python",
   "name": "python3"
  },
  "language_info": {
   "codemirror_mode": {
    "name": "ipython",
    "version": 3
   },
   "file_extension": ".py",
   "mimetype": "text/x-python",
   "name": "python",
   "nbconvert_exporter": "python",
   "pygments_lexer": "ipython3",
   "version": "3.8.3"
  }
 },
 "nbformat": 4,
 "nbformat_minor": 4
}
